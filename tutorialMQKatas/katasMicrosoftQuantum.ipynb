{
 "cells": [
  {
   "cell_type": "markdown",
   "id": "810a50d3",
   "metadata": {},
   "source": [
    "# Algebra lineal básica\n",
    "\n",
    "https://mega.nz/file/wmMVmLaS#Se2azB1d57mVXyoQYC5clSf-qowIAdrXKgyo_jHnfNc"
   ]
  },
  {
   "cell_type": "markdown",
   "id": "9d2850eb",
   "metadata": {},
   "source": [
    "# Aprender con learning microsof\n",
    "\n",
    "https://learn.microsoft.com/es-es/azure/quantum/concepts-vectors-and-matrices"
   ]
  },
  {
   "cell_type": "markdown",
   "id": "6db4e4e6",
   "metadata": {},
   "source": [
    "### Aprender con los katas de Microsfot Quantum\n",
    "\n",
    "https://quantum.microsoft.com/en-us/tools/quantum-katas"
   ]
  },
  {
   "cell_type": "markdown",
   "id": "3a07048a",
   "metadata": {},
   "source": [
    "# Suma de números complejos\n",
    "\n",
    "Entrada: dos números complejos x e y.\n",
    "\n",
    "- número complejo x= a + bi\n",
    "\n",
    "- número complejo y = c + di\n",
    "\n",
    "Objetivo: La suma de números complejos se realiza igual que la suma de polinomios. \n",
    "\n",
    "Se suman los coeficientes de las variables iguales, es decir, parte real se suma con parte real y parte imaginaria con parte imaginaria.\n",
    "\n",
    "En este caso:  z = x+y = (a+c)+(b+d)i    \n",
    "\n",
    "<img src=\"./images/sumaComplejos.PNG\"/>\n",
    "\n"
   ]
  },
  {
   "cell_type": "markdown",
   "id": "ad92e545",
   "metadata": {},
   "source": [
    "#### Ejemplo de un suma de complejos en python\n",
    "\n",
    "En python se utiliza j en lugar de i para los números complejos. "
   ]
  },
  {
   "cell_type": "code",
   "execution_count": 1,
   "id": "fd12fa8d",
   "metadata": {},
   "outputs": [
    {
     "name": "stdout",
     "output_type": "stream",
     "text": [
      "Resultado: (4+2j)\n",
      "Parte real: 4.0\n",
      "Parte imaginaria: 2.0\n"
     ]
    }
   ],
   "source": [
    "# Definir dos números complejos\n",
    "z1 = 3 + 4j   # 3 + 4i\n",
    "z2 = 1 - 2j   # 1 - 2i\n",
    "\n",
    "# Suma\n",
    "resultado = z1 + z2\n",
    "\n",
    "print(\"Resultado:\", resultado)\n",
    "print(\"Parte real:\", resultado.real)\n",
    "print(\"Parte imaginaria:\", resultado.imag)\n"
   ]
  },
  {
   "cell_type": "code",
   "execution_count": 2,
   "id": "0c924d45",
   "metadata": {},
   "outputs": [
    {
     "name": "stdout",
     "output_type": "stream",
     "text": [
      "(4+2j)\n"
     ]
    }
   ],
   "source": [
    "# sumamos dos números complejos creados con la funcion Complex de python\n",
    "\n",
    "z1 = complex(3, 4)\n",
    "z2 = complex(1, -2)\n",
    "print(z1 + z2)"
   ]
  },
  {
   "cell_type": "code",
   "execution_count": null,
   "id": "792ba1de",
   "metadata": {},
   "outputs": [],
   "source": [
    "%pip install matplotlib"
   ]
  },
  {
   "cell_type": "code",
   "execution_count": 3,
   "id": "a0fd7718",
   "metadata": {},
   "outputs": [
    {
     "data": {
      "image/png": "[encoded data removed]",
      "text/plain": [
       "<Figure size 640x480 with 1 Axes>"
      ]
     },
     "metadata": {},
     "output_type": "display_data"
    }
   ],
   "source": [
    "# Para dibujar los dos números complejos se puede utilizar la librería matplotlib.pyplot\n",
    "\n",
    "import matplotlib.pyplot as plt\n",
    "plt.scatter([z1.real], [z1.imag], color='blue', label='Número Complejo 1')\n",
    "plt.scatter([z2.real], [z2.imag], color='red', label='Número Complejo 2')\n",
    "plt.scatter([resultado.real], [resultado.imag], color='green', label='Suma de ambos')\n",
    "plt.xlabel('Parte Real')\n",
    "plt.ylabel('Parte Imaginaria')\n",
    "plt.legend()\n",
    "plt.grid(True)\n",
    "plt.show()    \n",
    "\n"
   ]
  },
  {
   "cell_type": "markdown",
   "id": "d3e8b200",
   "metadata": {},
   "source": [
    "#### Ejemplo de una suma de complejos en qiskit"
   ]
  },
  {
   "cell_type": "code",
   "execution_count": null,
   "id": "3ab6da68",
   "metadata": {},
   "outputs": [],
   "source": [
    "%pip install qiskit numpy"
   ]
  },
  {
   "cell_type": "code",
   "execution_count": 5,
   "id": "47f6313f",
   "metadata": {},
   "outputs": [
    {
     "name": "stdout",
     "output_type": "stream",
     "text": [
      "Resultado: (4+2j)\n",
      "Resultado con numpy: (4+2j)\n"
     ]
    }
   ],
   "source": [
    "from qiskit import QuantumCircuit\n",
    "import numpy as np\n",
    "\n",
    "# Números complejos como en Python\n",
    "z1 = 3 + 4j\n",
    "z2 = 1 - 2j\n",
    "\n",
    "# Suma\n",
    "resultado = z1 + z2\n",
    "print(\"Resultado:\", resultado)\n",
    "\n",
    "# También con numpy.complex128 si quieres ser explícito\n",
    "z1_np = np.complex128(3 + 4j)\n",
    "z2_np = np.complex128(1 - 2j)\n",
    "resultado_np = z1_np + z2_np\n",
    "print(\"Resultado con numpy:\", resultado_np)"
   ]
  },
  {
   "cell_type": "markdown",
   "id": "a2e786f6",
   "metadata": {},
   "source": [
    "# Multiplicación de números complejos\n",
    "\n",
    "Se multiplican los números complejos como se multiplican los polinomios. Es una multiplicación binómica.\n",
    "\n",
    "Primero se multiplica cada parte de uno por cada parte del otro. \n",
    "\n",
    "Dicho de otra manera se trata de distribuir cada término de un factor por todos los términos del otro:\n",
    "\n",
    "x = a + bi\n",
    "\n",
    "y = c + di    \n",
    "\n",
    "xy= a * (c + di) + bi * (c + di)  \n",
    "\n",
    "Sabiendo que i^2=-1 entonces:\n",
    "\n",
    "xy = ac + adi + bci - bd --> (bdi^2 = bd(-1) = -bc)\n",
    "\n",
    "Otra manera de hacer esta multiplicación es realiar la multiplicació de todos los términos entre sí, para luego\n",
    "agruparlos según sus partes reales e imaginarias.\n",
    "\n",
    "<img src=\"./images/multiplicacionComplejos.PNG\"/>\n"
   ]
  },
  {
   "cell_type": "markdown",
   "id": "35f27298",
   "metadata": {},
   "source": [
    "#### Ejemplo de una multiplicación de complejos en python"
   ]
  },
  {
   "cell_type": "code",
   "execution_count": 6,
   "id": "81708b68",
   "metadata": {},
   "outputs": [
    {
     "name": "stdout",
     "output_type": "stream",
     "text": [
      "El primer número complejo es: (2+3j)\n",
      "El segundo número complejo es: (5-1j)\n",
      "La multiplicación es: (13+13j)\n"
     ]
    }
   ],
   "source": [
    "# Primer numero complejo es el primero, z1, es 2 + 3i\n",
    "z1 = 2 + 3j\n",
    "\n",
    "# El segundo número, z2, es 5 - 1i\n",
    "z2 = 5 - 1j\n",
    "\n",
    "# Multiplicar los dos números complejos\n",
    "# La multiplicación se hace de la siguiente forma: (2 + 3j) * (5 - 1j)\n",
    "# = (2*5) + (2*-1j) + (3j*5) + (3j*-1j)\n",
    "# = 10 - 2j + 15j - 3j^2\n",
    "# Como j^2 = -1, la expresión se convierte en:\n",
    "# = 10 + 13j - 3*(-1)\n",
    "# = 10 + 13j + 3\n",
    "# = 13 + 13j\n",
    "producto = z1 * z2\n",
    "\n",
    "# Imprimir el resultado\n",
    "print(f\"El primer número complejo es: {z1}\")\n",
    "print(f\"El segundo número complejo es: {z2}\")\n",
    "print(f\"La multiplicación es: {producto}\")"
   ]
  },
  {
   "cell_type": "markdown",
   "id": "bd075043",
   "metadata": {},
   "source": [
    "# Conjugado de un número complejo \n",
    "\n",
    "El conjugado de un número complejo es aquel que tiene la misma parte real pero cambia el signo de su parte imaginaria. \n",
    "Por ejemplo, si tenemos el número complejo z = a + bi, su conjugado sería z* = a - bi.  \n",
    "\n",
    "Esto se hace para \n",
    "\n",
    "https://chatgpt.com/c/68ca9a5f-bbc0-832c-8b22-0344f89693e9"
   ]
  }
 ],
 "metadata": {
  "kernelspec": {
   "display_name": "CondaCodingWxMaximaEnvironment",
   "language": "python",
   "name": "python3"
  },
  "language_info": {
   "codemirror_mode": {
    "name": "ipython",
    "version": 3
   },
   "file_extension": ".py",
   "mimetype": "text/x-python",
   "name": "python",
   "nbconvert_exporter": "python",
   "pygments_lexer": "ipython3",
   "version": "3.13.5"
  }
 },
 "nbformat": 4,
 "nbformat_minor": 5
}
