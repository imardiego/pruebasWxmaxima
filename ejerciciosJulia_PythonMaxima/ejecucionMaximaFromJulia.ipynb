{
 "cells": [
  {
   "cell_type": "markdown",
   "id": "e733e885",
   "metadata": {},
   "source": [
    "# Mirar primero la última de mis preguntas antes de continuar en el chatgpt\n",
    "\n",
    "Con la limpieza del arranque de wsl2 y vscode me he cargado muchas cosas , quizas sea mejor comenzar de nuevo todo. "
   ]
  },
  {
   "cell_type": "markdown",
   "id": "3536a905",
   "metadata": {},
   "source": [
    "Alternativa (si no quieres depender de Snap): https://chatgpt.com/c/69051032-a39c-832f-9b29-843d3dac5ce1\n",
    "\n",
    "En WSL2 a veces Snap sigue siendo lento o problemático.\n",
    "Puedes instalar Julia directamente sin Snap:\n",
    "\n",
    "sudo apt update\n",
    "\n",
    "sudo apt install wget tar -y\n",
    "\n",
    "wget https://julialang-s3.julialang.org/bin/linux/x64/1.11/julia-1.11.2-linux-x86_64.tar.gz\n",
    "\n",
    "tar -xvzf julia-1.11.2-linux-x86_64.tar.gz\n",
    "\n",
    "sudo mv julia-1.11.2 /opt/\n",
    "\n",
    "sudo ln -s /opt/julia-1.11.2/bin/julia /usr/local/bin/julia\n",
    "\n"
   ]
  },
  {
   "cell_type": "markdown",
   "id": "2a022f17",
   "metadata": {},
   "source": [
    "# Julia\n",
    "\n",
    "Información sobre maxima y su ejecución bajo Julia."
   ]
  },
  {
   "cell_type": "markdown",
   "id": "e0d64b3d",
   "metadata": {},
   "source": [
    "# Como instalar Julia en Ubuntu\n",
    "\n",
    "**Para instalar Julia en ubuntu se debe ejecutar los siguientes comandos:**\n",
    "\n",
    "%sudo apt update\n",
    "\n",
    "\n",
    "%sudo apt install snapd -y\n",
    "%sudo systemctl enable --now snapd.\n",
    "# antes del enable --> esto que lo quité para aligerar vscode \n",
    "sudo systemctl unmask snapd.socket\n",
    "sudo systemctl unmask snapd.service\n",
    "sudo systemctl unmask snapd.seeded.service\n",
    "\n",
    "\n",
    "    \n",
    "%sudo snap install julia - -classic\n",
    "\n",
    "**Para ejecutar Julia:**\n",
    "\n",
    "%julia desde la terminal, se debe escribir: julia\n",
    "\n",
    "**Para instalar el kernell de Julia para Jupyter Notebook:** \n",
    "\n",
    "Desde VSCode: La extensión de Julia tiene un botón que permite instalar el kernel.\n",
    "\n",
    "Desde la terminal: \n",
    "\n",
    "      - $julia --> entramos en julia desde la terminal\n",
    "  \n",
    "      - using Pkg --> cargamos el paquete de Julia\n",
    "  \n",
    "      - Pkg.add(\"IJulia\") --> instalamos IJulia\n",
    "\n",
    "      - exit() --> salimos de julia \n",
    "      "
   ]
  },
  {
   "cell_type": "markdown",
   "id": "590ff20d",
   "metadata": {},
   "source": [
    "%python -m ipykernel install --user"
   ]
  },
  {
   "cell_type": "markdown",
   "id": "70c300c1",
   "metadata": {},
   "source": [
    "%pip install jupyter ipykernel"
   ]
  },
  {
   "cell_type": "markdown",
   "id": "925882ea",
   "metadata": {},
   "source": [
    "# Ejemplo de un programa en Julia con Kernel Julia\n",
    "\n",
    "Elegimos el kernel de Julia en el cuaderno de jupyter notebook: 1.12\n"
   ]
  },
  {
   "cell_type": "code",
   "execution_count": null,
   "id": "fda25060",
   "metadata": {},
   "outputs": [
    {
     "ename": "",
     "evalue": "",
     "output_type": "error",
     "traceback": [
      "\u001b[1;31mNo se pudo iniciar el Kernel. \n",
      "\u001b[1;31mVea el [registro] de Jupyter (command:jupyter.viewOutput) para obtener más detalles."
     ]
    }
   ],
   "source": [
    "A = randn() # Genera un número aleatorio (con o sin decimales)\n",
    "println(\"El número aleatorio es: \", A)\n",
    "\n",
    "if A > 0\n",
    "    println(\"A es positivo\")\n",
    "elseif A == 0\n",
    "    println(\"A es cero\")\n",
    "else\n",
    "    println(\"A es negativo\")\n",
    "end"
   ]
  },
  {
   "cell_type": "code",
   "execution_count": null,
   "id": "d940471e",
   "metadata": {},
   "outputs": [
    {
     "ename": "",
     "evalue": "",
     "output_type": "error",
     "traceback": [
      "\u001b[1;31mNo se pudo iniciar el Kernel. \n",
      "\u001b[1;31mVea el [registro] de Jupyter (command:jupyter.viewOutput) para obtener más detalles."
     ]
    }
   ],
   "source": [
    "suma = 5 + 3.14\n",
    "producto = 2 * suma\n",
    "println(\"La suma es: \", suma)\n",
    "println(\"El producto es: \", producto)"
   ]
  },
  {
   "cell_type": "markdown",
   "id": "7be43e32",
   "metadata": {},
   "source": [
    "# Ejecutar sentencias de maxima desde Julia\n"
   ]
  },
  {
   "cell_type": "markdown",
   "id": "f0af6b8e",
   "metadata": {},
   "source": [
    "#### 1.- Ejecutando un comando maxima (por línea de comandos) \n",
    "\n",
    "Utilizando una función read de julia que ejecuta el comando y captura el resultado. "
   ]
  },
  {
   "cell_type": "code",
   "execution_count": null,
   "id": "ed471cde",
   "metadata": {},
   "outputs": [
    {
     "name": "stdout",
     "output_type": "stream",
     "text": [
      "\n",
      "display2d:false\n",
      "false\n",
      "integrate(sin(x),x)\n",
      "-cos(x)\n",
      "\n"
     ]
    }
   ],
   "source": [
    "# Ejecutar una instrucción Maxima desde Julia\n",
    "cmd = `maxima --very-quiet -r \"display2d:false; integrate(sin(x),x);\"`\n",
    "resultado = read(cmd, String)  # capturar resultado como string\n",
    "println(resultado)"
   ]
  },
  {
   "cell_type": "markdown",
   "id": "97a1d5d2",
   "metadata": {},
   "source": [
    "#### 2.- Ejecutando varios comandos maxima. \n",
    "\n",
    "Abriendo una sesión , aplicando varios comandos y cerrando la sesión.  "
   ]
  },
  {
   "cell_type": "code",
   "execution_count": null,
   "id": "f87c1a7a",
   "metadata": {},
   "outputs": [
    {
     "name": "stdout",
     "output_type": "stream",
     "text": [
      "\n",
      "false\n",
      "-cos(x)\n",
      "\n"
     ]
    }
   ],
   "source": [
    "cmd = `maxima --very-quiet`\n",
    "proc = open(cmd, \"r+\")  # proceso interactivo sin kwargs\n",
    "\n",
    "# Enviar comandos\n",
    "write(proc, \"display2d:false;\\n\")\n",
    "write(proc, \"integrate(sin(x),x);\\n\")\n",
    "flush(proc)\n",
    "\n",
    "# Leer salida que haya en el buffer\n",
    "sleep(0.1)  # dar tiempo a maxima\n",
    "out = readavailable(proc)\n",
    "println(String(out))\n",
    "\n",
    "close(proc)\n"
   ]
  },
  {
   "cell_type": "markdown",
   "id": "0e5bd59a",
   "metadata": {},
   "source": [
    "Si es solo una orden: "
   ]
  },
  {
   "cell_type": "code",
   "execution_count": null,
   "id": "80eae619",
   "metadata": {},
   "outputs": [
    {
     "name": "stdout",
     "output_type": "stream",
     "text": [
      "\n",
      "display2d:false\n",
      "false\n",
      "integrate(sin(x),x)\n",
      "-cos(x)\n",
      "quit()\n",
      "\n"
     ]
    }
   ],
   "source": [
    "resultado = read(`maxima --very-quiet -r \"display2d:false;integrate(sin(x),x);quit();\"`, String)\n",
    "println(resultado)"
   ]
  },
  {
   "cell_type": "markdown",
   "id": "b0510dd4",
   "metadata": {},
   "source": [
    "### Otro ejemplo mediante la apertura y cierre de un proceso"
   ]
  },
  {
   "cell_type": "code",
   "execution_count": null,
   "id": "97f16078",
   "metadata": {},
   "outputs": [],
   "source": [
    "# Abrimos un proceso de maxima en modo interactivo\n",
    "max_proc = open(`maxima --very-quiet`, \"r+\")\n",
    "\n",
    "# Ahora max_proc es un stream bidireccional: podemos escribirle y leerle"
   ]
  },
  {
   "cell_type": "code",
   "execution_count": null,
   "id": "1f77fb6d",
   "metadata": {},
   "outputs": [],
   "source": [
    "# Enviamos un comando\n",
    "write(max_proc, \"2+2;\\n\") # escribir comando asignándolo a max_proc\n",
    "flush(max_proc) # flush"
   ]
  },
  {
   "cell_type": "code",
   "execution_count": null,
   "id": "895b6257",
   "metadata": {},
   "outputs": [
    {
     "name": "stdout",
     "output_type": "stream",
     "text": [
      "Salida de Maxima:\n",
      "                                       4\n",
      "\n"
     ]
    }
   ],
   "source": [
    "# Leemos la respuesta\n",
    "resp = readavailable(max_proc) |> String # |> significa \"pasa el resultado a\" String\n",
    "println(\"Salida de Maxima:\\n\", resp)"
   ]
  },
  {
   "cell_type": "code",
   "execution_count": null,
   "id": "1baf6e00",
   "metadata": {},
   "outputs": [
    {
     "name": "stdout",
     "output_type": "stream",
     "text": [
      "Salida de Maxima:\n",
      "                                   - cos(x)\n",
      "\n"
     ]
    }
   ],
   "source": [
    "# Otro comando (dentro del mismo proceso)\n",
    "write(max_proc, \"integrate(sin(x),x);\\n\")\n",
    "flush(max_proc)\n",
    "\n",
    "resp2 = readavailable(max_proc) |> String\n",
    "println(\"Salida de Maxima:\\n\", resp2)"
   ]
  },
  {
   "cell_type": "code",
   "execution_count": null,
   "id": "778ce896",
   "metadata": {},
   "outputs": [],
   "source": [
    "# Al terminar cerramos el proceso.\n",
    "close(max_proc)"
   ]
  },
  {
   "cell_type": "markdown",
   "id": "59321429",
   "metadata": {},
   "source": [
    "----"
   ]
  },
  {
   "cell_type": "markdown",
   "metadata": {},
   "source": [
    "# LO SIGUIENTE SE HA PROBADO, PERO NO HA FUNCIONADO\n"
   ]
  },
  {
   "cell_type": "markdown",
   "id": "e82e663f",
   "metadata": {},
   "source": [
    "### Ejemplo mediante la apertura de una sesión con maxima\n",
    "\n",
    "using Maxima\n",
    "\n",
    "mx= Maxima.Session()\n",
    "\n",
    "Definimos la puerta Hadamard\n",
    "\n",
    "H = mx.eval(\"1/sqrt(2) * matrix([1, 1], [1, -1])\")\n",
    "\n",
    "Estado inicial |0⟩\n",
    "\n",
    "ket0 = mx.eval(\"matrix([1], [0])\")\n",
    "\n",
    "Aplicamos la puerta Hadamard\n",
    "\n",
    "result = mx.eval(\"H . ket0\")\n",
    "\n",
    "println(\"Resultado simbólico de H|0⟩:\")\n",
    "\n",
    "println(result)\n",
    "\n",
    "**Este código no funciona**\n"
   ]
  },
  {
   "cell_type": "markdown",
   "id": "e0e7d906",
   "metadata": {},
   "source": [
    "**¿Por qué no funciona?**\n",
    "\n",
    "El paquete Maxima.jl actualmente no funciona con Julia 1.12 (ni con las versiones recientes como 1.10 o 1.11).\n",
    "\n",
    "Esto se debe a que no ha sido actualizado desde hace años y depende de interfaces antiguas (por ejemplo, PyCall o pipes de sistema) que rompen compatibilidad con las nuevas versiones de Julia.\n",
    "\n",
    "Maxima.jl fue creado para las versiones de Julia 1.4–1.6.\n",
    "\n",
    "La inicialización (Maxima.Session() o Maxima.open()), intenta lanzar el proceso de Maxima mediante run() y capturar su output de texto.\n",
    "\n",
    "En Julia ≥ 1.8, hubo cambios en cómo se gestionan los streams estándar y el I/O buffering, por lo que el proceso de Maxima nunca termina de inicializarse → se queda “colgado” en using Maxima o Maxima.Session()."
   ]
  },
  {
   "cell_type": "markdown",
   "id": "089fa531",
   "metadata": {},
   "source": [
    "**¿Qué es Maxima.jl?**\n",
    "\n",
    "Maxima.jl es (o fue) un paquete de Julia que sirve como puente entre el lenguaje Julia y el sistema algebraico Maxima.\n",
    "\n",
    "En otras palabras:\n",
    "\n",
    "Permite ejecutar comandos de Maxima directamente desde Julia y recibir los resultados como objetos de Julia.\n",
    "\n",
    "**¿Qué es Maxima?**\n",
    "\n",
    "Maxima es un sistema de álgebra computacional (CAS, Computer Algebra System) muy veterano y potente.\n",
    "Sirve para hacer:\n",
    "\n",
    "derivadas, integrales, simplificaciones simbólicas\n",
    "\n",
    "álgebra matricial y ecuaciones simbólicas\n",
    "\n",
    "series, límites, cálculo simbólico y numérico."
   ]
  },
  {
   "cell_type": "markdown",
   "id": "43b56d13",
   "metadata": {},
   "source": [
    "### Soluciones para el funcionamiento de la sesión maxima desde Julia\n",
    "\n",
    "**Opción 1: Usar Julia 1.6** \n",
    "\n",
    "Para poder utilizar Maxima.jl \n"
   ]
  },
  {
   "cell_type": "markdown",
   "id": "307c1c72",
   "metadata": {},
   "source": [
    "Desde el terminal, dentro del entorno de desarrollo. \n",
    "\n",
    "$juliaup add 1.6\n",
    "\n",
    "$juliaup default 1.6\n",
    "\n",
    "<img src=\"./images/julia1_6.PNG\" />\n",
    "\n",
    "\n",
    "**Para instalar juliaup que es un gestor de versiones oficiales de Julia:** \n",
    "\n",
    "$ curl -fsSL https://install.julialang.org | sh"
   ]
  },
  {
   "cell_type": "code",
   "execution_count": null,
   "id": "d6fbd038",
   "metadata": {},
   "outputs": [
    {
     "data": {
      "text/latex": [
       "Unrecognized magic \\texttt{\\%julia}.\n",
       "\n",
       "Julia does not use the IPython \\texttt{\\%magic} syntax.   To interact with the IJulia kernel, use \\texttt{IJulia.somefunction(...)}, for example.  Julia macros, string macros, and functions can be used to accomplish most of the other functionalities of IPython magics.\n",
       "\n"
      ],
      "text/markdown": [
       "Unrecognized magic `%julia`.\n",
       "\n",
       "Julia does not use the IPython `%magic` syntax.   To interact with the IJulia kernel, use `IJulia.somefunction(...)`, for example.  Julia macros, string macros, and functions can be used to accomplish most of the other functionalities of IPython magics.\n"
      ],
      "text/plain": [
       "  Unrecognized magic \u001b[36m%julia\u001b[39m.\n",
       "\n",
       "  Julia does not use the IPython \u001b[36m%magic\u001b[39m syntax. To interact with the IJulia\n",
       "  kernel, use \u001b[36mIJulia.somefunction(...)\u001b[39m, for example. Julia macros, string\n",
       "  macros, and functions can be used to accomplish most of the other\n",
       "  functionalities of IPython magics."
      ]
     },
     "metadata": {},
     "output_type": "display_data"
    }
   ],
   "source": [
    "%julia --version"
   ]
  },
  {
   "cell_type": "markdown",
   "id": "b94417c0",
   "metadata": {},
   "source": [
    "**Sigue sin funcionar: nos remite a  IPython magics**\n",
    "\n",
    "Unrecognized magic \\texttt{%julia}.\n",
    "\n",
    "Julia does not use the IPython \\texttt{%magic} syntax. To interact with the IJulia kernel, use \\texttt{IJulia.somefunction(...)}, for example. Julia macros, string macros, and functions can be used to accomplish most of the other functionalities of IPython magics."
   ]
  },
  {
   "cell_type": "markdown",
   "id": "c0b34833",
   "metadata": {},
   "source": [
    "----"
   ]
  },
  {
   "cell_type": "markdown",
   "id": "32ac7d64",
   "metadata": {},
   "source": [
    "# Continuamos con lo que sí funciona"
   ]
  },
  {
   "cell_type": "markdown",
   "id": "67ff41ab",
   "metadata": {},
   "source": [
    "### Ejecutar Maxima mediante una función y el read() de julia\n",
    "\n",
    "Nos comunicamos con Maxima por línea de comandos (más compatible con Julia moderna):\n",
    "\n",
    "**Problema:** Demasiado complicado."
   ]
  },
  {
   "cell_type": "code",
   "execution_count": null,
   "id": "926e2d05",
   "metadata": {},
   "outputs": [
    {
     "name": "stdout",
     "output_type": "stream",
     "text": [
      "\n",
      "expand((x+1)^5)\n",
      "                       5      4       3       2\n",
      "                      x  + 5 x  + 10 x  + 10 x  + 5 x + 1\n",
      "\n"
     ]
    }
   ],
   "source": [
    "# Esta es una de las versiones vistas arriba.\n",
    "\n",
    "function maxima(cmd::String)\n",
    "    read(`maxima --very-quiet --batch-string=\"$cmd;\"`, String)\n",
    "end\n",
    "\n",
    "println(maxima(\"expand((x+1)^5)\"))\n"
   ]
  },
  {
   "cell_type": "code",
   "execution_count": null,
   "id": "524013d2",
   "metadata": {},
   "outputs": [
    {
     "name": "stdout",
     "output_type": "stream",
     "text": [
      "\n",
      "diff(sin(x)^2,x)\n",
      "                                2 cos(x) sin(x)\n",
      "\n"
     ]
    },
    {
     "name": "stdout",
     "output_type": "stream",
     "text": [
      "\n",
      "integrate(exp(-x^2),x,0,inf)\n",
      "                                   sqrt(%pi)\n",
      "                                   ---------\n",
      "                                       2\n",
      "\n",
      "\n",
      "matrix([1,2],[3,4])\n",
      "                                   [ 1  2 ]\n",
      "                                   [      ]\n",
      "                                   [ 3  4 ]\n",
      "\n",
      "\n",
      "rectform(%e^(%i*%pi))\n",
      "                                      - 1\n",
      "\n"
     ]
    }
   ],
   "source": [
    "# Derivada simbólica\n",
    "println(maxima(\"diff(sin(x)^2, x)\"))\n",
    "\n",
    "# Integrales\n",
    "println(maxima(\"integrate(exp(-x^2), x, 0, inf)\"))\n",
    "\n",
    "# Matrices\n",
    "println(maxima(\"matrix([1,2],[3,4])\"))\n",
    "\n",
    "# Números complejos\n",
    "println(maxima(\"rectform(%e^(%i*%pi))\"))\n"
   ]
  },
  {
   "cell_type": "markdown",
   "id": "c812c040",
   "metadata": {},
   "source": [
    "### Celda mágica en Julia como la celda mágica de IPython: macro\n",
    "\n",
    "No existe en Julia la celda mágica, pero se puede generar algo igual o mejor mediante macros y un módulo.\n",
    "\n",
    "Podemos utilizar read() , dentro de una función. \n",
    "\n",
    "Los comandos maxima deben ir entre comillas. "
   ]
  },
  {
   "cell_type": "code",
   "execution_count": null,
   "id": "55ce7218",
   "metadata": {},
   "outputs": [
    {
     "data": {
      "text/plain": [
       "@maxima (macro with 1 method)"
      ]
     },
     "execution_count": 14,
     "metadata": {},
     "output_type": "execute_result"
    }
   ],
   "source": [
    "# Esta es una de las versiones vistas arriba.\n",
    "\n",
    "macro maxima(cmd::String)\n",
    "        println(read(`maxima --very-quiet --batch-string=\"$cmd;\"`, String))\n",
    "end\n"
   ]
  },
  {
   "cell_type": "code",
   "execution_count": null,
   "id": "a78c317e",
   "metadata": {},
   "outputs": [
    {
     "name": "stdout",
     "output_type": "stream",
     "text": [
      "\n",
      "expand((x+1)^5)\n",
      "                       5      4       3       2\n",
      "                      x  + 5 x  + 10 x  + 10 x  + 5 x + 1\n",
      "\n"
     ]
    }
   ],
   "source": [
    "@maxima \"expand((x+1)^5)\""
   ]
  },
  {
   "cell_type": "code",
   "execution_count": null,
   "id": "3e2b86c8",
   "metadata": {},
   "outputs": [
    {
     "name": "stdout",
     "output_type": "stream",
     "text": [
      "\n",
      "diff(x^2+sin(x),x)\n",
      "                                 cos(x) + 2 x\n",
      "\n"
     ]
    },
    {
     "name": "stdout",
     "output_type": "stream",
     "text": [
      "\n",
      "integrate(x^2,x)\n",
      "                                       3\n",
      "                                      x\n",
      "                                      --\n",
      "                                      3\n",
      "\n",
      "\n",
      "ratsimp((x^2-1)/(x-1))\n",
      "                                     x + 1\n",
      "\n"
     ]
    }
   ],
   "source": [
    "# Ejemplo 1: Derivada\n",
    "@maxima \"diff(x^2 + sin(x), x)\"\n",
    "\n",
    "# Ejemplo 2: Integral\n",
    "@maxima \"integrate(x^2, x)\"\n",
    "\n",
    "# Ejemplo 3: Simplificación\n",
    "@maxima \"ratsimp((x^2 - 1)/(x - 1))\""
   ]
  },
  {
   "cell_type": "markdown",
   "id": "205a5cc8",
   "metadata": {},
   "source": [
    "### La misma versión de macro : sin comillas\n",
    "\n",
    "Sin tener que encerrar el comando maxima entre comillas. \n",
    "\n",
    "**Problemas:** No mantiene la sesión, cada comando maxima abre y cierra la sesión\n",
    "\n",
    "Esto no permite utilizar el resultado de la expresión anterior."
   ]
  },
  {
   "cell_type": "code",
   "execution_count": null,
   "id": "b466b04f",
   "metadata": {},
   "outputs": [
    {
     "data": {
      "text/plain": [
       "@maxima (macro with 1 method)"
      ]
     },
     "execution_count": 24,
     "metadata": {},
     "output_type": "execute_result"
    }
   ],
   "source": [
    "macro maxima(expr)\n",
    "    cmd = replace(string(expr), \"\\\"\" => \"\\\\\\\"\")\n",
    "    print(\"💡\",read(`maxima --very-quiet --batch-string=\"$cmd;\"`, String))\n",
    "end"
   ]
  },
  {
   "cell_type": "code",
   "execution_count": null,
   "id": "73e0a2a1",
   "metadata": {},
   "outputs": [
    {
     "name": "stdout",
     "output_type": "stream",
     "text": [
      "💡\n",
      "sqrt(16)\n",
      "                                       4\n"
     ]
    }
   ],
   "source": [
    "@maxima sqrt(16)  # Debería imprimir 4)"
   ]
  },
  {
   "cell_type": "code",
   "execution_count": null,
   "id": "1b0cb4b0",
   "metadata": {},
   "outputs": [
    {
     "name": "stdout",
     "output_type": "stream",
     "text": [
      "💡\n",
      "a:5+3*2\n",
      "                                      11\n",
      "💡\n",
      "b:a+1\n",
      "                                     a + 1\n"
     ]
    }
   ],
   "source": [
    "@maxima a:5+3*2\n",
    "@maxima b:a+1"
   ]
  },
  {
   "cell_type": "code",
   "execution_count": null,
   "id": "72305259",
   "metadata": {},
   "outputs": [
    {
     "name": "stdout",
     "output_type": "stream",
     "text": [
      "💡\n",
      "diff(x^2+sin(x),x)\n",
      "                                 cos(x) + 2 x\n",
      "💡\n",
      "integrate(x^2,x)\n",
      "                                       3\n",
      "                                      x\n",
      "                                      --\n",
      "                                      3\n",
      "💡\n",
      "ratsimp((x^2-1)/(x-1))\n",
      "                                     x + 1\n",
      "💡\n",
      "integrate(exp(-x^2),x)\n",
      "                               sqrt(%pi) erf(x)\n",
      "                               ----------------\n",
      "                                      2\n"
     ]
    }
   ],
   "source": [
    "# Ejemplo 1: Derivada\n",
    "@maxima diff(x^2 + sin(x), x)\n",
    "\n",
    "# Ejemplo 2: Integral\n",
    "@maxima integrate(x^2, x)\n",
    "\n",
    "# Ejemplo 3: Simplificación\n",
    "@maxima ratsimp((x^2 - 1)/(x - 1))\n",
    "\n",
    "@maxima integrate(exp(-x^2),x)\n"
   ]
  },
  {
   "cell_type": "markdown",
   "id": "1f4347ea",
   "metadata": {},
   "source": [
    "#### Probamos algo de algebra lineal para ir adentrándonos en cuántica"
   ]
  },
  {
   "cell_type": "code",
   "execution_count": null,
   "id": "7a578ee6",
   "metadata": {},
   "outputs": [
    {
     "name": "stdout",
     "output_type": "stream",
     "text": [
      "💡\n",
      "H:(1/sqrt(2))*matrix([1,1],[1,-1])\n",
      "                            [    1         1     ]\n",
      "                            [ -------   -------  ]\n",
      "                            [ sqrt(2)   sqrt(2)  ]\n",
      "                            [                    ]\n",
      "                            [    1          1    ]\n",
      "                            [ -------  - ------- ]\n",
      "                            [ sqrt(2)    sqrt(2) ]\n",
      "💡\n",
      "I:ident(2)\n",
      "                                   [ 1  0 ]\n",
      "                                   [      ]\n",
      "                                   [ 0  1 ]\n"
     ]
    }
   ],
   "source": [
    "# Estado de Bell Φ⁺ \n",
    "@maxima H : 1/sqrt(2) * matrix([1, 1], [1, -1]); \n",
    "\n",
    "@maxima I : ident(2);"
   ]
  },
  {
   "cell_type": "markdown",
   "id": "5807b6c0",
   "metadata": {},
   "source": [
    "## Macro de celda con Julia\n",
    "\n",
    "**Problema: no tiene sesión continua, esto significa que cada comando se ejecuta en su propia sesión. \n",
    "\n",
    "No es posible guardar un resultado en una variable y guardarlo para operar con él con el siguiente\n",
    "\n",
    "comando enviado a maxima. \n",
    "\n"
   ]
  },
  {
   "cell_type": "code",
   "execution_count": null,
   "id": "74b0006c",
   "metadata": {},
   "outputs": [
    {
     "data": {
      "text/plain": [
       "@maxima_cell (macro with 1 method)"
      ]
     },
     "execution_count": 2,
     "metadata": {},
     "output_type": "execute_result"
    }
   ],
   "source": [
    "macro maxima_cell(ex)\n",
    "    cmds = String[]\n",
    "    if ex isa Expr && ex.head === :block\n",
    "        for stmt in ex.args\n",
    "            s = replace(string(stmt), r\"#=.*?=#\" => \"\") |> strip\n",
    "            s = replace(s, r\";+$\" => \"\") |> strip\n",
    "            !isempty(s) && push!(cmds, s)\n",
    "        end\n",
    "    else\n",
    "        s = replace(string(ex), r\"#=.*?=#\" => \"\") |> strip\n",
    "        s = replace(s, r\";+$\" => \"\") |> strip\n",
    "        !isempty(s) && push!(cmds, s)\n",
    "    end\n",
    "    for cmd in cmds\n",
    "        escaped = replace(cmd, \"\\\"\" => \"\\\\\\\"\")\n",
    "        out = read(`maxima --very-quiet --batch-string=\"$escaped;\"`, String)\n",
    "        #println(\"\\n💡 Comando: \", cmd)\n",
    "        #println(\"💡 Respuesta Maxima:\")\n",
    "        println(\"💡\",out)\n",
    "        #print(out)\n",
    "    end\n",
    "end\n",
    "\n"
   ]
  },
  {
   "cell_type": "code",
   "execution_count": null,
   "id": "dbef9778",
   "metadata": {},
   "outputs": [
    {
     "name": "stdout",
     "output_type": "stream",
     "text": [
      "💡\n",
      "a:5\n",
      "                                       5\n",
      "\n",
      "💡\n",
      "b:6\n",
      "                                       6\n",
      "\n",
      "💡\n",
      "c:a+b\n",
      "                                     b + a\n",
      "\n"
     ]
    }
   ],
   "source": [
    "# Esta forma de escribir dentro de una celda permite ejecutar varias instrucciones Maxima\n",
    "# pero cada una se envía por separado a Maxima en diferentes sesiones con lo que las variables no se conservan.\n",
    "@maxima_cell begin\n",
    "    a: 5;\n",
    "    b: 6; \n",
    "    c: a + b;\n",
    "end"
   ]
  },
  {
   "cell_type": "code",
   "execution_count": null,
   "id": "d7e87360",
   "metadata": {},
   "outputs": [
    {
     "name": "stdout",
     "output_type": "stream",
     "text": [
      "💡\n",
      "expand((x+1)^3)\n",
      "                               3      2\n",
      "                              x  + 3 x  + 3 x + 1\n",
      "\n"
     ]
    },
    {
     "name": "stdout",
     "output_type": "stream",
     "text": [
      "💡\n",
      "diff(sin(x)^2,x)\n",
      "                                2 cos(x) sin(x)\n",
      "\n",
      "💡\n",
      "integrate(exp(-x^2),x)\n",
      "                               sqrt(%pi) erf(x)\n",
      "                               ----------------\n",
      "                                      2\n",
      "\n",
      "💡\n",
      "H:(1/sqrt(2))*matrix([1,1],[1,-1])\n",
      "                            [    1         1     ]\n",
      "                            [ -------   -------  ]\n",
      "                            [ sqrt(2)   sqrt(2)  ]\n",
      "                            [                    ]\n",
      "                            [    1          1    ]\n",
      "                            [ -------  - ------- ]\n",
      "                            [ sqrt(2)    sqrt(2) ]\n",
      "\n",
      "💡\n",
      "I:ident(2)\n",
      "                                   [ 1  0 ]\n",
      "                                   [      ]\n",
      "                                   [ 0  1 ]\n",
      "\n"
     ]
    }
   ],
   "source": [
    "@maxima_cell begin\n",
    "    expand((x + 1)^3);\n",
    "    diff(sin(x)^2, x);\n",
    "    integrate(exp(-x^2), x);\n",
    "    H : 1/sqrt(2) * matrix([1, 1], [1, -1]); \n",
    "    I : ident(2);\n",
    "end\n"
   ]
  },
  {
   "cell_type": "markdown",
   "id": "828fb9b7",
   "metadata": {},
   "source": [
    "### Macro de celda manteniendo sesión\n",
    "\n",
    "https://chat.qwen.ai/c/dd864a81-59a0-4934-9acb-8469b94b3b70"
   ]
  },
  {
   "cell_type": "code",
   "execution_count": null,
   "id": "7b601c74",
   "metadata": {},
   "outputs": [
    {
     "data": {
      "text/plain": [
       "Main.MaximaMacro"
      ]
     },
     "execution_count": 1,
     "metadata": {},
     "output_type": "execute_result"
    }
   ],
   "source": [
    "module MaximaMacro\n",
    "\n",
    "export @maxima_session\n",
    "\n",
    "macro maxima_session(ex)\n",
    "    cmds = String[]\n",
    "    if ex isa Expr && ex.head === :block\n",
    "        for stmt in ex.args\n",
    "            cmd_str = \"\"\n",
    "            if stmt isa Expr && stmt.head === :(=)\n",
    "                try\n",
    "                    lhs = string(stmt.args[1])\n",
    "                    rhs = string(stmt.args[2])\n",
    "                    lhs = replace(lhs, r\"\\s+\" => \"\")\n",
    "                    rhs = replace(rhs, r\"\\s+\" => \"\")\n",
    "                    if !isempty(lhs) && !isempty(rhs)\n",
    "                        cmd_str = \"$(lhs):$(rhs)\"\n",
    "                    end\n",
    "                catch\n",
    "                end\n",
    "            else\n",
    "                s = string(stmt)\n",
    "                s = replace(s, r\"#=.+?=#\" => \"\")\n",
    "                s = replace(s, r\";+$\" => \"\")\n",
    "                s = replace(s, r\"\\s+\" => \"\")\n",
    "                if !isempty(s)\n",
    "                    cmd_str = s\n",
    "                end\n",
    "            end\n",
    "            if !isempty(cmd_str)\n",
    "                push!(cmds, cmd_str)\n",
    "            end\n",
    "        end\n",
    "    else\n",
    "        return :(nothing)\n",
    "    end\n",
    "\n",
    "    if isempty(cmds)\n",
    "        return :(nothing)\n",
    "    end\n",
    "\n",
    "    # ✅ Último comando con ;, los demás con $\n",
    "    n = length(cmds)\n",
    "    for i in 1:n\n",
    "        if i == n\n",
    "            cmds[i] *= \";\"\n",
    "        else\n",
    "            cmds[i] *= \"\\$\"\n",
    "        end\n",
    "    end\n",
    "\n",
    "    full_cmd = join(cmds, \"\")\n",
    "    output = read(`maxima --very-quiet --batch-string=\"$full_cmd\"`, String)\n",
    "    \n",
    "    # ✅ Extraer solo la parte del resultado (última línea no vacía útil)\n",
    "    lines = [strip(l) for l in split(output, '\\n') if !isempty(strip(l))]\n",
    "    if !isempty(lines)\n",
    "        # Tomar la última línea que parece un resultado\n",
    "        result = lines[end]\n",
    "        # Eliminar prefijo como (%o4) si existe\n",
    "        result = replace(result, r\"^\\s*$$%[io]\\d+$$\\s*\" => \"\")\n",
    "        println(result)\n",
    "    end\n",
    "    return nothing\n",
    "end\n",
    "\n",
    "end"
   ]
  },
  {
   "cell_type": "code",
   "execution_count": null,
   "id": "7a4baca6",
   "metadata": {},
   "outputs": [
    {
     "name": "stdout",
     "output_type": "stream",
     "text": [
      "log (5) + 1\n"
     ]
    }
   ],
   "source": [
    "using .MaximaMacro\n",
    "\n",
    "@maxima_session begin\n",
    "      t=log(5)\n",
    "      x=1\n",
    "      y=t^2 + x\n",
    "      y\n",
    "end"
   ]
  },
  {
   "cell_type": "code",
   "execution_count": null,
   "id": "e013b697",
   "metadata": {},
   "outputs": [
    {
     "name": "stdout",
     "output_type": "stream",
     "text": [
      "sin (3)\n"
     ]
    }
   ],
   "source": [
    "@maxima_session begin\n",
    "    x=3\n",
    "    y=sin(x)^2\n",
    "    y\n",
    "end"
   ]
  },
  {
   "cell_type": "markdown",
   "id": "4752050e",
   "metadata": {},
   "source": [
    "### Unimos la macro de línea de celda sin sesión y con sesión"
   ]
  },
  {
   "cell_type": "code",
   "execution_count": null,
   "id": "1761aecc",
   "metadata": {},
   "outputs": [
    {
     "data": {
      "text/plain": [
       "Main.MaximaMacro"
      ]
     },
     "execution_count": 2,
     "metadata": {},
     "output_type": "execute_result"
    }
   ],
   "source": [
    "module MaximaMacro \n",
    "\n",
    "export @maxima, @maxima_cell, @maxima_session\n",
    "\n",
    "macro maxima(expr)\n",
    "    cmd = replace(string(expr), \"\\\"\" => \"\\\\\\\"\")\n",
    "    print(\"💡\",read(`maxima --very-quiet --batch-string=\"$cmd;\"`, String))\n",
    "end\n",
    "\n",
    "\n",
    "macro maxima_cell(ex)\n",
    "    cmds = String[]\n",
    "    if ex isa Expr && ex.head === :block\n",
    "        for stmt in ex.args\n",
    "            s = replace(string(stmt), r\"#=.*?=#\" => \"\") |> strip\n",
    "            s = replace(s, r\";+$\" => \"\") |> strip\n",
    "            !isempty(s) && push!(cmds, s)\n",
    "        end\n",
    "    else\n",
    "        s = replace(string(ex), r\"#=.*?=#\" => \"\") |> strip\n",
    "        s = replace(s, r\";+$\" => \"\") |> strip\n",
    "        !isempty(s) && push!(cmds, s)\n",
    "    end\n",
    "    for cmd in cmds\n",
    "        escaped = replace(cmd, \"\\\"\" => \"\\\\\\\"\")\n",
    "        out = read(`maxima --very-quiet --batch-string=\"$escaped;\"`, String)\n",
    "        #println(\"\\n💡 Comando: \", cmd)\n",
    "        #println(\"💡 Respuesta Maxima:\")\n",
    "        println(\"💡\",out)\n",
    "        #print(out)\n",
    "    end\n",
    "end\n",
    "\n",
    "\n",
    "macro maxima_session(ex)\n",
    "    cmds = String[]\n",
    "    if ex isa Expr && ex.head === :block\n",
    "        for stmt in ex.args\n",
    "            cmd_str = \"\"\n",
    "            if stmt isa Expr && stmt.head === :(=)\n",
    "                try\n",
    "                    lhs = string(stmt.args[1])\n",
    "                    rhs = string(stmt.args[2])\n",
    "                    lhs = replace(lhs, r\"\\s+\" => \"\")\n",
    "                    rhs = replace(rhs, r\"\\s+\" => \"\")\n",
    "                    if !isempty(lhs) && !isempty(rhs)\n",
    "                        cmd_str = \"$(lhs):$(rhs)\"\n",
    "                    end\n",
    "                catch\n",
    "                end\n",
    "            else\n",
    "                s = string(stmt)\n",
    "                s = replace(s, r\"#=.+?=#\" => \"\")\n",
    "                s = replace(s, r\";+$\" => \"\")\n",
    "                s = replace(s, r\"\\s+\" => \"\")\n",
    "                if !isempty(s)\n",
    "                    cmd_str = s\n",
    "                end\n",
    "            end\n",
    "            if !isempty(cmd_str)\n",
    "                push!(cmds, cmd_str)\n",
    "            end\n",
    "        end\n",
    "    else\n",
    "        return :(nothing)\n",
    "    end\n",
    "\n",
    "    if isempty(cmds)\n",
    "        return :(nothing)\n",
    "    end\n",
    "\n",
    "    # ✅ Último comando con ;, los demás con $\n",
    "    n = length(cmds)\n",
    "    for i in 1:n\n",
    "        if i == n\n",
    "            cmds[i] *= \";\"\n",
    "        else\n",
    "            cmds[i] *= \"\\$\"\n",
    "        end\n",
    "    end\n",
    "\n",
    "    full_cmd = join(cmds, \"\")\n",
    "    output = read(`maxima --very-quiet --batch-string=\"$full_cmd\"`, String)\n",
    "    \n",
    "    # ✅ Extraer solo la parte del resultado (última línea no vacía útil)\n",
    "    lines = [strip(l) for l in split(output, '\\n') if !isempty(strip(l))]\n",
    "    if !isempty(lines)\n",
    "        # Tomar la última línea que parece un resultado\n",
    "        result = lines[end]\n",
    "        # Eliminar prefijo como (%o4) si existe\n",
    "        result = replace(result, r\"^\\s*$$%[io]\\d+$$\\s*\" => \"\")\n",
    "        println(result)\n",
    "    end\n",
    "    return nothing\n",
    "end\n",
    "\n",
    "end\n",
    "\n"
   ]
  },
  {
   "cell_type": "code",
   "execution_count": null,
   "id": "0f0e1a1a",
   "metadata": {},
   "outputs": [],
   "source": [
    "using .MaximaMacro"
   ]
  },
  {
   "cell_type": "code",
   "execution_count": null,
   "id": "d88bf529",
   "metadata": {},
   "outputs": [
    {
     "name": "stdout",
     "output_type": "stream",
     "text": [
      "💡\n",
      "diff(x^2+sin(x),x)\n",
      "                                 cos(x) + 2 x\n"
     ]
    }
   ],
   "source": [
    "# Comando único\n",
    "\n",
    "@maxima diff(x^2 + sin(x), x)"
   ]
  },
  {
   "cell_type": "code",
   "execution_count": null,
   "id": "7964bee3",
   "metadata": {},
   "outputs": [
    {
     "name": "stdout",
     "output_type": "stream",
     "text": [
      "💡\n",
      "expand((x+1)^3)\n",
      "                               3      2\n",
      "                              x  + 3 x  + 3 x + 1\n",
      "\n",
      "💡\n",
      "integrate(exp(-x^2),x)\n",
      "                               sqrt(%pi) erf(x)\n",
      "                               ----------------\n",
      "                                      2\n",
      "\n",
      "💡\n",
      "c:2\n",
      "                                       2\n",
      "\n",
      "💡\n",
      "d:5\n",
      "                                       5\n",
      "\n",
      "💡\n",
      "e:c+d\n",
      "                                     d + c\n",
      "\n"
     ]
    }
   ],
   "source": [
    "#Bloque sin sesión continua\n",
    "@maxima_cell begin\n",
    "    expand((x + 1)^3)\n",
    "    integrate(exp(-x^2), x)\n",
    "    c:2\n",
    "    d:5\n",
    "    e:c+d\n",
    "end"
   ]
  },
  {
   "cell_type": "code",
   "execution_count": null,
   "id": "917618da",
   "metadata": {},
   "outputs": [
    {
     "name": "stdout",
     "output_type": "stream",
     "text": [
      "30\n"
     ]
    }
   ],
   "source": [
    "# Bloque con sesión continua de variables\n",
    "\n",
    "@maxima_session begin\n",
    "    a = 5\n",
    "    b = a^2\n",
    "    c = a + b\n",
    "    c  # → 30\n",
    "end"
   ]
  },
  {
   "cell_type": "markdown",
   "id": "18e9f550",
   "metadata": {},
   "source": [
    "### Lo cargamos desde un fichero externo\n",
    "\n",
    "Debemos resetear el kernel para que no interfiera con el módulo cargado desde una celda anteriormente.\n",
    "\n",
    "Tomamos el módulo y lo metemos en el fichero MaximaMacro.jl"
   ]
  },
  {
   "cell_type": "code",
   "execution_count": null,
   "id": "2ac07cc5",
   "metadata": {},
   "outputs": [],
   "source": [
    "include(\"MaximaMacro.jl\")\n",
    "using .MaximaMacro"
   ]
  },
  {
   "cell_type": "code",
   "execution_count": null,
   "id": "0538489f",
   "metadata": {},
   "outputs": [
    {
     "name": "stdout",
     "output_type": "stream",
     "text": [
      "💡 diff(x^2+sin(x),x)\n",
      "                                 cos(x) + 2 x\n"
     ]
    }
   ],
   "source": [
    "@maxima diff(x^2 + sin(x), x)"
   ]
  },
  {
   "cell_type": "code",
   "execution_count": null,
   "id": "395bc63e",
   "metadata": {},
   "outputs": [
    {
     "name": "stdout",
     "output_type": "stream",
     "text": [
      "💡 expand((x+1)^3)\n",
      "                               3      2\n",
      "                              x  + 3 x  + 3 x + 1\n",
      "\n",
      "💡 integrate(exp(-x^2),x)\n",
      "                               sqrt(%pi) erf(x)\n",
      "                               ----------------\n",
      "                                      2\n",
      "\n",
      "💡 c:2\n",
      "                                       2\n",
      "\n",
      "💡 d:5\n",
      "                                       5\n",
      "\n",
      "💡 e:c+d\n",
      "                                     d + c\n",
      "\n"
     ]
    }
   ],
   "source": [
    "#Bloque sin sesión continua\n",
    "@maxima_cell begin\n",
    "    expand((x + 1)^3)\n",
    "    integrate(exp(-x^2), x)\n",
    "    c:2\n",
    "    d:5\n",
    "    e:c+d\n",
    "end"
   ]
  },
  {
   "cell_type": "code",
   "execution_count": null,
   "id": "ac653d54",
   "metadata": {},
   "outputs": [
    {
     "name": "stdout",
     "output_type": "stream",
     "text": [
      "💡 30\n"
     ]
    }
   ],
   "source": [
    "# Bloque con sesión continua de variables\n",
    "\n",
    "@maxima_session begin\n",
    "    a = 5\n",
    "    b = a^2\n",
    "    c = a + b\n",
    "    c  # → 30\n",
    "end"
   ]
  },
  {
   "cell_type": "markdown",
   "id": "02c3074d",
   "metadata": {},
   "source": [
    "### Función en Julia que devuelva el valor de un comando maxima\n",
    "\n",
    "De  forma que sea utilizable e integrable en un programa  maxima que tenga que hacer un cálculo en maxima\n",
    "\n",
    "y con ese  resultado se siga ejecutando el algoritmo del programa escrito en Julia"
   ]
  },
  {
   "cell_type": "markdown",
   "id": "3d07ff33",
   "metadata": {},
   "source": [
    "**Función maxima_eval()**"
   ]
  },
  {
   "cell_type": "code",
   "execution_count": null,
   "id": "ca88a036",
   "metadata": {},
   "outputs": [
    {
     "data": {
      "text/plain": [
       "maxima_eval_float (generic function with 1 method)"
      ]
     },
     "execution_count": 5,
     "metadata": {},
     "output_type": "execute_result"
    }
   ],
   "source": [
    "const _GCL_ENV = Dict(\n",
    "    \"GCL_MEM_MULTIPLE\" => \"0.3\",     # Usa solo el 30% de la RAM física\n",
    "    \"GCL_GC_PAGE_THRESH\" => \"0.2\",   # Inicia GC más temprano\n",
    "    \"GCL_GC_ALLOC_MIN\" => \"0.01\",    # Mínima asignación entre GCs\n",
    "    \"GCL_GC_PAGE_MAX\" => \"0.5\"       # Fuerza GC antes de llegar al 50% del heap\n",
    ")\n",
    "\n",
    "function maxima_eval(cmd::String)\n",
    "    cmd = strip(cmd)\n",
    "    if !endswith(cmd, \";\")\n",
    "        cmd *= \";\"\n",
    "    end\n",
    "        cmd *= \"\\n\" # Evita \"Premature termination\" en GCL\n",
    "    safe_cmd = replace(cmd, \"\\\"\" => \"\\\\\\\"\")\n",
    "    env = copy(ENV)\n",
    "    merge!(env, _GCL_ENV)\n",
    "    raw_output = read(setenv(`maxima --very-quiet --batch-string=\"$safe_cmd;\"`, env), String)\n",
    "    \n",
    "    # ✅ Eliminar caracteres no imprimibles (nulos, controles)\n",
    "    clean_output = filter(c -> c >= ' ' && c <= '~' || c == '\\n' || c == '\\r', raw_output)\n",
    "    \n",
    "    lines = [strip(l) for l in split(clean_output, '\\n') if !isempty(strip(l))]\n",
    "    \n",
    "    # ✅ Buscar la última línea que sea un número o expresión (no comando)\n",
    "    for i in length(lines):-1:1\n",
    "        l = lines[i]\n",
    "        # Si contiene :, es un comando (x:4)\n",
    "        # Si empieza con (, es un prompt (%o1)\n",
    "        if !contains(l, \":\") && !startswith(l, \"(\") && !startswith(l, \"incorrect syntax\") && \n",
    "           !startswith(l, \"batch(\") && l != \";\" && l != \"^\"\n",
    "           return l\n",
    "        end\n",
    "    end\n",
    "    return \"\"\n",
    "end\n",
    "\n",
    "\n",
    "function maxima_eval_float(cmd::String)\n",
    "    res = maxima_eval(cmd)\n",
    "    if res == \"\"\n",
    "        return res\n",
    "    end\n",
    "\n",
    "    try\n",
    "    # Intentar convertir a número\n",
    "        return parse(Float64, res)\n",
    "    catch\n",
    "    # Si falla, devolver el string original\n",
    "        return res\n",
    "    end\n",
    "end"
   ]
  },
  {
   "cell_type": "code",
   "execution_count": null,
   "id": "a0646aa6",
   "metadata": {},
   "outputs": [
    {
     "name": "stdout",
     "output_type": "stream",
     "text": [
      "cos(x) + 2 x\n",
      "2\n",
      "26\n"
     ]
    },
    {
     "data": {
      "text/plain": [
       "3.142857142857143"
      ]
     },
     "execution_count": 6,
     "metadata": {},
     "output_type": "execute_result"
    }
   ],
   "source": [
    "# Ejemplos\n",
    "println(maxima_eval(\"diff(x^2 + sin(x), x)\"))\n",
    "# → 2*x+cos(x)\n",
    "\n",
    "println(maxima_eval(\"integrate(exp(-x^2), x)\"))\n",
    "# → sqrt(%pi)*erf(x)/2\n",
    "\n",
    "x_val = maxima_eval(\"x:5; x^2 + 1\")\n",
    "println(x_val)  # → 26\n",
    "\n",
    "# Ejemplo de devolución numérica\n",
    "maxima_eval_float(\"float(22/7)\")  # → 3.142857142857143"
   ]
  },
  {
   "cell_type": "markdown",
   "id": "7e88e060",
   "metadata": {},
   "source": [
    "### Añadimos las funciones a nuestro módulo\n",
    "\n",
    "Utilizamos GCL GNU Common Lisp"
   ]
  },
  {
   "cell_type": "code",
   "execution_count": null,
   "id": "7951d610",
   "metadata": {},
   "outputs": [
    {
     "data": {
      "text/plain": [
       "Main.MaximaMacro"
      ]
     },
     "execution_count": 1,
     "metadata": {},
     "output_type": "execute_result"
    }
   ],
   "source": [
    "module MaximaMacro\n",
    "\n",
    "export @maxima, @maxima_cell, @maxima_session, maxima_eval, maxima_eval_float\n",
    "\n",
    "# Variables de entorno para GCL (según Camm Maguire, GCL developer)\n",
    "# Fuente: https://lists.gnu.org/archive/html/gcl-devel/2017-09/msg00000.html\n",
    "const _GCL_ENV = Dict(\n",
    "    \"GCL_MEM_MULTIPLE\" => \"0.3\",     # Usa solo el 30% de la RAM física\n",
    "    \"GCL_GC_PAGE_THRESH\" => \"0.2\",   # Inicia GC más temprano\n",
    "    \"GCL_GC_ALLOC_MIN\" => \"0.01\",    # Mínima asignación entre GCs\n",
    "    \"GCL_GC_PAGE_MAX\" => \"0.5\"       # Fuerza GC antes de llegar al 50% del heap\n",
    ")\n",
    "\n",
    "\n",
    "\"\"\"\n",
    "    maxima_eval(cmd::String)\n",
    "\n",
    "Ejecuta un comando de Maxima y devuelve el resultado como `String`.\n",
    "\n",
    "# Ejemplo\n",
    "\n",
    "maxima_eval(\"diff(x^2, x)\")  # → \"2*x\"\n",
    "maxima_eval(\"x:3; x^2+1\")  # → \"9\"\n",
    "\n",
    "\"\"\"\n",
    "\n",
    "\n",
    "function maxima_eval(cmd::String)\n",
    "    cmd = strip(cmd)\n",
    "    if !endswith(cmd, \";\")\n",
    "        cmd *= \";\"\n",
    "    end\n",
    "        cmd *= \"\\n\" # Evita \"Premature termination\" en GCL\n",
    "    safe_cmd = replace(cmd, \"\\\"\" => \"\\\\\\\"\")\n",
    "    env = copy(ENV)\n",
    "    merge!(env, _GCL_ENV)\n",
    "    raw_output = read(setenv(`maxima --very-quiet --batch-string=\"$safe_cmd;\"`, env), String)\n",
    "    \n",
    "    # ✅ Eliminar caracteres no imprimibles (nulos, controles)\n",
    "    clean_output = filter(c -> c >= ' ' && c <= '~' || c == '\\n' || c == '\\r', raw_output)\n",
    "    \n",
    "    lines = [strip(l) for l in split(clean_output, '\\n') if !isempty(strip(l))]\n",
    "    \n",
    "    # ✅ Buscar la última línea que sea un número o expresión (no comando)\n",
    "    for i in length(lines):-1:1\n",
    "        l = lines[i]\n",
    "        # Si contiene :, es un comando (x:4)\n",
    "        # Si empieza con (, es un prompt (%o1)\n",
    "        if !contains(l, \":\") && !startswith(l, \"(\") && !startswith(l, \"incorrect syntax\") && \n",
    "           !startswith(l, \"batch(\") && l != \";\" && l != \"^\"\n",
    "           return l\n",
    "        end\n",
    "    end\n",
    "    return \"\"\n",
    "end\n",
    "\n",
    "\"\"\"\n",
    "    maxima_eval_float(cmd::String)\n",
    "\n",
    "Ejecuta un comando de Maxima y devuelve el resultado como Float64 si es numérico.\n",
    "Si no es numérico, devuelve el resultado como String.\n",
    "\n",
    "# Ejemplo\n",
    "maxima_eval_float(\"float(22/7)\")      # → 3.142857142857143\n",
    "maxima_eval_float(\"sqrt(2)\")          # → \"sqrt(2)\" (no es numérico sin float())\n",
    "maxima_eval_float(\"float(sqrt(2))\")   # → 1.4142135623730951\"\n",
    "\n",
    "\"\"\"\n",
    "\n",
    "function maxima_eval_float(cmd::String)\n",
    "    res = maxima_eval(cmd)\n",
    "    if res == \"\"\n",
    "        return res\n",
    "    end\n",
    "\n",
    "    try\n",
    "    # Intentar convertir a número\n",
    "        return parse(Float64, res)\n",
    "    catch\n",
    "    # Si falla, devolver el string original\n",
    "        return res\n",
    "    end\n",
    "end\n",
    "\n",
    "\"\"\"\n",
    "@maxima expr\n",
    "\n",
    "Ejecuta un único comando de Maxima.\n",
    "\"\"\"\n",
    "macro maxima(expr)\n",
    "    cmd_str=string(expr)\n",
    "    escaped_cmd = replace(cmd_str, \"\\\"\" => \"\\\\\\\"\")\n",
    "    out=read(`maxima --very-quiet --batch-string=\"$escaped_cmd;\"`, String)\n",
    "    #println(\"DEBUG: Salida = \", repr(out[2:end])) # Depuración\n",
    "    out=out[2:end] # Eliminar el primer carácter de nueva línea\n",
    "    print(\"💡 \", out)\n",
    "end\n",
    "\n",
    "\"\"\"\n",
    "@maxima_cell begin ... end\n",
    "\n",
    "Ejecuta varios comandos, cada uno en su propia instancia.\n",
    "\"\"\"\n",
    "macro maxima_cell(ex)\n",
    "    cmds = String[]\n",
    "    if ex isa Expr && ex.head === :block\n",
    "        for stmt in ex.args\n",
    "            s = replace(string(stmt), r\"#=.+?=#\" => \"\") |> strip\n",
    "            s = replace(s, r\";+$\" => \"\") |> strip\n",
    "            !isempty(s) && push!(cmds, s)\n",
    "        end\n",
    "    else\n",
    "        s = replace(string(ex), r\"#=.+?=#\" => \"\") |> strip\n",
    "        s = replace(s, r\";+$\" => \"\") |> strip\n",
    "        !isempty(s) && push!(cmds, s)\n",
    "    end\n",
    "    for cmd in cmds\n",
    "        escaped = replace(cmd, \"\\\"\" => \"\\\\\\\"\")\n",
    "        out = read(`maxima --very-quiet --batch-string=\"$escaped;\"`, String)\n",
    "        out=(out[2:end]) # Eliminar el primer carácter de nueva línea\n",
    "        println(\"💡 \", out)\n",
    "    end\n",
    "end\n",
    "\n",
    "\"\"\"\n",
    "@maxima_session begin ... end\n",
    "\n",
    "Ejecuta un bloque en una única sesión (estado persistente).\n",
    "\"\"\"\n",
    "macro maxima_session(ex)\n",
    "    cmds = String[]\n",
    "    if ex isa Expr && ex.head === :block\n",
    "        for stmt in ex.args\n",
    "            cmd_str = \"\"\n",
    "            if stmt isa Expr && stmt.head === :(=)\n",
    "                try\n",
    "                    lhs = string(stmt.args[1])\n",
    "                    rhs = string(stmt.args[2])\n",
    "                    lhs = replace(lhs, r\"\\s+\" => \"\")\n",
    "                    rhs = replace(rhs, r\"\\s+\" => \"\")\n",
    "                    if !isempty(lhs) && !isempty(rhs)\n",
    "                        cmd_str = \"$(lhs):$(rhs);\"\n",
    "                    end\n",
    "                catch\n",
    "                end\n",
    "            else\n",
    "                s = string(stmt)\n",
    "                s = replace(s, r\"#=.+?=#\" => \"\")\n",
    "                s = replace(s, r\";+$\" => \"\")\n",
    "                s = replace(s, r\"\\s+\" => \"\")\n",
    "                if !isempty(s)\n",
    "                    cmd_str = s * \";\"\n",
    "                end\n",
    "            end\n",
    "            if !isempty(cmd_str)\n",
    "                push!(cmds, cmd_str)\n",
    "            end\n",
    "        end\n",
    "    else\n",
    "        return :(nothing)\n",
    "    end\n",
    "\n",
    "    if isempty(cmds)\n",
    "        return :(nothing)\n",
    "    end\n",
    "\n",
    "    full_cmd = join(cmds, \" \")\n",
    "    escaped_cmd = replace(full_cmd, \"\\\"\" => \"\\\\\\\"\")\n",
    "    \n",
    "    # Depuración\n",
    "    #println(\"DEBUG: Comando = \", repr(full_cmd))\n",
    "    \n",
    "    output = read(`maxima --very-quiet --batch-string=\"$escaped_cmd\"`, String)\n",
    "    #println(\"DEBUG: Salida = \", repr(output))\n",
    "    \n",
    "    # Extraer el último resultado numérico o simbólico\n",
    "    lines = [strip(l) for l in split(output, '\\n') if !isempty(strip(l))]\n",
    "    # Tomar la última línea que NO es un comando (no contiene :)\n",
    "    for i in length(lines):-1:1\n",
    "        if !contains(lines[i], \":\") && !startswith(lines[i], \"(\")\n",
    "            println(\"💡 \",lines[i])\n",
    "            return nothing\n",
    "        end\n",
    "    end\n",
    "    if !isempty(lines)\n",
    "        println(lines[end])\n",
    "    end\n",
    "    return nothing\n",
    "end\n",
    "\n",
    "end # module MaximaMacro"
   ]
  },
  {
   "cell_type": "code",
   "execution_count": null,
   "id": "46321437",
   "metadata": {},
   "outputs": [],
   "source": [
    "using .MaximaMacro"
   ]
  },
  {
   "cell_type": "code",
   "execution_count": null,
   "id": "31c70f6d",
   "metadata": {},
   "outputs": [
    {
     "name": "stdout",
     "output_type": "stream",
     "text": [
      "💡 diff(x^2+sin(x),x)\n",
      "                                 cos(x) + 2 x\n"
     ]
    }
   ],
   "source": [
    "@maxima diff(x^2 + sin(x), x)"
   ]
  },
  {
   "cell_type": "code",
   "execution_count": null,
   "id": "9c1c1be5",
   "metadata": {},
   "outputs": [
    {
     "name": "stdout",
     "output_type": "stream",
     "text": [
      "💡 sin(3)^2\n",
      "                                       2\n",
      "                                    sin (3)\n"
     ]
    }
   ],
   "source": [
    "@maxima (sin(3))^2"
   ]
  },
  {
   "cell_type": "code",
   "execution_count": null,
   "id": "f6ed0e7a",
   "metadata": {},
   "outputs": [
    {
     "name": "stdout",
     "output_type": "stream",
     "text": [
      "💡 expand((x+1)^3)\n",
      "                               3      2\n",
      "                              x  + 3 x  + 3 x + 1\n",
      "\n",
      "💡 integrate(exp(-x^2),x)\n",
      "                               sqrt(%pi) erf(x)\n",
      "                               ----------------\n",
      "                                      2\n",
      "\n",
      "💡 c:2\n",
      "                                       2\n",
      "\n",
      "💡 d:5\n",
      "                                       5\n",
      "\n",
      "💡 e:c+d\n",
      "                                     d + c\n",
      "\n"
     ]
    }
   ],
   "source": [
    "@maxima_cell begin\n",
    "    expand((x + 1)^3)\n",
    "    integrate(exp(-x^2), x)\n",
    "    c:2\n",
    "    d:5\n",
    "    e:c+d\n",
    "end"
   ]
  },
  {
   "cell_type": "code",
   "execution_count": null,
   "id": "46e0af96",
   "metadata": {},
   "outputs": [
    {
     "name": "stdout",
     "output_type": "stream",
     "text": [
      "=== 1. maxima_eval (resultado simbólico) ===\n",
      "💡 ∫ x² dx = 3\n"
     ]
    }
   ],
   "source": [
    "println(\"=== 1. maxima_eval (resultado simbólico) ===\")\n",
    "res = maxima_eval(\"integrate(x^2, x)\")\n",
    "println(\"💡 ∫ x² dx = \", res)\n"
   ]
  },
  {
   "cell_type": "code",
   "execution_count": null,
   "id": "574cb9ed",
   "metadata": {},
   "outputs": [
    {
     "name": "stdout",
     "output_type": "stream",
     "text": [
      "\n",
      "=== 2. maxima_eval_float (resultado numérico) ===\n",
      "💡 22/7 ≈ 3.142857142857143\n"
     ]
    }
   ],
   "source": [
    "println(\"\\n=== 2. maxima_eval_float (resultado numérico) ===\")\n",
    "num = maxima_eval_float(\"float(22/7)\")\n",
    "println(\"💡 22/7 ≈ \", num)"
   ]
  },
  {
   "cell_type": "code",
   "execution_count": null,
   "id": "14fe309c",
   "metadata": {},
   "outputs": [
    {
     "name": "stdout",
     "output_type": "stream",
     "text": [
      "\n",
      "=== 3. maxima_eval con asignación ===\n",
      "💡 x² + 1 con x=4 → 17\n"
     ]
    }
   ],
   "source": [
    "println(\"\\n=== 3. maxima_eval con asignación ===\")\n",
    "val = maxima_eval(\"x:4; print(x^2 + 1);\")\n",
    "println(\"💡 x² + 1 con x=4 → \", val)"
   ]
  },
  {
   "cell_type": "code",
   "execution_count": null,
   "id": "d4b554fe",
   "metadata": {},
   "outputs": [
    {
     "name": "stdout",
     "output_type": "stream",
     "text": [
      "💡 Resultado: '17'\n"
     ]
    }
   ],
   "source": [
    "val = maxima_eval(\"x:4; print(x^2 + 1);\")\n",
    "println(\"💡 Resultado: '\", val, \"'\")"
   ]
  },
  {
   "cell_type": "code",
   "execution_count": null,
   "id": "6e487b34",
   "metadata": {},
   "outputs": [
    {
     "name": "stdout",
     "output_type": "stream",
     "text": [
      "\n",
      "=== 4. maxima_eval_float con expresión no numérica ===\n",
      "💡 sqrt(2) sin float() → sqrt(2)\n"
     ]
    }
   ],
   "source": [
    "println(\"\\n=== 4. maxima_eval_float con expresión no numérica ===\")\n",
    "sym = maxima_eval_float(\"sqrt(2)\")\n",
    "println(\"💡 sqrt(2) sin float() → \", sym)"
   ]
  },
  {
   "cell_type": "code",
   "execution_count": null,
   "id": "8e0f67e0",
   "metadata": {},
   "outputs": [
    {
     "name": "stdout",
     "output_type": "stream",
     "text": [
      "\n",
      "=== 5. @maxima_session (sesión con estado) ===\n"
     ]
    },
    {
     "name": "stdout",
     "output_type": "stream",
     "text": [
      "💡 30\n"
     ]
    }
   ],
   "source": [
    "println(\"\\n=== 5. @maxima_session (sesión con estado) ===\")\n",
    "@maxima_session begin\n",
    "    a = 5\n",
    "    b = a^2\n",
    "    c = a + b\n",
    "    c\n",
    "end"
   ]
  },
  {
   "cell_type": "markdown",
   "id": "bdb8ce71",
   "metadata": {},
   "source": [
    "# Versión @maxima_session_qm begin     quotations marks\n",
    "\n",
    "Veamos como funciona una versión de session que envía los comandos con comillas\n",
    "\n",
    "Con esto no tenemos que crear un DSL para traducir de lo que escribimos y que parsea Julia para que lo cambie \n",
    "\n",
    "y lo interprete bien maxima, ya que entre comillas se envía el comando a maxima sin tocar. \n",
    "\n",
    "Solo puede fallar si es escribe mal el comando. \n"
   ]
  },
  {
   "cell_type": "code",
   "execution_count": null,
   "id": "72ee6091",
   "metadata": {},
   "outputs": [
    {
     "data": {
      "text/plain": [
       "@maxima_session_qm (macro with 1 method)"
      ]
     },
     "execution_count": 4,
     "metadata": {},
     "output_type": "execute_result"
    }
   ],
   "source": [
    "const _GCL_ENV = Dict(\n",
    "    \"GCL_MEM_MULTIPLE\" => \"0.3\",     # Usa solo el 30% de la RAM física\n",
    "    \"GCL_GC_PAGE_THRESH\" => \"0.2\",   # Inicia GC más temprano\n",
    "    \"GCL_GC_ALLOC_MIN\" => \"0.01\",    # Mínima asignación entre GCs\n",
    "    \"GCL_GC_PAGE_MAX\" => \"0.5\"       # Fuerza GC antes de llegar al 50% del heap\n",
    ")\n",
    "macro maxima_session_qm(ex)\n",
    "    cmds = String[]\n",
    "    \n",
    "    # Función recursiva para extraer todas las cadenas de una expresión\n",
    "    function extract_strings(e)\n",
    "        if e isa String\n",
    "            push!(cmds, e)\n",
    "        elseif e isa Expr\n",
    "            if e.head === :string\n",
    "                push!(cmds, eval(e))\n",
    "            elseif e.head === :macrocall\n",
    "                # Extraer de Core.@doc \"...\"\n",
    "                for arg in e.args\n",
    "                    extract_strings(arg)\n",
    "                end\n",
    "            elseif e.head === :block\n",
    "                for arg in e.args\n",
    "                    extract_strings(arg)\n",
    "                end\n",
    "            else\n",
    "                # Buscar cadenas en argumentos\n",
    "                for arg in e.args\n",
    "                    extract_strings(arg)\n",
    "                end\n",
    "            end\n",
    "        end\n",
    "    end\n",
    "\n",
    "    extract_strings(ex)\n",
    "\n",
    "    if isempty(cmds)\n",
    "        error(\"Usa comillas: @maxima_session begin \\\"comando\\\" end\")\n",
    "    end\n",
    "\n",
    "    # Construir script para Maxima\n",
    "    script_lines = [cmd * \";\" for cmd in cmds]\n",
    "    full_script = join(script_lines, \" \") * \"\\n\"\n",
    "    escaped_script = replace(full_script, \"\\\"\" => \"\\\\\\\"\")\n",
    "    \n",
    "    # Variables de GCL (Camm Maguire, 2017)\n",
    "    env = copy(ENV)\n",
    "    env[\"GCL_MEM_MULTIPLE\"] = \"0.3\"     # 30% de RAM\n",
    "    env[\"GCL_GC_PAGE_THRESH\"] = \"0.2\"\n",
    "    env[\"GCL_GC_ALLOC_MIN\"] = \"0.01\"\n",
    "    env[\"GCL_GC_PAGE_MAX\"] = \"0.5\"\n",
    "    \n",
    "    output = read(setenv(`maxima --very-quiet --batch-string=\"$escaped_script;\"`, env), String)\n",
    "    \n",
    "    # Mostrar último resultado útil (ignorar definiciones)\n",
    "    lines = [strip(l) for l in split(output, '\\n') if !isempty(strip(l))]\n",
    "    for i in length(lines):-1:1\n",
    "        l = lines[i]\n",
    "        if !startswith(l, \"batch(\") &&\n",
    "           !contains(l, \"read and interpret\") &&\n",
    "           !startswith(l, \"incorrect syntax\") &&\n",
    "           !contains(l, \"Premature termination\") &&\n",
    "           !contains(l, \":=\") &&   # Ignorar f(x) := ...\n",
    "           l != \";\" &&\n",
    "           l != \"^\"\n",
    "            println(\"💡 \", l)\n",
    "            return nothing\n",
    "        end\n",
    "    end\n",
    "    println(\"💡 ^\")\n",
    "end"
   ]
  },
  {
   "cell_type": "code",
   "execution_count": null,
   "id": "2dddef6f",
   "metadata": {},
   "outputs": [
    {
     "name": "stdout",
     "output_type": "stream",
     "text": [
      "💡 (x - 1)  (x + 2)\n"
     ]
    }
   ],
   "source": [
    "@maxima_session begin\n",
    "    \"f(x) := x^3 - 3*x + 2\"\n",
    "    \"factor(f(x))\"\n",
    "end"
   ]
  },
  {
   "cell_type": "markdown",
   "id": "6048fd14",
   "metadata": {},
   "source": [
    "**No podríamos poner \"display2:false por defecto? "
   ]
  },
  {
   "cell_type": "code",
   "execution_count": null,
   "id": "7e5f48af",
   "metadata": {},
   "outputs": [
    {
     "name": "stdout",
     "output_type": "stream",
     "text": [
      "💡 (x-1)^2*(x+2)\n"
     ]
    }
   ],
   "source": [
    "\n",
    "@maxima_session begin\n",
    "    \"display2d:false\"\n",
    "    \"f(x) := x^3 - 3*x + 2\"\n",
    "    \"factor(f(x))\"\n",
    "end"
   ]
  },
  {
   "cell_type": "markdown",
   "id": "099a346d",
   "metadata": {},
   "source": [
    "**Sin begin y end**"
   ]
  },
  {
   "cell_type": "code",
   "execution_count": null,
   "id": "a10b40a2",
   "metadata": {},
   "outputs": [
    {
     "data": {
      "text/plain": [
       "@maxima_session (macro with 1 method)"
      ]
     },
     "execution_count": 7,
     "metadata": {},
     "output_type": "execute_result"
    }
   ],
   "source": [
    "const _GCL_ENV = Dict(\n",
    "    \"GCL_MEM_MULTIPLE\" => \"0.3\",     # Usa solo el 30% de la RAM física\n",
    "    \"GCL_GC_PAGE_THRESH\" => \"0.2\",   # Inicia GC más temprano\n",
    "    \"GCL_GC_ALLOC_MIN\" => \"0.01\",    # Mínima asignación entre GCs\n",
    "    \"GCL_GC_PAGE_MAX\" => \"0.5\"       # Fuerza GC antes de llegar al 50% del heap\n",
    ")\n",
    "\n",
    "macro maxima_session(cmds...)\n",
    "    # cmds es una tupla de cadenas\n",
    "    script = join([cmd * \";\" for cmd in cmds], \" \") * \"\\n\"\n",
    "    escaped = replace(script, \"\\\"\" => \"\\\\\\\"\")\n",
    "    \n",
    "    # Variables de GCL (Camm Maguire, 2017)\n",
    "    env = copy(ENV)\n",
    "    env[\"GCL_MEM_MULTIPLE\"] = \"0.3\"\n",
    "    env[\"GCL_GC_PAGE_THRESH\"] = \"0.2\"\n",
    "    env[\"GCL_GC_ALLOC_MIN\"] = \"0.01\"\n",
    "    env[\"GCL_GC_PAGE_MAX\"] = \"0.5\"\n",
    "    \n",
    "    output = read(setenv(`maxima --very-quiet --batch-string=\"$escaped;\"`, env), String)\n",
    "    \n",
    "    # Mostrar último resultado útil\n",
    "    lines = [strip(l) for l in split(output, '\\n') if !isempty(strip(l))]\n",
    "    for i in length(lines):-1:1\n",
    "        l = lines[i]\n",
    "        if !startswith(l, \"batch(\") && !contains(l, \"read and interpret\") && \n",
    "           !startswith(l, \"incorrect syntax\") && l != \";\" && l != \"^\"\n",
    "            println(\"💡 \", l)\n",
    "            return\n",
    "        end\n",
    "    end\n",
    "    println(\"💡 ^\")\n",
    "end"
   ]
  },
  {
   "cell_type": "code",
   "execution_count": null,
   "id": "d125be13",
   "metadata": {},
   "outputs": [
    {
     "name": "stdout",
     "output_type": "stream",
     "text": [
      "💡 (x-1)^2*(x+2)\n"
     ]
    }
   ],
   "source": [
    "@maxima_session(\n",
    "    \"display2d:false\",\n",
    "    \"f(x) := x^3 - 3*x + 2\",\n",
    "    \"factor(f(x))\"\n",
    ")"
   ]
  },
  {
   "cell_type": "markdown",
   "id": "174bd239",
   "metadata": {},
   "source": [
    "**Seguir por aquí**\n",
    "\n",
    "https://chat.qwen.ai/c/dd864a81-59a0-4934-9acb-8469b94b3b70\n",
    "\n",
    "revisar si la macro con comillas se puede fundir con la otra macro_session \n",
    "y no tener dos: \n",
    "\n",
    " @macro_session\n",
    "\n",
    " @macro_session_qm"
   ]
  },
  {
   "cell_type": "markdown",
   "id": "da4a4687",
   "metadata": {},
   "source": [
    "# Nueva versión MaximaMacro.jl ()\n",
    "\n",
    "Una sola macro con paréntesis y comandos maxima entrecomillados. \n",
    "\n",
    "Se mantiene la sesión en todas las celdas del notebook. \n",
    "\n",
    "https://chat.qwen.ai/c/fe2d35a2-96c3-4bc6-8f64-a0588dc6c3f2"
   ]
  },
  {
   "cell_type": "code",
   "execution_count": null,
   "id": "d2020796",
   "metadata": {},
   "outputs": [],
   "source": [
    "import Pkg; \n",
    "Pkg.add(\"Symbolics\");\n",
    "Pkg.add(\"MacroTools\");"
   ]
  },
  {
   "cell_type": "code",
   "execution_count": null,
   "id": "6219aaca",
   "metadata": {},
   "outputs": [
    {
     "data": {
      "text/plain": [
       "Main.MaximaMacroJulia"
      ]
     },
     "execution_count": 1,
     "metadata": {},
     "output_type": "execute_result"
    }
   ],
   "source": [
    "module MaximaMacroJulia\n",
    "\n",
    "using MacroTools\n",
    "\n",
    "export @maxima_session,ensure_maxima_started, send_to_maxima, read_maxima_output\n",
    "\n",
    "# Función auxiliar para ejecutar comandos Maxima con estado persistente\n",
    "const MAXIMA_SESSION = Ref{Any}(nothing)\n",
    "\n",
    "function ensure_maxima_started()\n",
    "    if MAXIMA_SESSION[] === nothing\n",
    "        MAXIMA_SESSION[] = open(`maxima --very-quiet`, \"r+\")\n",
    "    end\n",
    "    return MAXIMA_SESSION[]\n",
    "end\n",
    "\n",
    "function send_to_maxima(io::IO, cmd::String)\n",
    "    write(io, cmd * \"\\n\")\n",
    "    flush(io)\n",
    "end\n",
    "\n",
    "function read_maxima_output(io::IO)\n",
    "    output = \"\"\n",
    "    while !eof(io)\n",
    "        line = readline(io)\n",
    "        if startswith(line, \"(%o\") || contains(line, \"incorrect syntax\") || contains(line, \"error\")\n",
    "            output *= line * \"\\n\"\n",
    "        elseif line == \"\" || startswith(line, \"(%i\")\n",
    "            break\n",
    "        else\n",
    "            output *= line * \"\\n\"\n",
    "        end\n",
    "    end\n",
    "    return rstrip(output)\n",
    "end\n",
    "\n",
    "\"\"\"\n",
    "    @maxima_session\n",
    "\n",
    "Ejecuta múltiples comandos Maxima en una única sesión persistente.\n",
    "- Cada comando debe estar entre comillas dobles o simples.\n",
    "- No se requiere begin/end ni paréntesis.\n",
    "- Todos los resultados se imprimen.\n",
    "- Se inyecta automáticamente `display2d:false\\$` al inicio.\n",
    "\"\"\"\n",
    "macro maxima_session(exs...)\n",
    "    # Inyectar display2d:false como primer comando\n",
    "    cmds = [\"\\\"display2d:false\\$\\\"\"]\n",
    "    for ex in exs\n",
    "        if ex isa String\n",
    "            push!(cmds, ex)\n",
    "        elseif ex isa Expr && ex.head === :string\n",
    "            # Manejar cadenas literales como \"comando\"\n",
    "            str_val = string(eval(ex))  # Cuidado: esto evalúa en tiempo de macro\n",
    "            push!(cmds, str_val)\n",
    "        else\n",
    "            error(\"Cada comando debe ser una cadena entre comillas, por ejemplo: \\\"integrate(x^2, x)\\\"\")\n",
    "        end\n",
    "    end\n",
    "\n",
    "    # Generar código que envíe todos los comandos a Maxima\n",
    "    quote\n",
    "        io = $(esc(:ensure_maxima_started))()\n",
    "        for cmd in $(cmds)\n",
    "            # Enviar comando sin comillas externas\n",
    "            clean_cmd = replace(cmd, r\"^\\\"|\\\"$\" => \"\")\n",
    "            $(esc(:send_to_maxima))(io, clean_cmd)\n",
    "            result = $(esc(:read_maxima_output))(io)\n",
    "            if !isempty(result)\n",
    "                println(result)\n",
    "            end\n",
    "        end\n",
    "    end\n",
    "end\n",
    "\n",
    "end # module"
   ]
  },
  {
   "cell_type": "code",
   "execution_count": null,
   "id": "26501dd6",
   "metadata": {},
   "outputs": [],
   "source": [
    "using .MaximaMacroJulia\n",
    "\n",
    "# Usando la macro\n",
    "@maxima_session(\n",
    "    \"integrate(x^2, x)\",\n",
    "    \n",
    ")\n",
    "\n"
   ]
  },
  {
   "cell_type": "markdown",
   "id": "623b5bbc",
   "metadata": {},
   "source": [
    "# Gráficos solicitados a maxima desde Julia\n",
    "\n",
    "\n",
    "Necesito las dependdencias Images y FileIO y "
   ]
  },
  {
   "cell_type": "code",
   "execution_count": null,
   "id": "7f8345f2",
   "metadata": {},
   "outputs": [],
   "source": [
    "import Pkg\n",
    "Pkg.add(\"Images\")"
   ]
  },
  {
   "cell_type": "code",
   "execution_count": null,
   "id": "40638bd5",
   "metadata": {},
   "outputs": [],
   "source": [
    "import Pkg\n",
    "Pkg.add(\"FileIO\")"
   ]
  },
  {
   "cell_type": "markdown",
   "id": "8f0a4ef3",
   "metadata": {},
   "source": [
    "$sudo apt install gnuplot \n"
   ]
  },
  {
   "cell_type": "code",
   "execution_count": null,
   "id": "5848f2cc",
   "metadata": {},
   "outputs": [],
   "source": [
    "include(\"MaximaMacro.jl\")\n",
    "using .MaximaMacro"
   ]
  },
  {
   "cell_type": "code",
   "execution_count": null,
   "id": "1ca77157",
   "metadata": {},
   "outputs": [
    {
     "data": {
      "text/plain": [
       "8-element Vector{String}:\n",
       " \"MaximaMacro.jl\"\n",
       " \"MaximaMacro0.jl\"\n",
       " \"MaximaMacro1.jl\"\n",
       " \"ejecucionMaximaFromJulia.ipynb\"\n",
       " \"ejecucionMaximaFromPython.ipynb\"\n",
       " \"images\"\n",
       " \"mi_script.mac\"\n",
       " \"notacionDiracJupyterNotebook.ipynb\""
      ]
     },
     "execution_count": 6,
     "metadata": {},
     "output_type": "execute_result"
    }
   ],
   "source": [
    "readdir()"
   ]
  },
  {
   "cell_type": "code",
   "execution_count": null,
   "id": "3fe2bb22",
   "metadata": {},
   "outputs": [
    {
     "name": "stdout",
     "output_type": "stream",
     "text": [
      "💡 ^\n"
     ]
    }
   ],
   "source": [
    "@maxima_session begin\n",
    "    expand((x + 2)^3)\n",
    "    plot2d(x^3 + 6*x^2 + 12*x + 8, [x, -10, 10])\n",
    "end"
   ]
  },
  {
   "cell_type": "markdown",
   "id": "b72e6f8f",
   "metadata": {},
   "source": [
    "# Cargar load(qinf) \n",
    "\n",
    "qinf es un paquete de información cuántica para el sistema de álgebra computacional Maxima . Este paquete se basa en la investigación reproducible. Se incluye un ejemplo de verificación de cálculos en un artículo: doc/qinf.pdf .\n",
    "\n",
    "qinf implementa objetos utilizados en la teoría de la información cuántica: operadores, vectores, tensores, etc. Estos objetos se representan típicamente en este paquete como vectores de fila y columna, y matrices, cuyas entradas pueden ser números explícitos o expresiones algebraicas. Este software ocupa un nicho distinto del software de álgebra lineal numérica de alto rendimiento, así como de software como los paquetes de tensores Maxima, que manipulan objetos matemáticos abstractos.\n",
    "\n",
    "https://github.com/jlapeyre/qinf\n",
    "\n",
    "\n",
    "\n",
    "https://chatgpt.com/c/68f922fb-8a04-8330-9ec5-c910bb40c6c7"
   ]
  },
  {
   "cell_type": "markdown",
   "id": "f2c127a4",
   "metadata": {},
   "source": [
    "### Supongamos que tenemos descargado el qinf.mac en el directorio .maxima "
   ]
  },
  {
   "cell_type": "code",
   "execution_count": null,
   "id": "397d5d21",
   "metadata": {},
   "outputs": [],
   "source": [
    "include(\"MaximaMacro.jl\")\n",
    "using .MaximaMacro"
   ]
  },
  {
   "cell_type": "code",
   "execution_count": null,
   "id": "9d6237db",
   "metadata": {},
   "outputs": [
    {
     "name": "stdout",
     "output_type": "stream",
     "text": [
      "💡 load(qinf)\n",
      "                         /home/miguel/.maxima/qinf.mac\n",
      "\n",
      "💡 a = 5\n",
      "                                     a = 5\n",
      "\n",
      "💡 b = a^2\n",
      "                                         2\n",
      "                                    b = a\n",
      "\n",
      "💡 c = a+b\n",
      "                                   c = b + a\n",
      "\n",
      "💡 c\n",
      "                                       c\n",
      "\n",
      "💡 psi = ket(0)\n",
      "                                 psi = ket(0)\n",
      "\n",
      "💡 rho = density_matrix(psi)\n",
      "                           rho = density_matrix(psi)\n",
      "\n",
      "💡 H = hadamard(1)\n",
      "                                H = hadamard(1)\n",
      "\n",
      "💡 X = pauli_x()\n",
      "                                 X = pauli_x()\n",
      "\n",
      "💡 CX = cnot()\n",
      "                                  CX = cnot()\n",
      "\n"
     ]
    }
   ],
   "source": [
    "@maxima_cell begin\n",
    "    load(qinf)  # Cargar paquete si es necesario\n",
    "    a = 5\n",
    "    b = a^2\n",
    "    c = a + b\n",
    "    c  # → 30\n",
    "    psi= ket(0);\n",
    "    rho= density_matrix(psi);\n",
    "    H = hadamard(1)\n",
    "    X = pauli_x()\n",
    "    CX = cnot()\n",
    "end"
   ]
  },
  {
   "cell_type": "markdown",
   "id": "ccd45d67",
   "metadata": {},
   "source": [
    "**Siempre que tengamos el ficheros qinf.mac en .maxima y cargada la libreria MaximaMacro.jl**\n",
    "\n",
    "puedo emplear una instrucción simple con una macro: "
   ]
  },
  {
   "cell_type": "code",
   "execution_count": null,
   "id": "59bf4937",
   "metadata": {},
   "outputs": [
    {
     "name": "stdout",
     "output_type": "stream",
     "text": [
      "💡 load(qinf)\n",
      "                         /home/miguel/.maxima/qinf.mac\n"
     ]
    }
   ],
   "source": [
    "include(\"MaximaMacro.jl\")\n",
    "using .MaximaMacro\n",
    "@maxima load(qinf)"
   ]
  },
  {
   "cell_type": "code",
   "execution_count": null,
   "id": "c6375242",
   "metadata": {},
   "outputs": [
    {
     "name": "stdout",
     "output_type": "stream",
     "text": [
      "💡 psi:bell_state(1)\n",
      "                                 bell_state(1)\n",
      "💡 rho:density_matrix(psi)\n",
      "                              density_matrix(psi)\n",
      "💡 rho1:partial_trace(rho,[2],[2,2])\n",
      "                        partial_trace(rho, [2], [2, 2])\n",
      "💡 vonneumann_entropy(rho1)\n",
      "                           vonneumann_entropy(rho1)\n"
     ]
    }
   ],
   "source": [
    "@maxima psi: bell_state(1)\n",
    "@maxima rho: density_matrix(psi)\n",
    "@maxima rho1: partial_trace(rho, [2], [2,2])\n",
    "@maxima vonneumann_entropy(rho1)"
   ]
  },
  {
   "cell_type": "markdown",
   "id": "f71ba323",
   "metadata": {},
   "source": [
    "**Para otros directorios puedo emplear otros comandos maxima para indicar donde se ecuentra el fichero**"
   ]
  },
  {
   "cell_type": "code",
   "execution_count": null,
   "id": "6682c443",
   "metadata": {},
   "outputs": [],
   "source": [
    "ruta = \"~./pruebasWxmaxima/qinf-master/qinf.lisp\"\n",
    "cmd = \"load(\\\"$ruta\\\");\"\n",
    "println(\"Comando que se enviará: $cmd\")\n",
    "# Ahora escápalo\n",
    "cmd_safe = replace(cmd, \"\\\"\" => \"\\\\\\\"\")\n",
    "println(\"Comando escapado: $cmd_safe\")\n",
    "# Simula el shell:\n",
    "run(`echo maxima --batch-string=\"$cmd_safe\"`)\n",
    "\n",
    "@maxima file_search_maxima\n",
    "\n",
    "@maxima file_search_maxima:append(file_search_maxima,[\"~/pruebasWxmaxima/qinf-master/qinf.lisp\"])\n",
    "\n",
    "@maxima load(qinf)"
   ]
  },
  {
   "cell_type": "markdown",
   "id": "1d7e4804",
   "metadata": {},
   "source": [
    "### Ejemplos de ejecuciones de operacione con qinfo"
   ]
  },
  {
   "cell_type": "code",
   "execution_count": null,
   "id": "da56d4f5",
   "metadata": {},
   "outputs": [],
   "source": [
    "include(\"MaximaMacro.jl\")\n",
    "using .MaximaMacro"
   ]
  },
  {
   "cell_type": "code",
   "execution_count": null,
   "id": "d912bd7e",
   "metadata": {},
   "outputs": [
    {
     "name": "stdout",
     "output_type": "stream",
     "text": [
      "💡 kron(hadamard(1), 1) . cnot()\n"
     ]
    }
   ],
   "source": [
    "@maxima_session begin\n",
    "    load(\"qinf\")\n",
    "    H = hadamard(1)\n",
    "    I = identity(1)\n",
    "    CNOT = cnot()\n",
    "    result = kron(H, I).CNOT # <--  no dejamos espacio entre a un lado y a otro del punto. \n",
    "    result\n",
    "end\n",
    "\n",
    "# tenemos problemas con el punto aquí porque inicialmente el parseo lo realiza julia, al quitar los espacios\n",
    "# se envia correctamente a Maxima, no así si dejamos espacios alrededor del punto."
   ]
  },
  {
   "cell_type": "code",
   "execution_count": null,
   "id": "d82ed05f",
   "metadata": {},
   "outputs": [
    {
     "name": "stdout",
     "output_type": "stream",
     "text": [
      "kron(hadamard(1), 1) . cnot()\n"
     ]
    }
   ],
   "source": [
    "# no hay problema con el punto kron(H, I) . CNOT porque aquí se envía una cadena completa a Maxima. \n",
    "val = maxima_eval(\"load(\\\"qinf\\\"); H: hadamard(1); I: identity(1); CNOT: cnot(); kron(H, I) . CNOT;\")\n",
    "println(val)"
   ]
  },
  {
   "cell_type": "markdown",
   "id": "1b446b75",
   "metadata": {},
   "source": [
    "# Subida a Github"
   ]
  },
  {
   "cell_type": "markdown",
   "id": "ae3acc4a",
   "metadata": {},
   "source": [
    "<img src=\"./images/EstructuraGitHub.PNG\" />"
   ]
  },
  {
   "cell_type": "markdown",
   "id": "96cf05cd",
   "metadata": {},
   "source": [
    "https://chat.qwen.ai/c/dd864a81-59a0-4934-9acb-8469b94b3b70"
   ]
  },
  {
   "cell_type": "markdown",
   "id": "474863b6",
   "metadata": {},
   "source": [
    "Tenemos toda la estructura en la carpeta de trabajo: \n",
    "\n",
    "MaximaMacro-jl"
   ]
  },
  {
   "cell_type": "markdown",
   "id": "6fbcbb6f",
   "metadata": {},
   "source": [
    "**Para generar un UUID en Julia**\n",
    "\n",
    "Un UUID (Identificador Único Universal) es un código alfanumérico de 128 bits que se usa para identificar de manera única \n",
    "\n",
    "objetos en un sistema informático y evitar duplicados. Su principal aplicación en el ámbito fiscal es para identificar de \n",
    "\n",
    "forma única una factura electrónica, como el Folio Fiscal, que garantiza su validez ante la autoridad tributaria. "
   ]
  },
  {
   "cell_type": "code",
   "execution_count": null,
   "id": "805c651f",
   "metadata": {},
   "outputs": [
    {
     "name": "stderr",
     "output_type": "stream",
     "text": [
      "\u001b[32m\u001b[1m  Generating\u001b[22m\u001b[39m  project TempPkg:\n",
      "    TempPkg/Project.toml\n",
      "    TempPkg/src/TempPkg.jl\n"
     ]
    },
    {
     "data": {
      "text/plain": [
       "Dict{String, Base.UUID} with 1 entry:\n",
       "  \"TempPkg\" => UUID(\"2c6696bd-b88e-47da-b212-d636dca8b099\")"
      ]
     },
     "execution_count": 4,
     "metadata": {},
     "output_type": "execute_result"
    }
   ],
   "source": [
    "using Pkg\n",
    "Pkg.generate(\"TempPkg\")"
   ]
  },
  {
   "cell_type": "code",
   "execution_count": null,
   "id": "94d3a95a",
   "metadata": {},
   "outputs": [],
   "source": [
    "# Copia el uuid del archivo Project.toml generado\n",
    "rm(\"TempPkg\", recursive=true)"
   ]
  },
  {
   "cell_type": "markdown",
   "id": "ae8e452e",
   "metadata": {},
   "source": [
    "# Registrar un paquete en github julia\n",
    "\n",
    "https://github.com/JuliaRegistries/General?spm=a2ty_o01.29997173.0.0.7c8bc921bKfIEg"
   ]
  },
  {
   "cell_type": "markdown",
   "id": "a74cc8de",
   "metadata": {},
   "source": [
    "# Archivo Project.toml\n",
    "\n",
    "El archivo Project.toml es esencial en el ecosistema de Julia. Sirve como el manifiesto del paquete, y tiene tres funciones principales:\n",
    "\n",
    "✅ 1. Define la identidad de tu paquete\n",
    "name: nombre del paquete (MaximaMacro)\n",
    "uuid: identificador único universal (evita conflictos de nombres)\n",
    "version: versión actual (sigue SemVer : 0.1.0, 1.2.3, etc.)\n",
    "authors: quién lo desarrolla\n",
    "\n",
    "name = \"MaximaMacro\"\n",
    "uuid = \"a1b2c3d4-...\"  # ¡Único en el mundo!\n",
    "version = \"0.1.0\"\n",
    "authors = [\"Tu Nombre <tu@email.com>\"]\n",
    "\n",
    "✅ 2. Declara dependencias\n",
    "[deps]: paquetes obligatorios para usar tu paquete.\n",
    "[compat]: versiones compatibles de Julia y dependencias.\n",
    "[deps]\n",
    "\n",
    "**(Este paquete no tiene dependencias externas, así que esta sección está vacía)**\n",
    "\n",
    "[compat]\n",
    "julia = \"1.6\"  # Requiere Julia 1.6 o superior\n",
    "\n",
    "\n",
    "✅ 3. Habilita la integración con el ecosistema de Julia\n",
    "Registro en el General Registry: necesario para que otros puedan instalar tu paquete con Pkg.add(\"MaximaMacro\").\n",
    "Compatibilidad con JuliaHub: plataforma oficial para paquetes de Julia.\n",
    "Resolución de dependencias: Julia sabe exactamente qué versiones usar.\n",
    "\n",
    "**¿Dónde se usa?**\n",
    "using Pkg\n",
    "Pkg.develop(path=\"ruta/a/MaximaMacro.jl\")  # Usa Project.toml\n",
    "\n",
    "Al publicar en GitHub/JuliaHub: el archivo es obligatorio.\n",
    "\n",
    "🚫 ¿Qué pasa si no lo tienes?\n",
    "No puedes publicar en el General Registry.\n",
    "Otros usuarios no podrán instalar tu paquete con Pkg.add().\n",
    "Herramientas como JuliaHub o VS Code no lo reconocerán como paquete.\n",
    "\n",
    "https://github.com/JuliaRegistries/General?spm=a2ty_o01.29997173.0.0.7c8bc921bKfIEg"
   ]
  },
  {
   "cell_type": "markdown",
   "id": "71e417ba",
   "metadata": {},
   "source": [
    "# Circuito cuántico básico en Julia \n",
    "\n",
    "Utilizando simulador Yao"
   ]
  },
  {
   "cell_type": "code",
   "execution_count": null,
   "id": "8ba6ece8",
   "metadata": {},
   "outputs": [],
   "source": [
    "import Pkg\n",
    "Pkg.add(\"Yao\")"
   ]
  },
  {
   "cell_type": "code",
   "execution_count": null,
   "id": "386e1c04",
   "metadata": {},
   "outputs": [
    {
     "data": {
      "text/plain": [
       "ArrayReg{2, ComplexF64, Array...}\n",
       "    active qubits: 2/2\n",
       "    nlevel: 2"
      ]
     },
     "execution_count": 3,
     "metadata": {},
     "output_type": "execute_result"
    }
   ],
   "source": [
    "using Yao\n",
    "\n",
    "# 1. Crear registro de 2 qubits en |00⟩\n",
    "reg = zero_state(2)"
   ]
  },
  {
   "cell_type": "code",
   "execution_count": null,
   "id": "34d54b3c",
   "metadata": {},
   "outputs": [
    {
     "data": {
      "text/plain": [
       "ArrayReg{2, ComplexF64, Array...}\n",
       "    active qubits: 2/2\n",
       "    nlevel: 2"
      ]
     },
     "execution_count": 4,
     "metadata": {},
     "output_type": "execute_result"
    }
   ],
   "source": [
    "# 2. Aplicar puerta Hadamard al qubit 1\n",
    "reg |> put(2, 1 => H)"
   ]
  },
  {
   "cell_type": "code",
   "execution_count": null,
   "id": "bbb0c204",
   "metadata": {},
   "outputs": [
    {
     "data": {
      "text/plain": [
       "ArrayReg{2, ComplexF64, Array...}\n",
       "    active qubits: 2/2\n",
       "    nlevel: 2"
      ]
     },
     "execution_count": 5,
     "metadata": {},
     "output_type": "execute_result"
    }
   ],
   "source": [
    "# 3. Aplicar puerta CNOT (control en 1, objetivo en 2)\n",
    "reg |> control(2, 1, 2 => X)"
   ]
  },
  {
   "cell_type": "code",
   "execution_count": null,
   "id": "040d0a5b",
   "metadata": {},
   "outputs": [
    {
     "data": {
      "text/plain": [
       "4-element Vector{Float64}:\n",
       " 0.4999999999999999\n",
       " 0.0\n",
       " 0.0\n",
       " 0.4999999999999999"
      ]
     },
     "execution_count": 6,
     "metadata": {},
     "output_type": "execute_result"
    }
   ],
   "source": [
    "# 4. Obtener amplitudes y probabilidades\n",
    "amps = statevec(reg)\n",
    "probs = abs2.(amps)"
   ]
  },
  {
   "cell_type": "code",
   "execution_count": null,
   "id": "7b92771e",
   "metadata": {},
   "outputs": [
    {
     "name": "stdout",
     "output_type": "stream",
     "text": [
      "🔹 Estado cuántico final (amplitudes):\n"
     ]
    },
    {
     "data": {
      "text/plain": [
       "4-element Vector{ComplexF64}:\n",
       " 0.7071067811865475 + 0.0im\n",
       "                0.0 + 0.0im\n",
       "                0.0 + 0.0im\n",
       " 0.7071067811865475 + 0.0im"
      ]
     },
     "metadata": {},
     "output_type": "display_data"
    }
   ],
   "source": [
    "# 5. Mostrar resultados\n",
    "println(\"🔹 Estado cuántico final (amplitudes):\")\n",
    "display(amps)"
   ]
  },
  {
   "cell_type": "code",
   "execution_count": null,
   "id": "0ac4f690",
   "metadata": {},
   "outputs": [
    {
     "name": "stdout",
     "output_type": "stream",
     "text": [
      "\n",
      "📊 Probabilidades de medición:\n",
      "  |00⟩: 0.5\n",
      "  |01⟩: 0.0\n",
      "  |10⟩: 0.0\n",
      "  |11⟩: 0.5\n"
     ]
    }
   ],
   "source": [
    "println(\"\\n📊 Probabilidades de medición:\")\n",
    "basis_states = [\"|00⟩\", \"|01⟩\", \"|10⟩\", \"|11⟩\"]\n",
    "for (state, prob) in zip(basis_states, probs)\n",
    "    println(\"  $(state): $(round(prob, digits=4))\")\n",
    "end"
   ]
  },
  {
   "cell_type": "code",
   "execution_count": null,
   "id": "2374dcde",
   "metadata": {},
   "outputs": [
    {
     "name": "stderr",
     "output_type": "stream",
     "text": [
      "\u001b[32m\u001b[1m   Resolving\u001b[22m\u001b[39m package versions...\n",
      "\u001b[32m\u001b[1m    Updating\u001b[22m\u001b[39m `~/.julia/environments/v1.12/Project.toml`\n",
      "  \u001b[90m[2913bbd2] \u001b[39m\u001b[92m+ StatsBase v0.34.7\u001b[39m\n",
      "\u001b[36m\u001b[1m    Manifest\u001b[22m\u001b[39m No packages added to or removed from `~/.julia/environments/v1.12/Manifest.toml`\n"
     ]
    }
   ],
   "source": [
    "import Pkg\n",
    "Pkg.add(\"StatsBase\")"
   ]
  },
  {
   "cell_type": "code",
   "execution_count": null,
   "id": "71d349f7",
   "metadata": {},
   "outputs": [
    {
     "name": "stdout",
     "output_type": "stream",
     "text": [
      "\n",
      "🎯 Resultado de medición simulada: |11⟩\n"
     ]
    }
   ],
   "source": [
    "# 6. Simular una medición\n",
    "using StatsBase  # Para sample con pesos\n",
    "outcome_idx = sample(1:4, Weights(probs))\n",
    "measured = basis_states[outcome_idx]\n",
    "println(\"\\n🎯 Resultado de medición simulada: $(measured)\")"
   ]
  },
  {
   "cell_type": "code",
   "execution_count": null,
   "id": "efd21827",
   "metadata": {},
   "outputs": [],
   "source": [
    "import Pkg\n",
    "Pkg.add(\"Plots\")"
   ]
  },
  {
   "cell_type": "code",
   "execution_count": null,
   "id": "0bc4e853",
   "metadata": {},
   "outputs": [
    {
     "data": {
      "image/png": "[encoded data removed]",
      "image/svg+xml": [
       "<?xml version=\"1.0\" encoding=\"utf-8\"?>\n",
       "<svg xmlns=\"http://www.w3.org/2000/svg\" xmlns:xlink=\"http://www.w3.org/1999/xlink\" width=\"600\" height=\"400\" viewBox=\"0 0 2400 1600\">\n",
       "<defs>\n",
       "  <clipPath id=\"clip440\">\n",
       "    <rect x=\"0\" y=\"0\" width=\"2400\" height=\"1600\"/>\n",
       "  </clipPath>\n",
       "</defs>\n",
       "<path clip-path=\"url(#clip440)\" d=\"M0 1600 L2400 1600 L2400 0 L0 0  Z\" fill=\"#ffffff\" fill-rule=\"evenodd\" fill-opacity=\"1\"/>\n",
       "<defs>\n",
       "  <clipPath id=\"clip441\">\n",
       "    <rect x=\"480\" y=\"0\" width=\"1681\" height=\"1600\"/>\n",
       "  </clipPath>\n",
       "</defs>\n",
       "<path clip-path=\"url(#clip440)\" d=\"M219.866 1486.45 L2352.76 1486.45 L2352.76 123.472 L219.866 123.472  Z\" fill=\"#ffffff\" fill-rule=\"evenodd\" fill-opacity=\"1\"/>\n",
       "<defs>\n",
       "  <clipPath id=\"clip442\">\n",
       "    <rect x=\"219\" y=\"123\" width=\"2134\" height=\"1364\"/>\n",
       "  </clipPath>\n",
       "</defs>\n",
       "<polyline clip-path=\"url(#clip442)\" style=\"stroke:#000000; stroke-linecap:round; stroke-linejoin:round; stroke-width:2; stroke-opacity:0.1; fill:none\" points=\"536.996,1486.45 536.996,123.472 \"/>\n",
       "<polyline clip-path=\"url(#clip442)\" style=\"stroke:#000000; stroke-linecap:round; stroke-linejoin:round; stroke-width:2; stroke-opacity:0.1; fill:none\" points=\"1036.54,1486.45 1036.54,123.472 \"/>\n",
       "<polyline clip-path=\"url(#clip442)\" style=\"stroke:#000000; stroke-linecap:round; stroke-linejoin:round; stroke-width:2; stroke-opacity:0.1; fill:none\" points=\"1536.08,1486.45 1536.08,123.472 \"/>\n",
       "<polyline clip-path=\"url(#clip442)\" style=\"stroke:#000000; stroke-linecap:round; stroke-linejoin:round; stroke-width:2; stroke-opacity:0.1; fill:none\" points=\"2035.63,1486.45 2035.63,123.472 \"/>\n",
       "<polyline clip-path=\"url(#clip442)\" style=\"stroke:#000000; stroke-linecap:round; stroke-linejoin:round; stroke-width:2; stroke-opacity:0.1; fill:none\" points=\"219.866,1486.45 2352.76,1486.45 \"/>\n",
       "<polyline clip-path=\"url(#clip442)\" style=\"stroke:#000000; stroke-linecap:round; stroke-linejoin:round; stroke-width:2; stroke-opacity:0.1; fill:none\" points=\"219.866,1213.85 2352.76,1213.85 \"/>\n",
       "<polyline clip-path=\"url(#clip442)\" style=\"stroke:#000000; stroke-linecap:round; stroke-linejoin:round; stroke-width:2; stroke-opacity:0.1; fill:none\" points=\"219.866,941.258 2352.76,941.258 \"/>\n",
       "<polyline clip-path=\"url(#clip442)\" style=\"stroke:#000000; stroke-linecap:round; stroke-linejoin:round; stroke-width:2; stroke-opacity:0.1; fill:none\" points=\"219.866,668.662 2352.76,668.662 \"/>\n",
       "<polyline clip-path=\"url(#clip442)\" style=\"stroke:#000000; stroke-linecap:round; stroke-linejoin:round; stroke-width:2; stroke-opacity:0.1; fill:none\" points=\"219.866,396.067 2352.76,396.067 \"/>\n",
       "<polyline clip-path=\"url(#clip442)\" style=\"stroke:#000000; stroke-linecap:round; stroke-linejoin:round; stroke-width:2; stroke-opacity:0.1; fill:none\" points=\"219.866,123.472 2352.76,123.472 \"/>\n",
       "<polyline clip-path=\"url(#clip440)\" style=\"stroke:#000000; stroke-linecap:round; stroke-linejoin:round; stroke-width:4; stroke-opacity:1; fill:none\" points=\"219.866,1486.45 2352.76,1486.45 \"/>\n",
       "<polyline clip-path=\"url(#clip440)\" style=\"stroke:#000000; stroke-linecap:round; stroke-linejoin:round; stroke-width:4; stroke-opacity:1; fill:none\" points=\"536.996,1486.45 536.996,1467.55 \"/>\n",
       "<polyline clip-path=\"url(#clip440)\" style=\"stroke:#000000; stroke-linecap:round; stroke-linejoin:round; stroke-width:4; stroke-opacity:1; fill:none\" points=\"1036.54,1486.45 1036.54,1467.55 \"/>\n",
       "<polyline clip-path=\"url(#clip440)\" style=\"stroke:#000000; stroke-linecap:round; stroke-linejoin:round; stroke-width:4; stroke-opacity:1; fill:none\" points=\"1536.08,1486.45 1536.08,1467.55 \"/>\n",
       "<polyline clip-path=\"url(#clip440)\" style=\"stroke:#000000; stroke-linecap:round; stroke-linejoin:round; stroke-width:4; stroke-opacity:1; fill:none\" points=\"2035.63,1486.45 2035.63,1467.55 \"/>\n",
       "<path clip-path=\"url(#clip440)\" d=\"M498.663 1512.62 L498.663 1560.03 L494.728 1560.03 L494.728 1512.62 L498.663 1512.62 Z\" fill=\"#000000\" fill-rule=\"nonzero\" fill-opacity=\"1\" /><path clip-path=\"url(#clip440)\" d=\"M519.751 1517.37 Q516.14 1517.37 514.311 1520.93 Q512.506 1524.47 512.506 1531.6 Q512.506 1538.71 514.311 1542.27 Q516.14 1545.82 519.751 1545.82 Q523.385 1545.82 525.191 1542.27 Q527.019 1538.71 527.019 1531.6 Q527.019 1524.47 525.191 1520.93 Q523.385 1517.37 519.751 1517.37 M519.751 1513.66 Q525.561 1513.66 528.617 1518.27 Q531.695 1522.85 531.695 1531.6 Q531.695 1540.33 528.617 1544.94 Q525.561 1549.52 519.751 1549.52 Q513.941 1549.52 510.862 1544.94 Q507.807 1540.33 507.807 1531.6 Q507.807 1522.85 510.862 1518.27 Q513.941 1513.66 519.751 1513.66 Z\" fill=\"#000000\" fill-rule=\"nonzero\" fill-opacity=\"1\" /><path clip-path=\"url(#clip440)\" d=\"M549.913 1517.37 Q546.302 1517.37 544.473 1520.93 Q542.668 1524.47 542.668 1531.6 Q542.668 1538.71 544.473 1542.27 Q546.302 1545.82 549.913 1545.82 Q553.547 1545.82 555.353 1542.27 Q557.181 1538.71 557.181 1531.6 Q557.181 1524.47 555.353 1520.93 Q553.547 1517.37 549.913 1517.37 M549.913 1513.66 Q555.723 1513.66 558.779 1518.27 Q561.857 1522.85 561.857 1531.6 Q561.857 1540.33 558.779 1544.94 Q555.723 1549.52 549.913 1549.52 Q544.103 1549.52 541.024 1544.94 Q537.968 1540.33 537.968 1531.6 Q537.968 1522.85 541.024 1518.27 Q544.103 1513.66 549.913 1513.66 Z\" fill=\"#000000\" fill-rule=\"nonzero\" fill-opacity=\"1\" /><path clip-path=\"url(#clip440)\" d=\"M579.265 1533.99 L572.737 1555.1 L568.802 1555.1 L575.329 1533.99 L568.802 1512.88 L572.737 1512.88 L579.265 1533.99 Z\" fill=\"#000000\" fill-rule=\"nonzero\" fill-opacity=\"1\" /><path clip-path=\"url(#clip440)\" d=\"M998.206 1512.62 L998.206 1560.03 L994.271 1560.03 L994.271 1512.62 L998.206 1512.62 Z\" fill=\"#000000\" fill-rule=\"nonzero\" fill-opacity=\"1\" /><path clip-path=\"url(#clip440)\" d=\"M1019.29 1517.37 Q1015.68 1517.37 1013.85 1520.93 Q1012.05 1524.47 1012.05 1531.6 Q1012.05 1538.71 1013.85 1542.27 Q1015.68 1545.82 1019.29 1545.82 Q1022.93 1545.82 1024.73 1542.27 Q1026.56 1538.71 1026.56 1531.6 Q1026.56 1524.47 1024.73 1520.93 Q1022.93 1517.37 1019.29 1517.37 M1019.29 1513.66 Q1025.1 1513.66 1028.16 1518.27 Q1031.24 1522.85 1031.24 1531.6 Q1031.24 1540.33 1028.16 1544.94 Q1025.1 1549.52 1019.29 1549.52 Q1013.48 1549.52 1010.41 1544.94 Q1007.35 1540.33 1007.35 1531.6 Q1007.35 1522.85 1010.41 1518.27 Q1013.48 1513.66 1019.29 1513.66 Z\" fill=\"#000000\" fill-rule=\"nonzero\" fill-opacity=\"1\" /><path clip-path=\"url(#clip440)\" d=\"M1040.27 1544.91 L1047.91 1544.91 L1047.91 1518.55 L1039.6 1520.21 L1039.6 1515.95 L1047.86 1514.29 L1052.53 1514.29 L1052.53 1544.91 L1060.17 1544.91 L1060.17 1548.85 L1040.27 1548.85 L1040.27 1544.91 Z\" fill=\"#000000\" fill-rule=\"nonzero\" fill-opacity=\"1\" /><path clip-path=\"url(#clip440)\" d=\"M1078.81 1533.99 L1072.28 1555.1 L1068.34 1555.1 L1074.87 1533.99 L1068.34 1512.88 L1072.28 1512.88 L1078.81 1533.99 Z\" fill=\"#000000\" fill-rule=\"nonzero\" fill-opacity=\"1\" /><path clip-path=\"url(#clip440)\" d=\"M1497.75 1512.62 L1497.75 1560.03 L1493.81 1560.03 L1493.81 1512.62 L1497.75 1512.62 Z\" fill=\"#000000\" fill-rule=\"nonzero\" fill-opacity=\"1\" /><path clip-path=\"url(#clip440)\" d=\"M1509.65 1544.91 L1517.29 1544.91 L1517.29 1518.55 L1508.98 1520.21 L1508.98 1515.95 L1517.24 1514.29 L1521.92 1514.29 L1521.92 1544.91 L1529.55 1544.91 L1529.55 1548.85 L1509.65 1548.85 L1509.65 1544.91 Z\" fill=\"#000000\" fill-rule=\"nonzero\" fill-opacity=\"1\" /><path clip-path=\"url(#clip440)\" d=\"M1549 1517.37 Q1545.39 1517.37 1543.56 1520.93 Q1541.75 1524.47 1541.75 1531.6 Q1541.75 1538.71 1543.56 1542.27 Q1545.39 1545.82 1549 1545.82 Q1552.63 1545.82 1554.44 1542.27 Q1556.27 1538.71 1556.27 1531.6 Q1556.27 1524.47 1554.44 1520.93 Q1552.63 1517.37 1549 1517.37 M1549 1513.66 Q1554.81 1513.66 1557.86 1518.27 Q1560.94 1522.85 1560.94 1531.6 Q1560.94 1540.33 1557.86 1544.94 Q1554.81 1549.52 1549 1549.52 Q1543.19 1549.52 1540.11 1544.94 Q1537.05 1540.33 1537.05 1531.6 Q1537.05 1522.85 1540.11 1518.27 Q1543.19 1513.66 1549 1513.66 Z\" fill=\"#000000\" fill-rule=\"nonzero\" fill-opacity=\"1\" /><path clip-path=\"url(#clip440)\" d=\"M1578.35 1533.99 L1571.82 1555.1 L1567.89 1555.1 L1574.42 1533.99 L1567.89 1512.88 L1571.82 1512.88 L1578.35 1533.99 Z\" fill=\"#000000\" fill-rule=\"nonzero\" fill-opacity=\"1\" /><path clip-path=\"url(#clip440)\" d=\"M1997.29 1512.62 L1997.29 1560.03 L1993.36 1560.03 L1993.36 1512.62 L1997.29 1512.62 Z\" fill=\"#000000\" fill-rule=\"nonzero\" fill-opacity=\"1\" /><path clip-path=\"url(#clip440)\" d=\"M2009.19 1544.91 L2016.83 1544.91 L2016.83 1518.55 L2008.52 1520.21 L2008.52 1515.95 L2016.78 1514.29 L2021.46 1514.29 L2021.46 1544.91 L2029.1 1544.91 L2029.1 1548.85 L2009.19 1548.85 L2009.19 1544.91 Z\" fill=\"#000000\" fill-rule=\"nonzero\" fill-opacity=\"1\" /><path clip-path=\"url(#clip440)\" d=\"M2039.35 1544.91 L2046.99 1544.91 L2046.99 1518.55 L2038.68 1520.21 L2038.68 1515.95 L2046.95 1514.29 L2051.62 1514.29 L2051.62 1544.91 L2059.26 1544.91 L2059.26 1548.85 L2039.35 1548.85 L2039.35 1544.91 Z\" fill=\"#000000\" fill-rule=\"nonzero\" fill-opacity=\"1\" /><path clip-path=\"url(#clip440)\" d=\"M2077.89 1533.99 L2071.37 1555.1 L2067.43 1555.1 L2073.96 1533.99 L2067.43 1512.88 L2071.37 1512.88 L2077.89 1533.99 Z\" fill=\"#000000\" fill-rule=\"nonzero\" fill-opacity=\"1\" /><polyline clip-path=\"url(#clip440)\" style=\"stroke:#000000; stroke-linecap:round; stroke-linejoin:round; stroke-width:4; stroke-opacity:1; fill:none\" points=\"219.866,1486.45 219.866,123.472 \"/>\n",
       "<polyline clip-path=\"url(#clip440)\" style=\"stroke:#000000; stroke-linecap:round; stroke-linejoin:round; stroke-width:4; stroke-opacity:1; fill:none\" points=\"219.866,1486.45 238.764,1486.45 \"/>\n",
       "<polyline clip-path=\"url(#clip440)\" style=\"stroke:#000000; stroke-linecap:round; stroke-linejoin:round; stroke-width:4; stroke-opacity:1; fill:none\" points=\"219.866,1213.85 238.764,1213.85 \"/>\n",
       "<polyline clip-path=\"url(#clip440)\" style=\"stroke:#000000; stroke-linecap:round; stroke-linejoin:round; stroke-width:4; stroke-opacity:1; fill:none\" points=\"219.866,941.258 238.764,941.258 \"/>\n",
       "<polyline clip-path=\"url(#clip440)\" style=\"stroke:#000000; stroke-linecap:round; stroke-linejoin:round; stroke-width:4; stroke-opacity:1; fill:none\" points=\"219.866,668.662 238.764,668.662 \"/>\n",
       "<polyline clip-path=\"url(#clip440)\" style=\"stroke:#000000; stroke-linecap:round; stroke-linejoin:round; stroke-width:4; stroke-opacity:1; fill:none\" points=\"219.866,396.067 238.764,396.067 \"/>\n",
       "<polyline clip-path=\"url(#clip440)\" style=\"stroke:#000000; stroke-linecap:round; stroke-linejoin:round; stroke-width:4; stroke-opacity:1; fill:none\" points=\"219.866,123.472 238.764,123.472 \"/>\n",
       "<path clip-path=\"url(#clip440)\" d=\"M126.691 1472.25 Q123.08 1472.25 121.251 1475.81 Q119.445 1479.35 119.445 1486.48 Q119.445 1493.59 121.251 1497.15 Q123.08 1500.7 126.691 1500.7 Q130.325 1500.7 132.13 1497.15 Q133.959 1493.59 133.959 1486.48 Q133.959 1479.35 132.13 1475.81 Q130.325 1472.25 126.691 1472.25 M126.691 1468.54 Q132.501 1468.54 135.556 1473.15 Q138.635 1477.73 138.635 1486.48 Q138.635 1495.21 135.556 1499.82 Q132.501 1504.4 126.691 1504.4 Q120.88 1504.4 117.802 1499.82 Q114.746 1495.21 114.746 1486.48 Q114.746 1477.73 117.802 1473.15 Q120.88 1468.54 126.691 1468.54 Z\" fill=\"#000000\" fill-rule=\"nonzero\" fill-opacity=\"1\" /><path clip-path=\"url(#clip440)\" d=\"M146.853 1497.85 L151.737 1497.85 L151.737 1503.73 L146.853 1503.73 L146.853 1497.85 Z\" fill=\"#000000\" fill-rule=\"nonzero\" fill-opacity=\"1\" /><path clip-path=\"url(#clip440)\" d=\"M171.922 1472.25 Q168.311 1472.25 166.482 1475.81 Q164.677 1479.35 164.677 1486.48 Q164.677 1493.59 166.482 1497.15 Q168.311 1500.7 171.922 1500.7 Q175.556 1500.7 177.362 1497.15 Q179.19 1493.59 179.19 1486.48 Q179.19 1479.35 177.362 1475.81 Q175.556 1472.25 171.922 1472.25 M171.922 1468.54 Q177.732 1468.54 180.788 1473.15 Q183.866 1477.73 183.866 1486.48 Q183.866 1495.21 180.788 1499.82 Q177.732 1504.4 171.922 1504.4 Q166.112 1504.4 163.033 1499.82 Q159.978 1495.21 159.978 1486.48 Q159.978 1477.73 163.033 1473.15 Q166.112 1468.54 171.922 1468.54 Z\" fill=\"#000000\" fill-rule=\"nonzero\" fill-opacity=\"1\" /><path clip-path=\"url(#clip440)\" d=\"M128.288 1199.65 Q124.677 1199.65 122.848 1203.22 Q121.043 1206.76 121.043 1213.89 Q121.043 1220.99 122.848 1224.56 Q124.677 1228.1 128.288 1228.1 Q131.922 1228.1 133.728 1224.56 Q135.556 1220.99 135.556 1213.89 Q135.556 1206.76 133.728 1203.22 Q131.922 1199.65 128.288 1199.65 M128.288 1195.95 Q134.098 1195.95 137.154 1200.55 Q140.232 1205.14 140.232 1213.89 Q140.232 1222.61 137.154 1227.22 Q134.098 1231.8 128.288 1231.8 Q122.478 1231.8 119.399 1227.22 Q116.343 1222.61 116.343 1213.89 Q116.343 1205.14 119.399 1200.55 Q122.478 1195.95 128.288 1195.95 Z\" fill=\"#000000\" fill-rule=\"nonzero\" fill-opacity=\"1\" /><path clip-path=\"url(#clip440)\" d=\"M148.45 1225.25 L153.334 1225.25 L153.334 1231.13 L148.45 1231.13 L148.45 1225.25 Z\" fill=\"#000000\" fill-rule=\"nonzero\" fill-opacity=\"1\" /><path clip-path=\"url(#clip440)\" d=\"M167.547 1227.2 L183.866 1227.2 L183.866 1231.13 L161.922 1231.13 L161.922 1227.2 Q164.584 1224.44 169.167 1219.81 Q173.774 1215.16 174.954 1213.82 Q177.2 1211.29 178.079 1209.56 Q178.982 1207.8 178.982 1206.11 Q178.982 1203.36 177.038 1201.62 Q175.116 1199.88 172.014 1199.88 Q169.815 1199.88 167.362 1200.65 Q164.931 1201.41 162.153 1202.96 L162.153 1198.24 Q164.977 1197.11 167.431 1196.53 Q169.885 1195.95 171.922 1195.95 Q177.292 1195.95 180.487 1198.63 Q183.681 1201.32 183.681 1205.81 Q183.681 1207.94 182.871 1209.86 Q182.084 1211.76 179.977 1214.35 Q179.399 1215.02 176.297 1218.24 Q173.195 1221.43 167.547 1227.2 Z\" fill=\"#000000\" fill-rule=\"nonzero\" fill-opacity=\"1\" /><path clip-path=\"url(#clip440)\" d=\"M126.205 927.056 Q122.593 927.056 120.765 930.621 Q118.959 934.163 118.959 941.292 Q118.959 948.399 120.765 951.964 Q122.593 955.505 126.205 955.505 Q129.839 955.505 131.644 951.964 Q133.473 948.399 133.473 941.292 Q133.473 934.163 131.644 930.621 Q129.839 927.056 126.205 927.056 M126.205 923.353 Q132.015 923.353 135.07 927.959 Q138.149 932.542 138.149 941.292 Q138.149 950.019 135.07 954.626 Q132.015 959.209 126.205 959.209 Q120.394 959.209 117.316 954.626 Q114.26 950.019 114.26 941.292 Q114.26 932.542 117.316 927.959 Q120.394 923.353 126.205 923.353 Z\" fill=\"#000000\" fill-rule=\"nonzero\" fill-opacity=\"1\" /><path clip-path=\"url(#clip440)\" d=\"M146.366 952.658 L151.251 952.658 L151.251 958.538 L146.366 958.538 L146.366 952.658 Z\" fill=\"#000000\" fill-rule=\"nonzero\" fill-opacity=\"1\" /><path clip-path=\"url(#clip440)\" d=\"M174.283 928.052 L162.477 946.501 L174.283 946.501 L174.283 928.052 M173.056 923.978 L178.936 923.978 L178.936 946.501 L183.866 946.501 L183.866 950.389 L178.936 950.389 L178.936 958.538 L174.283 958.538 L174.283 950.389 L158.681 950.389 L158.681 945.876 L173.056 923.978 Z\" fill=\"#000000\" fill-rule=\"nonzero\" fill-opacity=\"1\" /><path clip-path=\"url(#clip440)\" d=\"M126.529 654.461 Q122.918 654.461 121.089 658.026 Q119.283 661.568 119.283 668.697 Q119.283 675.804 121.089 679.368 Q122.918 682.91 126.529 682.91 Q130.163 682.91 131.968 679.368 Q133.797 675.804 133.797 668.697 Q133.797 661.568 131.968 658.026 Q130.163 654.461 126.529 654.461 M126.529 650.757 Q132.339 650.757 135.394 655.364 Q138.473 659.947 138.473 668.697 Q138.473 677.424 135.394 682.03 Q132.339 686.614 126.529 686.614 Q120.718 686.614 117.64 682.03 Q114.584 677.424 114.584 668.697 Q114.584 659.947 117.64 655.364 Q120.718 650.757 126.529 650.757 Z\" fill=\"#000000\" fill-rule=\"nonzero\" fill-opacity=\"1\" /><path clip-path=\"url(#clip440)\" d=\"M146.691 680.063 L151.575 680.063 L151.575 685.942 L146.691 685.942 L146.691 680.063 Z\" fill=\"#000000\" fill-rule=\"nonzero\" fill-opacity=\"1\" /><path clip-path=\"url(#clip440)\" d=\"M172.339 666.799 Q169.19 666.799 167.339 668.952 Q165.51 671.105 165.51 674.855 Q165.51 678.581 167.339 680.757 Q169.19 682.91 172.339 682.91 Q175.487 682.91 177.315 680.757 Q179.167 678.581 179.167 674.855 Q179.167 671.105 177.315 668.952 Q175.487 666.799 172.339 666.799 M181.621 652.146 L181.621 656.406 Q179.862 655.572 178.056 655.132 Q176.274 654.693 174.514 654.693 Q169.885 654.693 167.431 657.818 Q165.001 660.943 164.653 667.262 Q166.019 665.248 168.079 664.183 Q170.139 663.095 172.616 663.095 Q177.825 663.095 180.834 666.267 Q183.866 669.415 183.866 674.855 Q183.866 680.179 180.718 683.396 Q177.57 686.614 172.339 686.614 Q166.343 686.614 163.172 682.03 Q160.001 677.424 160.001 668.697 Q160.001 660.503 163.89 655.642 Q167.778 650.757 174.329 650.757 Q176.089 650.757 177.871 651.105 Q179.676 651.452 181.621 652.146 Z\" fill=\"#000000\" fill-rule=\"nonzero\" fill-opacity=\"1\" /><path clip-path=\"url(#clip440)\" d=\"M126.783 381.866 Q123.172 381.866 121.343 385.431 Q119.538 388.972 119.538 396.102 Q119.538 403.208 121.343 406.773 Q123.172 410.315 126.783 410.315 Q130.417 410.315 132.223 406.773 Q134.052 403.208 134.052 396.102 Q134.052 388.972 132.223 385.431 Q130.417 381.866 126.783 381.866 M126.783 378.162 Q132.593 378.162 135.649 382.769 Q138.728 387.352 138.728 396.102 Q138.728 404.829 135.649 409.435 Q132.593 414.019 126.783 414.019 Q120.973 414.019 117.894 409.435 Q114.839 404.829 114.839 396.102 Q114.839 387.352 117.894 382.769 Q120.973 378.162 126.783 378.162 Z\" fill=\"#000000\" fill-rule=\"nonzero\" fill-opacity=\"1\" /><path clip-path=\"url(#clip440)\" d=\"M146.945 407.468 L151.829 407.468 L151.829 413.347 L146.945 413.347 L146.945 407.468 Z\" fill=\"#000000\" fill-rule=\"nonzero\" fill-opacity=\"1\" /><path clip-path=\"url(#clip440)\" d=\"M172.014 396.935 Q168.681 396.935 166.76 398.718 Q164.862 400.5 164.862 403.625 Q164.862 406.75 166.76 408.532 Q168.681 410.315 172.014 410.315 Q175.348 410.315 177.269 408.532 Q179.19 406.727 179.19 403.625 Q179.19 400.5 177.269 398.718 Q175.371 396.935 172.014 396.935 M167.339 394.945 Q164.329 394.204 162.64 392.144 Q160.973 390.084 160.973 387.121 Q160.973 382.977 163.913 380.57 Q166.876 378.162 172.014 378.162 Q177.176 378.162 180.116 380.57 Q183.056 382.977 183.056 387.121 Q183.056 390.084 181.366 392.144 Q179.7 394.204 176.714 394.945 Q180.093 395.732 181.968 398.023 Q183.866 400.315 183.866 403.625 Q183.866 408.648 180.788 411.333 Q177.732 414.019 172.014 414.019 Q166.297 414.019 163.218 411.333 Q160.163 408.648 160.163 403.625 Q160.163 400.315 162.061 398.023 Q163.959 395.732 167.339 394.945 M165.626 387.56 Q165.626 390.246 167.292 391.75 Q168.982 393.255 172.014 393.255 Q175.024 393.255 176.714 391.75 Q178.426 390.246 178.426 387.56 Q178.426 384.875 176.714 383.371 Q175.024 381.866 172.014 381.866 Q168.982 381.866 167.292 383.371 Q165.626 384.875 165.626 387.56 Z\" fill=\"#000000\" fill-rule=\"nonzero\" fill-opacity=\"1\" /><path clip-path=\"url(#clip440)\" d=\"M117.501 136.817 L125.14 136.817 L125.14 110.451 L116.83 112.118 L116.83 107.859 L125.093 106.192 L129.769 106.192 L129.769 136.817 L137.408 136.817 L137.408 140.752 L117.501 140.752 L117.501 136.817 Z\" fill=\"#000000\" fill-rule=\"nonzero\" fill-opacity=\"1\" /><path clip-path=\"url(#clip440)\" d=\"M146.853 134.873 L151.737 134.873 L151.737 140.752 L146.853 140.752 L146.853 134.873 Z\" fill=\"#000000\" fill-rule=\"nonzero\" fill-opacity=\"1\" /><path clip-path=\"url(#clip440)\" d=\"M171.922 109.271 Q168.311 109.271 166.482 112.836 Q164.677 116.377 164.677 123.507 Q164.677 130.613 166.482 134.178 Q168.311 137.72 171.922 137.72 Q175.556 137.72 177.362 134.178 Q179.19 130.613 179.19 123.507 Q179.19 116.377 177.362 112.836 Q175.556 109.271 171.922 109.271 M171.922 105.567 Q177.732 105.567 180.788 110.174 Q183.866 114.757 183.866 123.507 Q183.866 132.234 180.788 136.84 Q177.732 141.423 171.922 141.423 Q166.112 141.423 163.033 136.84 Q159.978 132.234 159.978 123.507 Q159.978 114.757 163.033 110.174 Q166.112 105.567 171.922 105.567 Z\" fill=\"#000000\" fill-rule=\"nonzero\" fill-opacity=\"1\" /><path clip-path=\"url(#clip440)\" d=\"M21.7677 993.942 L39.6235 993.942 L39.6235 985.857 Q39.6235 981.37 37.3 978.919 Q34.9765 976.468 30.6797 976.468 Q26.4147 976.468 24.0912 978.919 Q21.7677 981.37 21.7677 985.857 L21.7677 993.942 M16.4842 1000.37 L16.4842 985.857 Q16.4842 977.869 20.1126 973.794 Q23.7092 969.689 30.6797 969.689 Q37.7138 969.689 41.3104 973.794 Q44.907 977.869 44.907 985.857 L44.907 993.942 L64.0042 993.942 L64.0042 1000.37 L16.4842 1000.37 Z\" fill=\"#000000\" fill-rule=\"nonzero\" fill-opacity=\"1\" /><path clip-path=\"url(#clip440)\" d=\"M33.8307 941.807 Q33.2578 942.793 33.0032 943.971 Q32.7167 945.117 32.7167 946.517 Q32.7167 951.483 35.9632 954.156 Q39.1779 956.798 45.2253 956.798 L64.0042 956.798 L64.0042 962.686 L28.3562 962.686 L28.3562 956.798 L33.8944 956.798 Q30.6479 954.952 29.0883 951.992 Q27.4968 949.032 27.4968 944.799 Q27.4968 944.194 27.5923 943.462 Q27.656 942.73 27.8151 941.839 L33.8307 941.807 Z\" fill=\"#000000\" fill-rule=\"nonzero\" fill-opacity=\"1\" /><path clip-path=\"url(#clip440)\" d=\"M32.4621 923.283 Q32.4621 927.993 36.1542 930.73 Q39.8145 933.468 46.212 933.468 Q52.6095 933.468 56.3017 930.762 Q59.9619 928.025 59.9619 923.283 Q59.9619 918.604 56.2698 915.867 Q52.5777 913.129 46.212 913.129 Q39.8781 913.129 36.186 915.867 Q32.4621 918.604 32.4621 923.283 M27.4968 923.283 Q27.4968 915.644 32.4621 911.283 Q37.4273 906.923 46.212 906.923 Q54.9649 906.923 59.9619 911.283 Q64.9272 915.644 64.9272 923.283 Q64.9272 930.953 59.9619 935.314 Q54.9649 939.642 46.212 939.642 Q37.4273 939.642 32.4621 935.314 Q27.4968 930.953 27.4968 923.283 Z\" fill=\"#000000\" fill-rule=\"nonzero\" fill-opacity=\"1\" /><path clip-path=\"url(#clip440)\" d=\"M46.212 871.625 Q39.7508 871.625 36.0905 874.298 Q32.3984 876.94 32.3984 881.587 Q32.3984 886.234 36.0905 888.908 Q39.7508 891.55 46.212 891.55 Q52.6732 891.55 56.3653 888.908 Q60.0256 886.234 60.0256 881.587 Q60.0256 876.94 56.3653 874.298 Q52.6732 871.625 46.212 871.625 M33.7671 891.55 Q30.5842 889.703 29.0564 886.903 Q27.4968 884.07 27.4968 880.155 Q27.4968 873.662 32.6531 869.62 Q37.8093 865.546 46.212 865.546 Q54.6147 865.546 59.771 869.62 Q64.9272 873.662 64.9272 880.155 Q64.9272 884.07 63.3994 886.903 Q61.8398 889.703 58.657 891.55 L64.0042 891.55 L64.0042 897.438 L14.479 897.438 L14.479 891.55 L33.7671 891.55 Z\" fill=\"#000000\" fill-rule=\"nonzero\" fill-opacity=\"1\" /><path clip-path=\"url(#clip440)\" d=\"M46.0847 839.637 Q46.0847 846.735 47.7079 849.472 Q49.3312 852.209 53.2461 852.209 Q56.3653 852.209 58.2114 850.172 Q60.0256 848.104 60.0256 844.571 Q60.0256 839.701 56.5881 836.773 Q53.1188 833.813 47.3897 833.813 L46.0847 833.813 L46.0847 839.637 M43.6657 827.956 L64.0042 827.956 L64.0042 833.813 L58.5933 833.813 Q61.8398 835.818 63.3994 838.81 Q64.9272 841.802 64.9272 846.13 Q64.9272 851.605 61.8716 854.851 Q58.7843 858.066 53.6281 858.066 Q47.6125 858.066 44.5569 854.056 Q41.5014 850.013 41.5014 842.024 L41.5014 833.813 L40.9285 833.813 Q36.8862 833.813 34.6901 836.486 Q32.4621 839.128 32.4621 843.934 Q32.4621 846.99 33.1941 849.886 Q33.9262 852.782 35.3903 855.456 L29.9795 855.456 Q28.7381 852.241 28.1334 849.218 Q27.4968 846.194 27.4968 843.329 Q27.4968 835.595 31.5072 831.776 Q35.5176 827.956 43.6657 827.956 Z\" fill=\"#000000\" fill-rule=\"nonzero\" fill-opacity=\"1\" /><path clip-path=\"url(#clip440)\" d=\"M46.212 790.303 Q39.7508 790.303 36.0905 792.977 Q32.3984 795.618 32.3984 800.265 Q32.3984 804.912 36.0905 807.586 Q39.7508 810.228 46.212 810.228 Q52.6732 810.228 56.3653 807.586 Q60.0256 804.912 60.0256 800.265 Q60.0256 795.618 56.3653 792.977 Q52.6732 790.303 46.212 790.303 M33.7671 810.228 Q30.5842 808.382 29.0564 805.581 Q27.4968 802.748 27.4968 798.833 Q27.4968 792.34 32.6531 788.298 Q37.8093 784.224 46.212 784.224 Q54.6147 784.224 59.771 788.298 Q64.9272 792.34 64.9272 798.833 Q64.9272 802.748 63.3994 805.581 Q61.8398 808.382 58.657 810.228 L64.0042 810.228 L64.0042 816.116 L14.479 816.116 L14.479 810.228 L33.7671 810.228 Z\" fill=\"#000000\" fill-rule=\"nonzero\" fill-opacity=\"1\" /><path clip-path=\"url(#clip440)\" d=\"M28.3562 774.516 L28.3562 768.66 L64.0042 768.66 L64.0042 774.516 L28.3562 774.516 M14.479 774.516 L14.479 768.66 L21.895 768.66 L21.895 774.516 L14.479 774.516 Z\" fill=\"#000000\" fill-rule=\"nonzero\" fill-opacity=\"1\" /><path clip-path=\"url(#clip440)\" d=\"M14.479 756.406 L14.479 750.549 L64.0042 750.549 L64.0042 756.406 L14.479 756.406 Z\" fill=\"#000000\" fill-rule=\"nonzero\" fill-opacity=\"1\" /><path clip-path=\"url(#clip440)\" d=\"M28.3562 738.295 L28.3562 732.439 L64.0042 732.439 L64.0042 738.295 L28.3562 738.295 M14.479 738.295 L14.479 732.439 L21.895 732.439 L21.895 738.295 L14.479 738.295 Z\" fill=\"#000000\" fill-rule=\"nonzero\" fill-opacity=\"1\" /><path clip-path=\"url(#clip440)\" d=\"M33.7671 696.727 L14.479 696.727 L14.479 690.871 L64.0042 690.871 L64.0042 696.727 L58.657 696.727 Q61.8398 698.573 63.3994 701.406 Q64.9272 704.207 64.9272 708.154 Q64.9272 714.615 59.771 718.689 Q54.6147 722.731 46.212 722.731 Q37.8093 722.731 32.6531 718.689 Q27.4968 714.615 27.4968 708.154 Q27.4968 704.207 29.0564 701.406 Q30.5842 698.573 33.7671 696.727 M46.212 716.684 Q52.6732 716.684 56.3653 714.042 Q60.0256 711.368 60.0256 706.721 Q60.0256 702.074 56.3653 699.401 Q52.6732 696.727 46.212 696.727 Q39.7508 696.727 36.0905 699.401 Q32.3984 702.074 32.3984 706.721 Q32.3984 711.368 36.0905 714.042 Q39.7508 716.684 46.212 716.684 Z\" fill=\"#000000\" fill-rule=\"nonzero\" fill-opacity=\"1\" /><path clip-path=\"url(#clip440)\" d=\"M46.0847 662.607 Q46.0847 669.705 47.7079 672.442 Q49.3312 675.179 53.2461 675.179 Q56.3653 675.179 58.2114 673.142 Q60.0256 671.073 60.0256 667.54 Q60.0256 662.671 56.5881 659.742 Q53.1188 656.782 47.3897 656.782 L46.0847 656.782 L46.0847 662.607 M43.6657 650.926 L64.0042 650.926 L64.0042 656.782 L58.5933 656.782 Q61.8398 658.787 63.3994 661.779 Q64.9272 664.771 64.9272 669.1 Q64.9272 674.574 61.8716 677.821 Q58.7843 681.036 53.6281 681.036 Q47.6125 681.036 44.5569 677.025 Q41.5014 672.983 41.5014 664.994 L41.5014 656.782 L40.9285 656.782 Q36.8862 656.782 34.6901 659.456 Q32.4621 662.098 32.4621 666.904 Q32.4621 669.959 33.1941 672.856 Q33.9262 675.752 35.3903 678.426 L29.9795 678.426 Q28.7381 675.211 28.1334 672.187 Q27.4968 669.164 27.4968 666.299 Q27.4968 658.565 31.5072 654.745 Q35.5176 650.926 43.6657 650.926 Z\" fill=\"#000000\" fill-rule=\"nonzero\" fill-opacity=\"1\" /><path clip-path=\"url(#clip440)\" d=\"M33.7671 615.405 L14.479 615.405 L14.479 609.549 L64.0042 609.549 L64.0042 615.405 L58.657 615.405 Q61.8398 617.251 63.3994 620.084 Q64.9272 622.885 64.9272 626.832 Q64.9272 633.293 59.771 637.367 Q54.6147 641.409 46.212 641.409 Q37.8093 641.409 32.6531 637.367 Q27.4968 633.293 27.4968 626.832 Q27.4968 622.885 29.0564 620.084 Q30.5842 617.251 33.7671 615.405 M46.212 635.362 Q52.6732 635.362 56.3653 632.72 Q60.0256 630.046 60.0256 625.399 Q60.0256 620.752 56.3653 618.079 Q52.6732 615.405 46.212 615.405 Q39.7508 615.405 36.0905 618.079 Q32.3984 620.752 32.3984 625.399 Q32.3984 630.046 36.0905 632.72 Q39.7508 635.362 46.212 635.362 Z\" fill=\"#000000\" fill-rule=\"nonzero\" fill-opacity=\"1\" /><path clip-path=\"url(#clip440)\" d=\"M670.148 18.8205 L670.148 65.8515 L680.033 65.8515 Q692.55 65.8515 698.343 60.1802 Q704.176 54.509 704.176 42.2752 Q704.176 30.1225 698.343 24.4918 Q692.55 18.8205 680.033 18.8205 L670.148 18.8205 M661.965 12.096 L678.777 12.096 Q696.358 12.096 704.581 19.4281 Q712.804 26.7198 712.804 42.2752 Q712.804 57.9117 704.54 65.2439 Q696.277 72.576 678.777 72.576 L661.965 72.576 L661.965 12.096 Z\" fill=\"#000000\" fill-rule=\"nonzero\" fill-opacity=\"1\" /><path clip-path=\"url(#clip440)\" d=\"M725.524 27.2059 L732.978 27.2059 L732.978 72.576 L725.524 72.576 L725.524 27.2059 M725.524 9.54393 L732.978 9.54393 L732.978 18.9825 L725.524 18.9825 L725.524 9.54393 Z\" fill=\"#000000\" fill-rule=\"nonzero\" fill-opacity=\"1\" /><path clip-path=\"url(#clip440)\" d=\"M777.497 28.5427 L777.497 35.5912 Q774.338 33.9709 770.935 33.1607 Q767.532 32.3505 763.886 32.3505 Q758.336 32.3505 755.541 34.0519 Q752.787 35.7533 752.787 39.156 Q752.787 41.7486 754.772 43.2475 Q756.757 44.7058 762.752 46.0426 L765.304 46.6097 Q773.244 48.3111 776.566 51.4303 Q779.928 54.509 779.928 60.0587 Q779.928 66.3781 774.905 70.0644 Q769.922 73.7508 761.172 73.7508 Q757.526 73.7508 753.556 73.0216 Q749.627 72.3329 745.252 70.9151 L745.252 63.2184 Q749.384 65.3654 753.394 66.4591 Q757.405 67.5124 761.334 67.5124 Q766.6 67.5124 769.436 65.73 Q772.272 63.9071 772.272 60.6258 Q772.272 57.5877 770.206 55.9673 Q768.18 54.3469 761.253 52.8481 L758.661 52.2405 Q751.734 50.7821 748.655 47.7845 Q745.576 44.7463 745.576 39.4801 Q745.576 33.0797 750.113 29.5959 Q754.65 26.1121 762.995 26.1121 Q767.127 26.1121 770.773 26.7198 Q774.419 27.3274 777.497 28.5427 Z\" fill=\"#000000\" fill-rule=\"nonzero\" fill-opacity=\"1\" /><path clip-path=\"url(#clip440)\" d=\"M799.17 14.324 L799.17 27.2059 L814.523 27.2059 L814.523 32.9987 L799.17 32.9987 L799.17 57.6282 Q799.17 63.1779 800.668 64.7578 Q802.208 66.3376 806.866 66.3376 L814.523 66.3376 L814.523 72.576 L806.866 72.576 Q798.238 72.576 794.957 69.3758 Q791.675 66.1351 791.675 57.6282 L791.675 32.9987 L786.207 32.9987 L786.207 27.2059 L791.675 27.2059 L791.675 14.324 L799.17 14.324 Z\" fill=\"#000000\" fill-rule=\"nonzero\" fill-opacity=\"1\" /><path clip-path=\"url(#clip440)\" d=\"M850.616 34.1734 Q849.36 33.4443 847.861 33.1202 Q846.403 32.7556 844.621 32.7556 Q838.301 32.7556 834.899 36.8875 Q831.536 40.9789 831.536 48.6757 L831.536 72.576 L824.042 72.576 L824.042 27.2059 L831.536 27.2059 L831.536 34.2544 Q833.886 30.1225 837.653 28.1376 Q841.421 26.1121 846.808 26.1121 Q847.578 26.1121 848.51 26.2337 Q849.441 26.3147 850.576 26.5172 L850.616 34.1734 Z\" fill=\"#000000\" fill-rule=\"nonzero\" fill-opacity=\"1\" /><path clip-path=\"url(#clip440)\" d=\"M858.434 27.2059 L865.888 27.2059 L865.888 72.576 L858.434 72.576 L858.434 27.2059 M858.434 9.54393 L865.888 9.54393 L865.888 18.9825 L858.434 18.9825 L858.434 9.54393 Z\" fill=\"#000000\" fill-rule=\"nonzero\" fill-opacity=\"1\" /><path clip-path=\"url(#clip440)\" d=\"M914.053 49.9314 Q914.053 41.7081 910.65 37.0496 Q907.288 32.3505 901.374 32.3505 Q895.46 32.3505 892.057 37.0496 Q888.695 41.7081 888.695 49.9314 Q888.695 58.1548 892.057 62.8538 Q895.46 67.5124 901.374 67.5124 Q907.288 67.5124 910.65 62.8538 Q914.053 58.1548 914.053 49.9314 M888.695 34.0924 Q891.044 30.0415 894.609 28.0971 Q898.214 26.1121 903.197 26.1121 Q911.461 26.1121 916.605 32.6746 Q921.79 39.2371 921.79 49.9314 Q921.79 60.6258 916.605 67.1883 Q911.461 73.7508 903.197 73.7508 Q898.214 73.7508 894.609 71.8063 Q891.044 69.8214 888.695 65.7705 L888.695 72.576 L881.2 72.576 L881.2 9.54393 L888.695 9.54393 L888.695 34.0924 Z\" fill=\"#000000\" fill-rule=\"nonzero\" fill-opacity=\"1\" /><path clip-path=\"url(#clip440)\" d=\"M933.376 54.671 L933.376 27.2059 L940.83 27.2059 L940.83 54.3874 Q940.83 60.8284 943.341 64.0691 Q945.853 67.2693 950.876 67.2693 Q956.912 67.2693 960.396 63.421 Q963.92 59.5726 963.92 52.9291 L963.92 27.2059 L971.374 27.2059 L971.374 72.576 L963.92 72.576 L963.92 65.6084 Q961.206 69.7404 957.6 71.7658 Q954.036 73.7508 949.296 73.7508 Q941.478 73.7508 937.427 68.8897 Q933.376 64.0286 933.376 54.671 M952.132 26.1121 L952.132 26.1121 Z\" fill=\"#000000\" fill-rule=\"nonzero\" fill-opacity=\"1\" /><path clip-path=\"url(#clip440)\" d=\"M1019.38 28.9478 L1019.38 35.9153 Q1016.22 34.1734 1013.02 33.3227 Q1009.86 32.4315 1006.62 32.4315 Q999.365 32.4315 995.355 37.0496 Q991.344 41.6271 991.344 49.9314 Q991.344 58.2358 995.355 62.8538 Q999.365 67.4314 1006.62 67.4314 Q1009.86 67.4314 1013.02 66.5807 Q1016.22 65.6895 1019.38 63.9476 L1019.38 70.8341 Q1016.26 72.2924 1012.9 73.0216 Q1009.57 73.7508 1005.81 73.7508 Q995.557 73.7508 989.522 67.3098 Q983.486 60.8689 983.486 49.9314 Q983.486 38.832 989.562 32.472 Q995.679 26.1121 1006.29 26.1121 Q1009.74 26.1121 1013.02 26.8413 Q1016.3 27.5299 1019.38 28.9478 Z\" fill=\"#000000\" fill-rule=\"nonzero\" fill-opacity=\"1\" /><path clip-path=\"url(#clip440)\" d=\"M1032.34 27.2059 L1039.79 27.2059 L1039.79 72.576 L1032.34 72.576 L1032.34 27.2059 M1032.34 9.54393 L1039.79 9.54393 L1039.79 18.9825 L1032.34 18.9825 L1032.34 9.54393 Z\" fill=\"#000000\" fill-rule=\"nonzero\" fill-opacity=\"1\" /><path clip-path=\"url(#clip440)\" d=\"M1072.97 32.4315 Q1066.97 32.4315 1063.49 37.1306 Q1060.01 41.7891 1060.01 49.9314 Q1060.01 58.0738 1063.45 62.7728 Q1066.93 67.4314 1072.97 67.4314 Q1078.93 67.4314 1082.41 62.7323 Q1085.89 58.0333 1085.89 49.9314 Q1085.89 41.8701 1082.41 37.1711 Q1078.93 32.4315 1072.97 32.4315 M1072.97 26.1121 Q1082.69 26.1121 1088.24 32.4315 Q1093.79 38.7509 1093.79 49.9314 Q1093.79 61.0714 1088.24 67.4314 Q1082.69 73.7508 1072.97 73.7508 Q1063.21 73.7508 1057.66 67.4314 Q1052.15 61.0714 1052.15 49.9314 Q1052.15 38.7509 1057.66 32.4315 Q1063.21 26.1121 1072.97 26.1121 M1078.6 6.22219 L1086.66 6.22219 L1073.46 21.4536 L1067.26 21.4536 L1078.6 6.22219 Z\" fill=\"#000000\" fill-rule=\"nonzero\" fill-opacity=\"1\" /><path clip-path=\"url(#clip440)\" d=\"M1143.86 45.1919 L1143.86 72.576 L1136.41 72.576 L1136.41 45.4349 Q1136.41 38.994 1133.9 35.7938 Q1131.38 32.5936 1126.36 32.5936 Q1120.33 32.5936 1116.84 36.4419 Q1113.36 40.2903 1113.36 46.9338 L1113.36 72.576 L1105.86 72.576 L1105.86 27.2059 L1113.36 27.2059 L1113.36 34.2544 Q1116.03 30.163 1119.64 28.1376 Q1123.28 26.1121 1128.02 26.1121 Q1135.84 26.1121 1139.85 30.9732 Q1143.86 35.7938 1143.86 45.1919 Z\" fill=\"#000000\" fill-rule=\"nonzero\" fill-opacity=\"1\" /><path clip-path=\"url(#clip440)\" d=\"M1214.95 34.0924 L1214.95 9.54393 L1222.41 9.54393 L1222.41 72.576 L1214.95 72.576 L1214.95 65.7705 Q1212.6 69.8214 1209 71.8063 Q1205.43 73.7508 1200.41 73.7508 Q1192.19 73.7508 1187 67.1883 Q1181.86 60.6258 1181.86 49.9314 Q1181.86 39.2371 1187 32.6746 Q1192.19 26.1121 1200.41 26.1121 Q1205.43 26.1121 1209 28.0971 Q1212.6 30.0415 1214.95 34.0924 M1189.56 49.9314 Q1189.56 58.1548 1192.92 62.8538 Q1196.32 67.5124 1202.23 67.5124 Q1208.15 67.5124 1211.55 62.8538 Q1214.95 58.1548 1214.95 49.9314 Q1214.95 41.7081 1211.55 37.0496 Q1208.15 32.3505 1202.23 32.3505 Q1196.32 32.3505 1192.92 37.0496 Q1189.56 41.7081 1189.56 49.9314 Z\" fill=\"#000000\" fill-rule=\"nonzero\" fill-opacity=\"1\" /><path clip-path=\"url(#clip440)\" d=\"M1276.57 48.0275 L1276.57 51.6733 L1242.3 51.6733 Q1242.78 59.3701 1246.92 63.421 Q1251.09 67.4314 1258.5 67.4314 Q1262.8 67.4314 1266.81 66.3781 Q1270.86 65.3249 1274.83 63.2184 L1274.83 70.267 Q1270.82 71.9684 1266.6 72.8596 Q1262.39 73.7508 1258.06 73.7508 Q1247.2 73.7508 1240.84 67.4314 Q1234.52 61.1119 1234.52 50.3365 Q1234.52 39.1965 1240.52 32.6746 Q1246.55 26.1121 1256.76 26.1121 Q1265.91 26.1121 1271.22 32.0264 Q1276.57 37.9003 1276.57 48.0275 M1269.11 45.84 Q1269.03 39.7232 1265.67 36.0774 Q1262.35 32.4315 1256.84 32.4315 Q1250.6 32.4315 1246.84 35.9558 Q1243.11 39.4801 1242.54 45.8805 L1269.11 45.84 Z\" fill=\"#000000\" fill-rule=\"nonzero\" fill-opacity=\"1\" /><path clip-path=\"url(#clip440)\" d=\"M1323.68 18.8205 L1323.68 41.5461 L1333.97 41.5461 Q1339.68 41.5461 1342.8 38.5889 Q1345.92 35.6318 1345.92 30.163 Q1345.92 24.7348 1342.8 21.7777 Q1339.68 18.8205 1333.97 18.8205 L1323.68 18.8205 M1315.5 12.096 L1333.97 12.096 Q1344.14 12.096 1349.32 16.714 Q1354.55 21.2916 1354.55 30.163 Q1354.55 39.1155 1349.32 43.6931 Q1344.14 48.2706 1333.97 48.2706 L1323.68 48.2706 L1323.68 72.576 L1315.5 72.576 L1315.5 12.096 Z\" fill=\"#000000\" fill-rule=\"nonzero\" fill-opacity=\"1\" /><path clip-path=\"url(#clip440)\" d=\"M1390.03 34.1734 Q1388.78 33.4443 1387.28 33.1202 Q1385.82 32.7556 1384.04 32.7556 Q1377.72 32.7556 1374.32 36.8875 Q1370.95 40.9789 1370.95 48.6757 L1370.95 72.576 L1363.46 72.576 L1363.46 27.2059 L1370.95 27.2059 L1370.95 34.2544 Q1373.3 30.1225 1377.07 28.1376 Q1380.84 26.1121 1386.23 26.1121 Q1387 26.1121 1387.93 26.2337 Q1388.86 26.3147 1389.99 26.5172 L1390.03 34.1734 Z\" fill=\"#000000\" fill-rule=\"nonzero\" fill-opacity=\"1\" /><path clip-path=\"url(#clip440)\" d=\"M1413.61 32.4315 Q1407.62 32.4315 1404.13 37.1306 Q1400.65 41.7891 1400.65 49.9314 Q1400.65 58.0738 1404.09 62.7728 Q1407.57 67.4314 1413.61 67.4314 Q1419.57 67.4314 1423.05 62.7323 Q1426.53 58.0333 1426.53 49.9314 Q1426.53 41.8701 1423.05 37.1711 Q1419.57 32.4315 1413.61 32.4315 M1413.61 26.1121 Q1423.33 26.1121 1428.88 32.4315 Q1434.43 38.7509 1434.43 49.9314 Q1434.43 61.0714 1428.88 67.4314 Q1423.33 73.7508 1413.61 73.7508 Q1403.85 73.7508 1398.3 67.4314 Q1392.79 61.0714 1392.79 49.9314 Q1392.79 38.7509 1398.3 32.4315 Q1403.85 26.1121 1413.61 26.1121 Z\" fill=\"#000000\" fill-rule=\"nonzero\" fill-opacity=\"1\" /><path clip-path=\"url(#clip440)\" d=\"M1479.36 49.9314 Q1479.36 41.7081 1475.95 37.0496 Q1472.59 32.3505 1466.68 32.3505 Q1460.76 32.3505 1457.36 37.0496 Q1454 41.7081 1454 49.9314 Q1454 58.1548 1457.36 62.8538 Q1460.76 67.5124 1466.68 67.5124 Q1472.59 67.5124 1475.95 62.8538 Q1479.36 58.1548 1479.36 49.9314 M1454 34.0924 Q1456.35 30.0415 1459.91 28.0971 Q1463.52 26.1121 1468.5 26.1121 Q1476.76 26.1121 1481.91 32.6746 Q1487.09 39.2371 1487.09 49.9314 Q1487.09 60.6258 1481.91 67.1883 Q1476.76 73.7508 1468.5 73.7508 Q1463.52 73.7508 1459.91 71.8063 Q1456.35 69.8214 1454 65.7705 L1454 72.576 L1446.5 72.576 L1446.5 9.54393 L1454 9.54393 L1454 34.0924 Z\" fill=\"#000000\" fill-rule=\"nonzero\" fill-opacity=\"1\" /><path clip-path=\"url(#clip440)\" d=\"M1520.07 49.7694 Q1511.03 49.7694 1507.55 51.8354 Q1504.07 53.9013 1504.07 58.8839 Q1504.07 62.8538 1506.66 65.2034 Q1509.29 67.5124 1513.79 67.5124 Q1519.99 67.5124 1523.71 63.1374 Q1527.48 58.7219 1527.48 51.4303 L1527.48 49.7694 L1520.07 49.7694 M1534.94 46.6907 L1534.94 72.576 L1527.48 72.576 L1527.48 65.6895 Q1524.93 69.8214 1521.12 71.8063 Q1517.31 73.7508 1511.8 73.7508 Q1504.84 73.7508 1500.71 69.8619 Q1496.61 65.9325 1496.61 59.3701 Q1496.61 51.7138 1501.72 47.825 Q1506.86 43.9361 1517.03 43.9361 L1527.48 43.9361 L1527.48 43.2069 Q1527.48 38.0623 1524.08 35.2672 Q1520.72 32.4315 1514.6 32.4315 Q1510.71 32.4315 1507.02 33.3632 Q1503.34 34.295 1499.94 36.1584 L1499.94 29.2718 Q1504.03 27.692 1507.88 26.9223 Q1511.72 26.1121 1515.37 26.1121 Q1525.21 26.1121 1530.07 31.2163 Q1534.94 36.3204 1534.94 46.6907 Z\" fill=\"#000000\" fill-rule=\"nonzero\" fill-opacity=\"1\" /><path clip-path=\"url(#clip440)\" d=\"M1582.86 49.9314 Q1582.86 41.7081 1579.45 37.0496 Q1576.09 32.3505 1570.18 32.3505 Q1564.26 32.3505 1560.86 37.0496 Q1557.5 41.7081 1557.5 49.9314 Q1557.5 58.1548 1560.86 62.8538 Q1564.26 67.5124 1570.18 67.5124 Q1576.09 67.5124 1579.45 62.8538 Q1582.86 58.1548 1582.86 49.9314 M1557.5 34.0924 Q1559.85 30.0415 1563.41 28.0971 Q1567.02 26.1121 1572 26.1121 Q1580.26 26.1121 1585.41 32.6746 Q1590.59 39.2371 1590.59 49.9314 Q1590.59 60.6258 1585.41 67.1883 Q1580.26 73.7508 1572 73.7508 Q1567.02 73.7508 1563.41 71.8063 Q1559.85 69.8214 1557.5 65.7705 L1557.5 72.576 L1550 72.576 L1550 9.54393 L1557.5 9.54393 L1557.5 34.0924 Z\" fill=\"#000000\" fill-rule=\"nonzero\" fill-opacity=\"1\" /><path clip-path=\"url(#clip440)\" d=\"M1602.95 27.2059 L1610.4 27.2059 L1610.4 72.576 L1602.95 72.576 L1602.95 27.2059 M1602.95 9.54393 L1610.4 9.54393 L1610.4 18.9825 L1602.95 18.9825 L1602.95 9.54393 Z\" fill=\"#000000\" fill-rule=\"nonzero\" fill-opacity=\"1\" /><path clip-path=\"url(#clip440)\" d=\"M1626 9.54393 L1633.45 9.54393 L1633.45 72.576 L1626 72.576 L1626 9.54393 Z\" fill=\"#000000\" fill-rule=\"nonzero\" fill-opacity=\"1\" /><path clip-path=\"url(#clip440)\" d=\"M1649.05 27.2059 L1656.5 27.2059 L1656.5 72.576 L1649.05 72.576 L1649.05 27.2059 M1649.05 9.54393 L1656.5 9.54393 L1656.5 18.9825 L1649.05 18.9825 L1649.05 9.54393 Z\" fill=\"#000000\" fill-rule=\"nonzero\" fill-opacity=\"1\" /><path clip-path=\"url(#clip440)\" d=\"M1701.95 34.0924 L1701.95 9.54393 L1709.41 9.54393 L1709.41 72.576 L1701.95 72.576 L1701.95 65.7705 Q1699.6 69.8214 1696 71.8063 Q1692.43 73.7508 1687.41 73.7508 Q1679.19 73.7508 1674 67.1883 Q1668.86 60.6258 1668.86 49.9314 Q1668.86 39.2371 1674 32.6746 Q1679.19 26.1121 1687.41 26.1121 Q1692.43 26.1121 1696 28.0971 Q1699.6 30.0415 1701.95 34.0924 M1676.55 49.9314 Q1676.55 58.1548 1679.92 62.8538 Q1683.32 67.5124 1689.23 67.5124 Q1695.15 67.5124 1698.55 62.8538 Q1701.95 58.1548 1701.95 49.9314 Q1701.95 41.7081 1698.55 37.0496 Q1695.15 32.3505 1689.23 32.3505 Q1683.32 32.3505 1679.92 37.0496 Q1676.55 41.7081 1676.55 49.9314 Z\" fill=\"#000000\" fill-rule=\"nonzero\" fill-opacity=\"1\" /><path clip-path=\"url(#clip440)\" d=\"M1745.38 49.7694 Q1736.35 49.7694 1732.86 51.8354 Q1729.38 53.9013 1729.38 58.8839 Q1729.38 62.8538 1731.97 65.2034 Q1734.6 67.5124 1739.1 67.5124 Q1745.3 67.5124 1749.03 63.1374 Q1752.79 58.7219 1752.79 51.4303 L1752.79 49.7694 L1745.38 49.7694 M1760.25 46.6907 L1760.25 72.576 L1752.79 72.576 L1752.79 65.6895 Q1750.24 69.8214 1746.43 71.8063 Q1742.63 73.7508 1737.12 73.7508 Q1730.15 73.7508 1726.02 69.8619 Q1721.93 65.9325 1721.93 59.3701 Q1721.93 51.7138 1727.03 47.825 Q1732.17 43.9361 1742.34 43.9361 L1752.79 43.9361 L1752.79 43.2069 Q1752.79 38.0623 1749.39 35.2672 Q1746.03 32.4315 1739.91 32.4315 Q1736.02 32.4315 1732.34 33.3632 Q1728.65 34.295 1725.25 36.1584 L1725.25 29.2718 Q1729.34 27.692 1733.19 26.9223 Q1737.03 26.1121 1740.68 26.1121 Q1750.52 26.1121 1755.39 31.2163 Q1760.25 36.3204 1760.25 46.6907 Z\" fill=\"#000000\" fill-rule=\"nonzero\" fill-opacity=\"1\" /><path clip-path=\"url(#clip440)\" d=\"M1805.45 34.0924 L1805.45 9.54393 L1812.91 9.54393 L1812.91 72.576 L1805.45 72.576 L1805.45 65.7705 Q1803.11 69.8214 1799.5 71.8063 Q1795.94 73.7508 1790.91 73.7508 Q1782.69 73.7508 1777.5 67.1883 Q1772.36 60.6258 1772.36 49.9314 Q1772.36 39.2371 1777.5 32.6746 Q1782.69 26.1121 1790.91 26.1121 Q1795.94 26.1121 1799.5 28.0971 Q1803.11 30.0415 1805.45 34.0924 M1780.06 49.9314 Q1780.06 58.1548 1783.42 62.8538 Q1786.82 67.5124 1792.73 67.5124 Q1798.65 67.5124 1802.05 62.8538 Q1805.45 58.1548 1805.45 49.9314 Q1805.45 41.7081 1802.05 37.0496 Q1798.65 32.3505 1792.73 32.3505 Q1786.82 32.3505 1783.42 37.0496 Q1780.06 41.7081 1780.06 49.9314 Z\" fill=\"#000000\" fill-rule=\"nonzero\" fill-opacity=\"1\" /><path clip-path=\"url(#clip440)\" d=\"M1867.07 48.0275 L1867.07 51.6733 L1832.8 51.6733 Q1833.28 59.3701 1837.42 63.421 Q1841.59 67.4314 1849 67.4314 Q1853.3 67.4314 1857.31 66.3781 Q1861.36 65.3249 1865.33 63.2184 L1865.33 70.267 Q1861.32 71.9684 1857.1 72.8596 Q1852.89 73.7508 1848.56 73.7508 Q1837.7 73.7508 1831.34 67.4314 Q1825.02 61.1119 1825.02 50.3365 Q1825.02 39.1965 1831.02 32.6746 Q1837.05 26.1121 1847.26 26.1121 Q1856.42 26.1121 1861.72 32.0264 Q1867.07 37.9003 1867.07 48.0275 M1859.62 45.84 Q1859.53 39.7232 1856.17 36.0774 Q1852.85 32.4315 1847.34 32.4315 Q1841.1 32.4315 1837.34 35.9558 Q1833.61 39.4801 1833.04 45.8805 L1859.62 45.84 Z\" fill=\"#000000\" fill-rule=\"nonzero\" fill-opacity=\"1\" /><path clip-path=\"url(#clip440)\" d=\"M1908.23 28.5427 L1908.23 35.5912 Q1905.07 33.9709 1901.66 33.1607 Q1898.26 32.3505 1894.62 32.3505 Q1889.07 32.3505 1886.27 34.0519 Q1883.52 35.7533 1883.52 39.156 Q1883.52 41.7486 1885.5 43.2475 Q1887.49 44.7058 1893.48 46.0426 L1896.03 46.6097 Q1903.97 48.3111 1907.29 51.4303 Q1910.66 54.509 1910.66 60.0587 Q1910.66 66.3781 1905.63 70.0644 Q1900.65 73.7508 1891.9 73.7508 Q1888.26 73.7508 1884.29 73.0216 Q1880.36 72.3329 1875.98 70.9151 L1875.98 63.2184 Q1880.11 65.3654 1884.12 66.4591 Q1888.13 67.5124 1892.06 67.5124 Q1897.33 67.5124 1900.16 65.73 Q1903 63.9071 1903 60.6258 Q1903 57.5877 1900.93 55.9673 Q1898.91 54.3469 1891.98 52.8481 L1889.39 52.2405 Q1882.46 50.7821 1879.38 47.7845 Q1876.31 44.7463 1876.31 39.4801 Q1876.31 33.0797 1880.84 29.5959 Q1885.38 26.1121 1893.72 26.1121 Q1897.86 26.1121 1901.5 26.7198 Q1905.15 27.3274 1908.23 28.5427 Z\" fill=\"#000000\" fill-rule=\"nonzero\" fill-opacity=\"1\" /><path clip-path=\"url(#clip442)\" d=\"M337.179 804.96 L337.179 1486.45 L736.814 1486.45 L736.814 804.96 L337.179 804.96 L337.179 804.96  Z\" fill=\"#87ceeb\" fill-rule=\"evenodd\" fill-opacity=\"1\"/>\n",
       "<polyline clip-path=\"url(#clip442)\" style=\"stroke:#000000; stroke-linecap:round; stroke-linejoin:round; stroke-width:4; stroke-opacity:1; fill:none\" points=\"337.179,804.96 337.179,1486.45 736.814,1486.45 736.814,804.96 337.179,804.96 \"/>\n",
       "<path clip-path=\"url(#clip442)\" d=\"M836.722 1486.45 L836.722 1486.45 L1236.36 1486.45 L1236.36 1486.45 L836.722 1486.45 L836.722 1486.45  Z\" fill=\"#87ceeb\" fill-rule=\"evenodd\" fill-opacity=\"1\"/>\n",
       "<polyline clip-path=\"url(#clip442)\" style=\"stroke:#000000; stroke-linecap:round; stroke-linejoin:round; stroke-width:4; stroke-opacity:1; fill:none\" points=\"836.722,1486.45 836.722,1486.45 1236.36,1486.45 836.722,1486.45 \"/>\n",
       "<path clip-path=\"url(#clip442)\" d=\"M1336.27 1486.45 L1336.27 1486.45 L1735.9 1486.45 L1735.9 1486.45 L1336.27 1486.45 L1336.27 1486.45  Z\" fill=\"#87ceeb\" fill-rule=\"evenodd\" fill-opacity=\"1\"/>\n",
       "<polyline clip-path=\"url(#clip442)\" style=\"stroke:#000000; stroke-linecap:round; stroke-linejoin:round; stroke-width:4; stroke-opacity:1; fill:none\" points=\"1336.27,1486.45 1336.27,1486.45 1735.9,1486.45 1336.27,1486.45 \"/>\n",
       "<path clip-path=\"url(#clip442)\" d=\"M1835.81 804.96 L1835.81 1486.45 L2235.44 1486.45 L2235.44 804.96 L1835.81 804.96 L1835.81 804.96  Z\" fill=\"#87ceeb\" fill-rule=\"evenodd\" fill-opacity=\"1\"/>\n",
       "<polyline clip-path=\"url(#clip442)\" style=\"stroke:#000000; stroke-linecap:round; stroke-linejoin:round; stroke-width:4; stroke-opacity:1; fill:none\" points=\"1835.81,804.96 1835.81,1486.45 2235.44,1486.45 2235.44,804.96 1835.81,804.96 \"/>\n",
       "<circle clip-path=\"url(#clip442)\" style=\"fill:#87ceeb; stroke:none; fill-opacity:0\" cx=\"536.996\" cy=\"804.96\" r=\"2\"/>\n",
       "<circle clip-path=\"url(#clip442)\" style=\"fill:#87ceeb; stroke:none; fill-opacity:0\" cx=\"1036.54\" cy=\"1486.45\" r=\"2\"/>\n",
       "<circle clip-path=\"url(#clip442)\" style=\"fill:#87ceeb; stroke:none; fill-opacity:0\" cx=\"1536.08\" cy=\"1486.45\" r=\"2\"/>\n",
       "<circle clip-path=\"url(#clip442)\" style=\"fill:#87ceeb; stroke:none; fill-opacity:0\" cx=\"2035.63\" cy=\"804.96\" r=\"2\"/>\n",
       "</svg>\n"
      ],
      "text/html": [
       "<img src=\"data:image/png;base64,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\" />"
      ]
     },
     "execution_count": 14,
     "metadata": {},
     "output_type": "execute_result"
    }
   ],
   "source": [
    "using Plots\n",
    "\n",
    "bar(basis_states, probs,\n",
    "    title=\"Distribución de Probabilidades\",\n",
    "    ylabel=\"Probabilidad\",\n",
    "    legend=false,\n",
    "    color=:skyblue,\n",
    "    ylims=(0,1))"
   ]
  }
 ],
 "metadata": {
  "kernelspec": {
   "display_name": "Julia 1.11.6",
   "language": "julia",
   "name": "julia-1.11"
  },
  "language_info": {
   "codemirror_mode": {
    "name": "ipython",
    "version": 3
   },
   "file_extension": ".py",
   "mimetype": "text/x-python",
   "name": "julia",
   "nbconvert_exporter": "python",
   "pygments_lexer": "ipython3",
   "version": "3.13.5"
  }
 },
 "nbformat": 4,
 "nbformat_minor": 5
}
