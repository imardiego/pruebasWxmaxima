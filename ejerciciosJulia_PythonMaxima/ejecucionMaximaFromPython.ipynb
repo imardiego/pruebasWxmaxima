{
 "cells": [
  {
   "cell_type": "markdown",
   "id": "a39503d3",
   "metadata": {},
   "source": [
    "## SageMath  : no he conseguido que funcione\n",
    "\n",
    "$sudo apt update\n",
    "\n",
    "$sudo apt install sagemath\n",
    "\n",
    "\n",
    "https://doc.sagemath.org/html/en/installation/index.html\n",
    "\n",
    "\n",
    "El proyecto no está muy mantenido y además la instalación es bastante complicada."
   ]
  },
  {
   "cell_type": "code",
   "execution_count": null,
   "id": "556a3a8c",
   "metadata": {},
   "outputs": [
    {
     "ename": "ModuleNotFoundError",
     "evalue": "No module named 'sageall'",
     "output_type": "error",
     "traceback": [
      "\u001b[31m---------------------------------------------------------------------------\u001b[39m",
      "\u001b[31mModuleNotFoundError\u001b[39m                       Traceback (most recent call last)",
      "\u001b[36mCell\u001b[39m\u001b[36m \u001b[39m\u001b[32mIn[1]\u001b[39m\u001b[32m, line 1\u001b[39m\n\u001b[32m----> \u001b[39m\u001b[32m1\u001b[39m \u001b[38;5;28;01mfrom\u001b[39;00m\u001b[38;5;250m \u001b[39m\u001b[34;01msageall\u001b[39;00m\u001b[38;5;250m \u001b[39m\u001b[38;5;28;01mimport\u001b[39;00m maxima\n\u001b[32m      3\u001b[39m \u001b[38;5;28mprint\u001b[39m(maxima(\u001b[33m'\u001b[39m\u001b[33mintegrate(sin(x), x)\u001b[39m\u001b[33m'\u001b[39m))\n",
      "\u001b[31mModuleNotFoundError\u001b[39m: No module named 'sageall'"
     ]
    }
   ],
   "source": [
    "from sageall import maxima\n",
    "\n",
    "print(maxima('integrate(sin(x), x)'))"
   ]
  },
  {
   "cell_type": "markdown",
   "id": "143cf6f4",
   "metadata": {},
   "source": [
    "## Con maxima_interface\n",
    "\n",
    "https://pypi.org/project/maxima-interface/\n",
    "\n",
    "Es una biblioteca que proporciona una interfaz más directa para ejecutar Maxima desde Python. Para instalarla, ejecuta pip install maxima_python en la terminal. \n",
    "\n",
    "\n",
    "Sencillo y rápido"
   ]
  },
  {
   "cell_type": "code",
   "execution_count": null,
   "id": "8fb409aa",
   "metadata": {},
   "outputs": [],
   "source": [
    "%pip install jupyter"
   ]
  },
  {
   "cell_type": "code",
   "execution_count": null,
   "id": "3978af15",
   "metadata": {},
   "outputs": [],
   "source": [
    "%pip install maxima_interface\n",
    "\n"
   ]
  },
  {
   "cell_type": "code",
   "execution_count": 2,
   "id": "1bfa3711",
   "metadata": {},
   "outputs": [
    {
     "name": "stdout",
     "output_type": "stream",
     "text": [
      "[x = -1]\n"
     ]
    }
   ],
   "source": [
    "from maxima_interface import MaximaInterface\n",
    "\n",
    "mi = MaximaInterface()\n",
    "mi.raw_command(\"a: solve(x^2 + 2*x + 1 = 0, x);\")\n",
    "result = mi.raw_command(\"a;\")\n",
    "\n",
    "print(result)\n",
    "\n",
    "mi.close()"
   ]
  },
  {
   "cell_type": "markdown",
   "id": "2ed57f73",
   "metadata": {},
   "source": [
    "## Con sympy\n",
    "\n",
    "Es una librería de Python para cálculo simbólico. Aunque no es una interfaz directa a Maxima, puede utilizar Maxima para ciertas operaciones simbólicas. \n",
    "\n",
    "Para instalarla: \n",
    "\n",
    "$pip install sympy  "
   ]
  },
  {
   "cell_type": "code",
   "execution_count": null,
   "id": "86d111f7",
   "metadata": {},
   "outputs": [
    {
     "name": "stdout",
     "output_type": "stream",
     "text": [
      "Collecting sympy\n",
      "  Using cached sympy-1.14.0-py3-none-any.whl.metadata (12 kB)\n",
      "Collecting mpmath<1.4,>=1.1.0 (from sympy)\n",
      "  Using cached mpmath-1.3.0-py3-none-any.whl.metadata (8.6 kB)\n",
      "Using cached sympy-1.14.0-py3-none-any.whl (6.3 MB)\n",
      "Using cached mpmath-1.3.0-py3-none-any.whl (536 kB)\n",
      "Installing collected packages: mpmath, sympy\n",
      "\u001b[2K   \u001b[90m━━━━━━━━━━━━━━━━━━━━━━━━━━━━━━━━━━━━━━━━\u001b[0m \u001b[32m2/2\u001b[0m [sympy]32m1/2\u001b[0m [sympy]\n",
      "\u001b[1A\u001b[2KSuccessfully installed mpmath-1.3.0 sympy-1.14.0\n",
      "Note: you may need to restart the kernel to use updated packages.\n"
     ]
    }
   ],
   "source": [
    "%pip install sympy"
   ]
  },
  {
   "cell_type": "code",
   "execution_count": 3,
   "id": "5d53a304",
   "metadata": {},
   "outputs": [
    {
     "name": "stdout",
     "output_type": "stream",
     "text": [
      "2*x + 2\n"
     ]
    }
   ],
   "source": [
    "import sympy\n",
    "\n",
    "x = sympy.Symbol('x')\n",
    "\n",
    "# Define una función\n",
    "f = x**2 + 2*x + 1\n",
    "\n",
    "# Calcula la derivada\n",
    "df = sympy.diff(f, x)\n",
    "\n",
    "# Imprime el resultado\n",
    "print(df)"
   ]
  },
  {
   "cell_type": "markdown",
   "id": "ed4f76a4",
   "metadata": {},
   "source": [
    "## Con OS.system\n",
    "\n",
    "El módulo os en Python proporciona una interfaz para interactuar con el sistema operativo, permitiendo ejecutar comandos del sistema. os.system() es una función dentro de este módulo que ejecuta un comando especificado como una cadena en una sub-shell del sistema operativo. En el contexto de Maxima y Python, os.system() se puede usar para ejecutar scripts o **comandos de Maxima** desde un programa Python o viceversa. \n",
    "\n",
    "**Con os se pueden ejecutar comandos de Maxima desde python y obtener su respuesta.**"
   ]
  },
  {
   "cell_type": "code",
   "execution_count": 4,
   "id": "76df0481",
   "metadata": {},
   "outputs": [
    {
     "name": "stdout",
     "output_type": "stream",
     "text": [
      "\n",
      "Maxima 5.46.0 https://maxima.sourceforge.io\n",
      "using Lisp GNU Common Lisp (GCL) GCL 2.6.14 git tag Version_2_6_15pre7\n",
      "Distributed under the GNU Public License. See the file COPYING.\n",
      "Dedicated to the memory of William Schelter.\n",
      "The function bug_report() provides bug reporting information.\n",
      "(%i1) solve(x^2+2*x+1 = 0,x)\n",
      "(%o1)                              [x = - 1]\n"
     ]
    }
   ],
   "source": [
    "# Sin comprobar la devolución de la ejecución del comando en maxima\n",
    "import os\n",
    "# Ejemplo: Calcular la derivada de x^2 en Maxima\n",
    "comando = \"maxima --batch-string=\\\"solve(x^2 + 2*x + 1 = 0, x);\\\"\"\n",
    "codigo_salida = os.system(comando)\n"
   ]
  },
  {
   "cell_type": "code",
   "execution_count": 5,
   "id": "4f00f2eb",
   "metadata": {},
   "outputs": [
    {
     "name": "stdout",
     "output_type": "stream",
     "text": [
      "\n",
      "Maxima 5.46.0 https://maxima.sourceforge.io\n",
      "using Lisp GNU Common Lisp (GCL) GCL 2.6.14 git tag Version_2_6_15pre7\n",
      "Distributed under the GNU Public License. See the file COPYING.\n",
      "Dedicated to the memory of William Schelter.\n",
      "The function bug_report() provides bug reporting information.\n",
      "(%i1) diff(x^2,x)\n",
      "(%o1)                                 2 x\n",
      "Comando ejecutado correctamente.\n"
     ]
    }
   ],
   "source": [
    "# Comprobando la devolución de la ejecución del comando en maxima.\n",
    "import os\n",
    "# Ejemplo: Calcular la derivada de x^2 en Maxima\n",
    "comando = \"maxima --batch-string=\\\"diff(x^2, x);\\\"\"\n",
    "# Ejecutar el comando y capturar el código de salida\n",
    "codigo_salida = os.system(comando)\n",
    "if codigo_salida == 0:\n",
    "    print(\"Comando ejecutado correctamente.\")\n",
    "else:\n",
    "    print(f\"Error al ejecutar el comando. Código de salida: {codigo_salida}\")  \n"
   ]
  },
  {
   "cell_type": "markdown",
   "id": "52daecb7",
   "metadata": {},
   "source": [
    "## Con Os.systen y subprocess"
   ]
  },
  {
   "cell_type": "code",
   "execution_count": 6,
   "id": "9097f11c",
   "metadata": {},
   "outputs": [
    {
     "name": "stdout",
     "output_type": "stream",
     "text": [
      "\n",
      "(%i1) load(mi_script . mac)\n",
      "load: argument must be a string, symbol, or pathname; found: mi_script . mac\n",
      " -- an error. To debug this try: debugmode(true);\n",
      "\n",
      "(%i1) load(mi_script . mac)\n",
      "load: argument must be a string, symbol, or pathname; found: mi_script . mac\n",
      " -- an error. To debug this try: debugmode(true);\n",
      "\n"
     ]
    }
   ],
   "source": [
    "import subprocess\n",
    "import os \n",
    "\n",
    "#Comando para ejecutar Maxima y un script de Maxima\n",
    "comando_maxima = \"maxima -q -r \\\"load(\\\"mi_script.mac\\\");\\\"\"\n",
    "\n",
    "# Ejecutar el comando\n",
    "os.system(comando_maxima)\n",
    "\n",
    "# Si necesitas capturar la salida del comando, puedes usar subprocess.run\n",
    "# import subprocess\n",
    "resultado = subprocess.run(comando_maxima, shell=True, capture_output=True, text=True)\n",
    "print(resultado.stdout)"
   ]
  },
  {
   "cell_type": "markdown",
   "id": "dabe2e29",
   "metadata": {},
   "source": [
    "## Como subproceso\n",
    "\n",
    "Maxima se puede invocar como proceso desde Python con el módulo estándar subprocess.\n",
    "\n",
    "Te permite lanzar un programa externo (como ls, ping, maxima, etc.) desde Python.\n",
    "\n",
    "Capturar lo que ese programa imprime en la terminal.\n",
    "\n",
    "Enviar datos al programa (si espera entrada).\n",
    "\n",
    "Saber si terminó bien o con error."
   ]
  },
  {
   "cell_type": "code",
   "execution_count": 7,
   "id": "62e790f2",
   "metadata": {},
   "outputs": [
    {
     "name": "stdout",
     "output_type": "stream",
     "text": [
      "Salida estándar:\n",
      "total 372\n",
      "-rw-r--r-- 1 miguel miguel 148311 Oct 31 19:47 MacroMaximaJulia.ipynb\n",
      "-rw-r--r-- 1 miguel miguel   5615 Oct 28 23:05 MaximaMacro.jl\n",
      "-rw-r--r-- 1 miguel miguel 176103 Oct 31 14:35 ejecucionMaximaFromJulia.ipynb\n",
      "-rw-r--r-- 1 miguel miguel  20861 Oct 28 23:13 ejecucionMaximaFromPython.ipynb\n",
      "drwxr-xr-x 2 miguel miguel   4096 Oct 28 23:05 images\n",
      "-rw-r--r-- 1 miguel miguel    268 Oct 28 23:05 mi_script.mac\n",
      "-rw-r--r-- 1 miguel miguel   5730 Oct 28 23:05 notacionDiracJupyterNotebook.ipynb\n",
      "drwxr-xr-x 2 miguel miguel   4096 Oct 29 21:43 plots\n",
      "\n",
      "Errores:\n",
      "\n",
      "Código de salida: 0\n"
     ]
    }
   ],
   "source": [
    "import subprocess\n",
    "\n",
    "resultado = subprocess.run([\"ls\", \"-l\"], capture_output=True, text=True)\n",
    "\n",
    "print(\"Salida estándar:\")\n",
    "print(resultado.stdout)\n",
    "\n",
    "print(\"Errores:\")\n",
    "print(resultado.stderr)\n",
    "\n",
    "print(\"Código de salida:\", resultado.returncode)\n"
   ]
  },
  {
   "cell_type": "code",
   "execution_count": 8,
   "id": "53707664",
   "metadata": {},
   "outputs": [
    {
     "name": "stdout",
     "output_type": "stream",
     "text": [
      "Salida estándar:\n",
      "\n",
      "Maxima 5.46.0 https://maxima.sourceforge.io\n",
      "using Lisp GNU Common Lisp (GCL) GCL 2.6.14 git tag Version_2_6_15pre7\n",
      "Distributed under the GNU Public License. See the file COPYING.\n",
      "Dedicated to the memory of William Schelter.\n",
      "The function bug_report() provides bug reporting information.\n",
      "(%i1) diff(x^2,x)\n",
      "(%o1)                                 2 x\n",
      "\n",
      "Errores (si los hay):\n",
      "\n",
      "✅ Comando ejecutado correctamente.\n"
     ]
    }
   ],
   "source": [
    "import subprocess\n",
    "\n",
    "# Ejecutar comando Maxima y capturar salida\n",
    "comando = [\"maxima\", \"--batch-string=diff(x^2, x);\"]\n",
    "# Se supone que con subprocess puedo capturar la salida de mejor manera, pero el resultado es el mismo que con os.system\n",
    "resultado = subprocess.run(comando, capture_output=True, text=True)\n",
    "\n",
    "# Mostrar salida y errores\n",
    "print(\"Salida estándar:\")\n",
    "print(resultado.stdout)\n",
    "print(\"Errores (si los hay):\")\n",
    "print(resultado.stderr)\n",
    "\n",
    "# Verificar éxito\n",
    "if resultado.returncode == 0:\n",
    "    print(\"✅ Comando ejecutado correctamente.\")\n",
    "else:\n",
    "    print(f\"❌ Error al ejecutar el comando. Código: {resultado.returncode}\")"
   ]
  },
  {
   "cell_type": "code",
   "execution_count": 9,
   "id": "a76ee1a5",
   "metadata": {},
   "outputs": [
    {
     "name": "stdout",
     "output_type": "stream",
     "text": [
      "                                   [x = - 1]\n",
      "\n"
     ]
    }
   ],
   "source": [
    "import subprocess\n",
    "\n",
    "def run_maxima(code):\n",
    "    process = subprocess.Popen(\n",
    "        [\"maxima\", \"--very-quiet\"],\n",
    "        stdin=subprocess.PIPE,\n",
    "        stdout=subprocess.PIPE,\n",
    "        stderr=subprocess.PIPE,\n",
    "        text=True\n",
    "    )\n",
    "    out, err = process.communicate(code + \";\\n\")\n",
    "    return out\n",
    "\n",
    "print(run_maxima(\"solve(x^2 + 2*x + 1 = 0, x)\"))"
   ]
  },
  {
   "cell_type": "markdown",
   "id": "245ba196",
   "metadata": {},
   "source": [
    "## Con una función mágica de python\n",
    "\n",
    "La función mágica te permite ejecutar código Maxima dentro de una celda Jupyter Notebook. \n",
    "\n",
    "**Esto significa que puedes escribir código Maxima en una celda y luego ejecutar esa celda para ver el resultado sin tener que salir de tu entorno de desarrollo interactivo.**          "
   ]
  },
  {
   "cell_type": "markdown",
   "id": "3c44cd6a",
   "metadata": {},
   "source": [
    "**Función mágica de línea**"
   ]
  },
  {
   "cell_type": "code",
   "execution_count": 10,
   "id": "31ae2916",
   "metadata": {},
   "outputs": [],
   "source": [
    "from IPython import get_ipython"
   ]
  },
  {
   "cell_type": "code",
   "execution_count": 11,
   "id": "720c2a8a",
   "metadata": {},
   "outputs": [],
   "source": [
    "from IPython.core.magic import register_line_magic\n",
    "import os\n",
    "\n",
    "@register_line_magic\n",
    "def maxima(line):\n",
    "    \"\"\"\n",
    "    Ejecuta un comando Maxima desde Jupyter.\n",
    "    Uso: %maxima <expresión>\n",
    "    \"\"\"\n",
    "    comando = f'echo \"{line}\" | maxima --very-quiet'\n",
    "    resultado = os.popen(comando).read()\n",
    "    print(resultado)\n"
   ]
  },
  {
   "cell_type": "markdown",
   "id": "38295076",
   "metadata": {},
   "source": [
    "De línea significa que con un solo % y en la misma línea "
   ]
  },
  {
   "cell_type": "code",
   "execution_count": 12,
   "id": "496aa56e",
   "metadata": {},
   "outputs": [
    {
     "name": "stdout",
     "output_type": "stream",
     "text": [
      "                               (2 x + 1) del(x)\n",
      "\n"
     ]
    }
   ],
   "source": [
    "%maxima diff(x^2 + x);\n"
   ]
  },
  {
   "cell_type": "markdown",
   "id": "9d51f425",
   "metadata": {},
   "source": [
    "**Función mágica de celda**"
   ]
  },
  {
   "cell_type": "code",
   "execution_count": 13,
   "id": "383a376e",
   "metadata": {},
   "outputs": [],
   "source": [
    "from IPython.core.magic import register_cell_magic\n",
    "\n",
    "@register_cell_magic\n",
    "def maxima(line, cell):\n",
    "    import os\n",
    "    comando = f'echo \"{cell}\" | maxima --very-quiet'\n",
    "    resultado = os.popen(comando).read()\n",
    "    print(resultado)\n",
    "\n"
   ]
  },
  {
   "cell_type": "markdown",
   "id": "2e2ceea3",
   "metadata": {},
   "source": [
    "No hace falta que el comando maxima esté en la misma linea. Todo lo que hay en la celda se enviará a maxima y se obtendrá el resultado."
   ]
  },
  {
   "cell_type": "code",
   "execution_count": 14,
   "id": "10f836e6",
   "metadata": {},
   "outputs": [
    {
     "name": "stdout",
     "output_type": "stream",
     "text": [
      "                               (2 x + 1) del(x)\n",
      "                                       3\n",
      "                                      x\n",
      "                                      --\n",
      "                                      3\n",
      "                            3        2      2      3\n",
      "                           y  + 3 x y  + 3 x  y + x\n",
      "\n"
     ]
    }
   ],
   "source": [
    "%%maxima\n",
    "diff(x^2+x);\n",
    "integrate(x^2, x);\n",
    "expand((x + y)^3);\n"
   ]
  },
  {
   "cell_type": "code",
   "execution_count": 15,
   "id": "2aa963bc",
   "metadata": {},
   "outputs": [
    {
     "name": "stdout",
     "output_type": "stream",
     "text": [
      "                            [    1         1     ]\n",
      "                            [ -------   -------  ]\n",
      "                            [ sqrt(2)   sqrt(2)  ]\n",
      "                            [                    ]\n",
      "                            [    1          1    ]\n",
      "                            [ -------  - ------- ]\n",
      "                            [ sqrt(2)    sqrt(2) ]\n",
      "\n"
     ]
    }
   ],
   "source": [
    "%%maxima\n",
    "1/sqrt(2) * matrix([1, 1], [1, -1]);"
   ]
  },
  {
   "cell_type": "code",
   "execution_count": 16,
   "id": "a6412faa",
   "metadata": {},
   "outputs": [
    {
     "name": "stdout",
     "output_type": "stream",
     "text": [
      "                            [    1         1     ]\n",
      "                            [ -------   -------  ]\n",
      "                            [ sqrt(2)   sqrt(2)  ]\n",
      "                            [                    ]\n",
      "                            [    1          1    ]\n",
      "                            [ -------  - ------- ]\n",
      "                            [ sqrt(2)    sqrt(2) ]\n",
      "                                   [ 1  0 ]\n",
      "                                   [      ]\n",
      "                                   [ 0  1 ]\n",
      "\n"
     ]
    }
   ],
   "source": [
    "%%maxima\n",
    "H : 1/sqrt(2) * matrix([1, 1], [1, -1]); \n",
    "I : ident(2);"
   ]
  },
  {
   "cell_type": "code",
   "execution_count": 17,
   "id": "bad9eff1",
   "metadata": {},
   "outputs": [
    {
     "name": "stdout",
     "output_type": "stream",
     "text": [
      "                                       5\n",
      "                                       6\n",
      "                                      11\n",
      "\n"
     ]
    }
   ],
   "source": [
    "%%maxima\n",
    "a:5;\n",
    "b:6;\n",
    "c:a+b;"
   ]
  },
  {
   "cell_type": "markdown",
   "id": "2ed6822c",
   "metadata": {},
   "source": [
    "### Incluimos qinf"
   ]
  },
  {
   "cell_type": "code",
   "execution_count": 18,
   "id": "a605860c",
   "metadata": {},
   "outputs": [
    {
     "name": "stdout",
     "output_type": "stream",
     "text": [
      "                         /home/miguel/.maxima/qinf.mac\n",
      "                                       5\n",
      "                                      25\n",
      "                                      30\n",
      "                                     [ 0 ]\n",
      "                             density_matrix([ 0 ])\n",
      "                                   [ 1  0 ]\n",
      "                                   [      ]\n",
      "                                   [ 0  1 ]\n",
      "\n"
     ]
    }
   ],
   "source": [
    "%%maxima\n",
    "load(qinf);  \n",
    "a:5;\n",
    "b:a^2;\n",
    "c:a + b;\n",
    "psi:ket(0);\n",
    "rho:density_matrix(psi);\n",
    "H:hadamard(1);"
   ]
  },
  {
   "cell_type": "markdown",
   "id": "84a8576b",
   "metadata": {},
   "source": [
    "Versión de maxima"
   ]
  },
  {
   "cell_type": "code",
   "execution_count": 19,
   "id": "6dc7aa8b",
   "metadata": {},
   "outputs": [
    {
     "name": "stdout",
     "output_type": "stream",
     "text": [
      "Maxima 5.46.0\n"
     ]
    }
   ],
   "source": [
    "!maxima --version"
   ]
  },
  {
   "cell_type": "markdown",
   "id": "bba373f6",
   "metadata": {},
   "source": [
    "### Como instalar maxima si no lo está:\n",
    "\n",
    "Desde el terminal\n",
    "\n",
    "    $ sudo apt-get update\n",
    "\n",
    "    $ sudo apt-get install maxima wxmaxima\n"
   ]
  }
 ],
 "metadata": {
  "kernelspec": {
   "display_name": "CondaCodingWxMaximaEnvironment",
   "language": "python",
   "name": "python3"
  },
  "language_info": {
   "codemirror_mode": {
    "name": "ipython",
    "version": 3
   },
   "file_extension": ".py",
   "mimetype": "text/x-python",
   "name": "python",
   "nbconvert_exporter": "python",
   "pygments_lexer": "ipython3",
   "version": "3.13.5"
  }
 },
 "nbformat": 4,
 "nbformat_minor": 5
}
