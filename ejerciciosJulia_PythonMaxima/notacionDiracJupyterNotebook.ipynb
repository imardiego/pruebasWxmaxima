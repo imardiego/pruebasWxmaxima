{
 "cells": [
  {
   "cell_type": "markdown",
   "id": "02c38c35",
   "metadata": {},
   "source": [
    "# Mostrar notación Dirac en Jupyter Notebook\n",
    "\n",
    "Este notebook muestra como mostrar la notación Dirac en un jupyter notebook. "
   ]
  },
  {
   "cell_type": "markdown",
   "id": "185bf791",
   "metadata": {},
   "source": [
    "#### Notación Dirac con Latex en Markdown\n",
    "Para escribir latex en markdown se utiliza el siguiente formato: ```$latex \\text{formula}$``` \n",
    "\n",
    "Para escribir $\\sum_{i=1}^n i$ se escribe: ```$\\sum_{i=1}^n i$```\n",
    "\n",
    "Para escribir $\\ket{\\psi}$ se escribe: ```$\\ket{\\psi}$```\n",
    "\n",
    "Para escribir $\\langle \\psi | \\hat{H} | \\phi \\rangle$, se esribe: ```$\\langle \\psi | \\hat{H} | \\phi \\rangle$```\n"
   ]
  },
  {
   "cell_type": "markdown",
   "id": "a772521b",
   "metadata": {},
   "source": [
    "#### Inyectar macros en MathJax \n",
    "\n",
    "Podemos hacer una macro al comienzo del notebook para que funcione en todas las celdas: "
   ]
  },
  {
   "cell_type": "code",
   "execution_count": 7,
   "id": "902d088a",
   "metadata": {},
   "outputs": [
    {
     "data": {
      "application/javascript": "MathJax.Hub.Config({\n  TeX: \n    { Macros: {\n        ket: [\"\\\\left| #1 \\\\right\\\\rangle\", 1],\n        bra: [\"\\\\left\\\\langle #1 \\\\right|\", 1],\n        braKet: [\"\\\\langle #1 \\\\rvert #2 \\\\rangle\", 2]\n}}});\n",
      "text/plain": [
       "<IPython.core.display.Javascript object>"
      ]
     },
     "metadata": {},
     "output_type": "display_data"
    }
   ],
   "source": [
    "%%javascript\n",
    "MathJax.Hub.Config({\n",
    "  TeX: \n",
    "    { Macros: {\n",
    "        ket: [\"\\\\left| #1 \\\\right\\\\rangle\", 1],\n",
    "        bra: [\"\\\\left\\\\langle #1 \\\\right|\", 1],\n",
    "        braKet: [\"\\\\langle #1 \\\\rvert #2 \\\\rangle\", 2]\n",
    "}}});"
   ]
  },
  {
   "cell_type": "markdown",
   "id": "70efd6ee",
   "metadata": {},
   "source": [
    "$$\\ket{\\psi} = \\sum_i c_i \\ket{i}$$\n",
    "\n",
    "$$\\bra{\\phi}\\hat{A}\\ket{\\psi}$$\n",
    "\n",
    "$$\\braket{\\phi}{\\psi}$$\n"
   ]
  },
  {
   "cell_type": "markdown",
   "id": "06840ca9",
   "metadata": {},
   "source": [
    "#### En celdas python"
   ]
  },
  {
   "cell_type": "code",
   "execution_count": 1,
   "id": "08a2b0b1",
   "metadata": {},
   "outputs": [
    {
     "data": {
      "text/latex": [
       "$\\displaystyle {\\left\\langle ψ\\right|} H {\\left|φ\\right\\rangle }$"
      ],
      "text/plain": [
       "<IPython.core.display.Math object>"
      ]
     },
     "metadata": {},
     "output_type": "display_data"
    }
   ],
   "source": [
    "from sympy import symbols\n",
    "from sympy.physics.quantum import Bra, Ket\n",
    "from sympy.physics.quantum.dagger import Dagger\n",
    "from sympy import latex\n",
    "from IPython.display import display, Math\n",
    "\n",
    "psi = Ket('ψ')\n",
    "phi = Ket('φ')\n",
    "H = symbols('H', commutative=False)\n",
    "\n",
    "# ejemplo: <ψ|H|φ>\n",
    "expr = Bra('ψ') * H * Ket('φ')\n",
    "display(Math(latex(expr)))\n"
   ]
  },
  {
   "cell_type": "code",
   "execution_count": 6,
   "id": "62fc96c0",
   "metadata": {},
   "outputs": [
    {
     "data": {
      "text/latex": [
       "$\\displaystyle \\langle\\phi|\\psi\\rangle = \\sum_i \\phi_i^* \\psi_i$"
      ],
      "text/plain": [
       "<IPython.core.display.Math object>"
      ]
     },
     "execution_count": 6,
     "metadata": {},
     "output_type": "execute_result"
    }
   ],
   "source": [
    "from IPython.display import Math\n",
    "Math(r\"\\langle\\phi|\\psi\\rangle = \\sum_i \\phi_i^* \\psi_i\")"
   ]
  },
  {
   "cell_type": "code",
   "execution_count": 8,
   "id": "e8a0c8da",
   "metadata": {},
   "outputs": [
    {
     "data": {
      "text/latex": [
       "$\\displaystyle |\\psi\\rangle$"
      ],
      "text/plain": [
       "<IPython.core.display.Math object>"
      ]
     },
     "execution_count": 8,
     "metadata": {},
     "output_type": "execute_result"
    }
   ],
   "source": [
    "from IPython.display import Math\n",
    "\n",
    "Math(r'|\\psi\\rangle')\n"
   ]
  },
  {
   "cell_type": "code",
   "execution_count": 9,
   "id": "37ca0c2e",
   "metadata": {},
   "outputs": [
    {
     "data": {
      "text/latex": [
       "$\\displaystyle |\\psi\\rangle$"
      ],
      "text/plain": [
       "<IPython.core.display.Math object>"
      ]
     },
     "metadata": {},
     "output_type": "display_data"
    },
    {
     "data": {
      "text/latex": [
       "$\\displaystyle \\langle\\psi|$"
      ],
      "text/plain": [
       "<IPython.core.display.Math object>"
      ]
     },
     "metadata": {},
     "output_type": "display_data"
    },
    {
     "data": {
      "text/latex": [
       "$\\displaystyle \\langle\\psi|\\phi\\rangle$"
      ],
      "text/plain": [
       "<IPython.core.display.Math object>"
      ]
     },
     "metadata": {},
     "output_type": "display_data"
    }
   ],
   "source": [
    "from IPython.display import display, Math\n",
    "\n",
    "display(Math(r'|\\psi\\rangle'), Math(r'\\langle\\psi|'), Math(r'\\langle\\psi|\\phi\\rangle'))\n"
   ]
  }
 ],
 "metadata": {
  "kernelspec": {
   "display_name": "CondaCodingWxMaximaEnvironment",
   "language": "python",
   "name": "python3"
  },
  "language_info": {
   "codemirror_mode": {
    "name": "ipython",
    "version": 3
   },
   "file_extension": ".py",
   "mimetype": "text/x-python",
   "name": "python",
   "nbconvert_exporter": "python",
   "pygments_lexer": "ipython3",
   "version": "3.13.5"
  }
 },
 "nbformat": 4,
 "nbformat_minor": 5
}
